{
 "cells": [
  {
   "cell_type": "markdown",
   "metadata": {
    "pycharm": {
     "name": "#%% md\n"
    }
   },
   "source": [
    "# Executor\n",
    "### Use to take measurements"
   ]
  },
  {
   "cell_type": "code",
   "execution_count": null,
   "metadata": {
    "pycharm": {
     "is_executing": true,
     "name": "#%%\n"
    }
   },
   "outputs": [],
   "source": [
    "import nidaqmx\n",
    "from nidaqmx import Task\n",
    "import numpy as np\n",
    "import pandas as pd\n",
    "import matplotlib.pyplot as plt\n",
    "import DAQ\n",
    "from data_structures import experiment\n",
    "\n",
    "# Live plots\n",
    "import matplotlib\n",
    "%matplotlib notebook\n",
    "import IPython\n",
    "from IPython.core.display import display, HTML\n",
    "display(HTML(\"<style>div.output_scroll { height: 70em; width:120em}</style>\"))"
   ]
  },
  {
   "cell_type": "markdown",
   "metadata": {
    "pycharm": {
     "name": "#%% md\n"
    }
   },
   "source": [
    "# Electrochemical Impedance Spectroscopy"
   ]
  },
  {
   "cell_type": "code",
   "execution_count": null,
   "metadata": {
    "pycharm": {
     "name": "#%%\n"
    }
   },
   "outputs": [],
   "source": [
    "'''=========================USER INPUTS========================================'''\n",
    "E_DC = -0.825 # DC potential in V\n",
    "E_AC = 0.010 # AC perturbation in V\n",
    "low_freq = .1 # Lower limit of frequencies to be measured in Hz\n",
    "\n",
    "Rm = 1000 # Rm resistance in Ohms\n",
    "Cm = 1.0e6 # Cm capacitance in Farads"
   ]
  },
  {
   "cell_type": "code",
   "execution_count": null,
   "metadata": {
    "pycharm": {
     "name": "#%%\n"
    },
    "scrolled": true
   },
   "outputs": [],
   "source": [
    "data_EIS, params_EIS = DAQ.take_EIS(E_DC, E_AC, low_freq, Rm, Cm)\n",
    "latest_EIS = experiment(data_EIS, params_EIS, opt_EIS)"
   ]
  },
  {
   "cell_type": "markdown",
   "metadata": {},
   "source": [
    "##### Save data"
   ]
  },
  {
   "cell_type": "code",
   "execution_count": null,
   "metadata": {},
   "outputs": [],
   "source": [
    "analyte = 'Feacac_'\n",
    "electrode = 'GC_'\n",
    "solvent = 'MeCN_'\n",
    "notebook = 'P-03-03'\n",
    "\n",
    "dirname = 'EIS_'+analyte+electrode+solvent+notebook\n",
    "print(dirname)\n",
    "latest_EIS.to_csv(dirname=dirname)"
   ]
  },
  {
   "cell_type": "markdown",
   "metadata": {
    "pycharm": {
     "name": "#%% md\n"
    },
    "tags": []
   },
   "source": [
    "# Cyclic Voltammetry"
   ]
  },
  {
   "cell_type": "code",
   "execution_count": null,
   "metadata": {
    "pycharm": {
     "name": "#%%\n"
    }
   },
   "outputs": [],
   "source": [
    "'''=========================USER INPUTS========================================'''\n",
    "samp_rate = 3600 # sampling rate (samples/s) Use an integral multiple of 120/s and at least 3600 per volt\n",
    "scan_rate = .01 # scan rate (V/s)\n",
    "Rm = 1000 # Rm resistance in Ohms\n",
    "Cm = 1.0e6 # Cm capacitance in Farads\n",
    "# buffer_size = 3600 # passed as a default argument, but changeable.\n",
    "\n",
    "'''Set up potential profile'''\n",
    "h_time = 1  # hold time before sweep in seconds\n",
    "# potential bounds for each section\n",
    "f_start_pot = -0.2# Initial potential\n",
    "f_end_pot = -1.4   # Vertex potential\n",
    "\n",
    "pot_profile, samp_num_tot, scan_rate = DAQ.CV_potential_profile(f_start_pot, f_end_pot, samp_rate, scan_rate, h_time)"
   ]
  },
  {
   "cell_type": "code",
   "execution_count": null,
   "metadata": {
    "pycharm": {
     "name": "#%%\n"
    }
   },
   "outputs": [],
   "source": [
    "data_CV, params_CV = DAQ.take_CV(pot_profile, samp_num_tot, scan_rate, Rm, Cm)\n",
    "latest_CV = experiment(data_CV, params_CV)"
   ]
  },
  {
   "cell_type": "markdown",
   "metadata": {
    "pycharm": {
     "name": "#%%\n"
    }
   },
   "source": [
    "##### Save data"
   ]
  },
  {
   "cell_type": "code",
   "execution_count": null,
   "metadata": {
    "pycharm": {
     "name": "#%%\n"
    }
   },
   "outputs": [],
   "source": [
    "analyte = 'Feacac_'\n",
    "electrode = 'GC_'\n",
    "solvent = 'MeCN_'\n",
    "notebook = 'P-03-03'\n",
    "\n",
    "dirname = 'CV_'+analyte+electrode+solvent+str(latest_CV.params.loc[latest_CV.params['parameter']=='scan_rate', 'value'].item()) + 'Vs-1_'+notebook\n",
    "print(dirname)\n",
    "latest_CV.to_csv(dirname=dirname)"
   ]
  },
  {
   "cell_type": "markdown",
   "metadata": {
    "pycharm": {
     "name": "#%%\n"
    }
   },
   "source": [
    "# Potential Step Chronoamperometry"
   ]
  },
  {
   "cell_type": "code",
   "execution_count": null,
   "metadata": {},
   "outputs": [],
   "source": [
    "'''=========================USER INPUTS========================================'''\n",
    "# samp_rate = 3600 # sampling rate (samples/s) Use an integral multiple of 120/s and at least 3600 per volt. Passed as default argument, but changable.\n",
    "# buffer_size = 3600 # passed as a default argument, but changeable.\n",
    "Rm = 1000 # Rm resistance in Ohms\n",
    "Cm = 1.0e6 # Cm capacitance in Farads\n",
    "\n",
    "'''Set up potential profile'''\n",
    "pot_init = 0\n",
    "pot_step = 0\n",
    "pot_rest = 0\n",
    "pot_init_time = 0\n",
    "pot_step_time = 0\n",
    "pot_rest_time = 0\n",
    "\n",
    "pot_profile, samp_num_tot = DAQ.CA_potential_profile(pot_init, pot_step, pot_rest,\n",
    "                                                     pot_init_time, pot_step_time, pot_rest_time)"
   ]
  },
  {
   "cell_type": "code",
   "execution_count": null,
   "metadata": {},
   "outputs": [],
   "source": [
    "data_CA, params_CA = DAQ.take_CA(pot_profile, samp_num_tot, Rm, Cm)\n",
    "latest_CA = experiment(data_CA, params_CA)"
   ]
  },
  {
   "cell_type": "markdown",
   "metadata": {},
   "source": [
    "##### Save Data"
   ]
  },
  {
   "cell_type": "code",
   "execution_count": null,
   "metadata": {},
   "outputs": [],
   "source": [
    "analyte = 'Feacac_'\n",
    "electrode = 'GC_'\n",
    "solvent = 'MeCN_'\n",
    "notebook = 'P-03-03'\n",
    "\n",
    "dirname = 'CA_'+analyte+electrode+solvent+str(pot_init)+'V-'+str(pot_step)+'V_'+notebook\n",
    "print(dirname)\n",
    "latest_CA.to_csv(dirname=dirname)"
   ]
  }
 ],
 "metadata": {
  "kernelspec": {
   "display_name": "Python 3 (ipykernel)",
   "language": "python",
   "name": "python3"
  },
  "language_info": {
   "codemirror_mode": {
    "name": "ipython",
    "version": 3
   },
   "file_extension": ".py",
   "mimetype": "text/x-python",
   "name": "python",
   "nbconvert_exporter": "python",
   "pygments_lexer": "ipython3",
   "version": "3.8.11"
  }
 },
 "nbformat": 4,
 "nbformat_minor": 4
}
