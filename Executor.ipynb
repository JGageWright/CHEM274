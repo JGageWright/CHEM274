{
 "cells": [
  {
   "cell_type": "markdown",
   "metadata": {
    "collapsed": true,
    "pycharm": {
     "name": "#%% md\n"
    }
   },
   "source": [
    "# Executor\n",
    "### Use to take measurements"
   ]
  },
  {
   "cell_type": "code",
   "execution_count": null,
   "outputs": [],
   "source": [
    "import nidaqmx\n",
    "from nidaqmx import Task\n",
    "import numpy as np\n",
    "import pandas as pd\n",
    "import matplotlib.pyplot as plt\n",
    "import DAQ\n",
    "# from data_structures import experiment\n",
    "\n",
    "# Live plots\n",
    "# import matplotlib\n",
    "# %matplotlib notebook\n",
    "# import IPython\n",
    "# from IPython.core.display import display, HTML\n",
    "# display(HTML(\"<style>div.output_scroll { height: 70em; width:120em}</style>\"))"
   ],
   "metadata": {
    "collapsed": false,
    "pycharm": {
     "name": "#%%\n"
    }
   }
  },
  {
   "cell_type": "markdown",
   "source": [
    "# Electrochemical Impedance Spectroscopy"
   ],
   "metadata": {
    "collapsed": false,
    "pycharm": {
     "name": "#%% md\n"
    }
   }
  },
  {
   "cell_type": "code",
   "execution_count": null,
   "outputs": [],
   "source": [
    "'''=========================USER INPUTS========================================'''\n",
    "E_DC = .40 # DC potential in V\n",
    "E_AC = 0.010 # AC perturbation in V\n",
    "low_freq = 1 # Lower limit of frequencies to be measured in Hz\n",
    "\n",
    "Rm = 1000 # Rm resistance in Ohms\n",
    "Cm = 10.0e-6 # Cm capacitance in Farads"
   ],
   "metadata": {
    "collapsed": false,
    "pycharm": {
     "name": "#%%\n"
    }
   }
  },
  {
   "cell_type": "code",
   "execution_count": null,
   "outputs": [],
   "source": [
    "DAQ.take_EIS(E_DC, E_AC, low_freq, Rm)"
   ],
   "metadata": {
    "collapsed": false,
    "pycharm": {
     "name": "#%%\n"
    }
   }
  },
  {
   "cell_type": "markdown",
   "source": [
    "# Cyclic Voltammetry"
   ],
   "metadata": {
    "collapsed": false,
    "pycharm": {
     "name": "#%% md\n"
    }
   }
  },
  {
   "cell_type": "code",
   "execution_count": 3,
   "outputs": [],
   "source": [
    "'''=========================USER INPUTS========================================'''\n",
    "samp_rate = 3600 # sampling rate (samples/s) Use an integral multiple of 120/s and at least 3600 per volt\n",
    "scan_rate = .100 # scan rate (V/s)\n",
    "buffer_size = 3600\n",
    "\n",
    "'''Set up potential profile'''\n",
    "h_time = 0.3  # hold time before sweep in seconds\n",
    "# potential bounds for each section\n",
    "f_start_pot = 0  # Initial potential\n",
    "f_end_pot = 0.4   # Vertex potential\n",
    "\n",
    "DAQ.set_potential_profile(f_start_pot, f_end_pot, samp_rate, scan_rate, h_time)"
   ],
   "metadata": {
    "collapsed": false,
    "pycharm": {
     "name": "#%%\n"
    }
   }
  },
  {
   "cell_type": "code",
   "execution_count": null,
   "outputs": [],
   "source": [
    "DAQ.take_CV()"
   ],
   "metadata": {
    "collapsed": false,
    "pycharm": {
     "name": "#%%\n"
    }
   }
  }
 ],
 "metadata": {
  "kernelspec": {
   "display_name": "Python 3",
   "language": "python",
   "name": "python3"
  },
  "language_info": {
   "codemirror_mode": {
    "name": "ipython",
    "version": 2
   },
   "file_extension": ".py",
   "mimetype": "text/x-python",
   "name": "python",
   "nbconvert_exporter": "python",
   "pygments_lexer": "ipython2",
   "version": "2.7.6"
  }
 },
 "nbformat": 4,
 "nbformat_minor": 0
}