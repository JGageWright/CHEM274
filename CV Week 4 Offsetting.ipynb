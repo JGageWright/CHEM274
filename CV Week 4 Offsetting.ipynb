{
 "cells": [
  {
   "cell_type": "code",
   "execution_count": 1,
   "metadata": {},
   "outputs": [
    {
     "data": {
      "text/plain": [
       "'/Users/edwardmu/OneDrive - Stanford/Classes/Chem 274 - Echem Lab/Project/Github/CHEM274-new/CHEM274-20211204'"
      ]
     },
     "execution_count": 1,
     "metadata": {},
     "output_type": "execute_result"
    }
   ],
   "source": [
    "import numpy as np\n",
    "import pandas as pd\n",
    "from importer_snippets import load_experiment\n",
    "from scipy.signal import find_peaks, savgol_filter\n",
    "import matplotlib.pyplot as plt\n",
    "#plt.style.use('JGW')\n",
    "import os\n",
    "os.getcwd()"
   ]
  },
  {
   "cell_type": "markdown",
   "metadata": {
    "pycharm": {
     "name": "#%% md\n"
    }
   },
   "source": [
    "# Cyclic Voltammograms"
   ]
  },
  {
   "cell_type": "code",
   "execution_count": 18,
   "metadata": {
    "jupyter": {
     "outputs_hidden": false
    },
    "pycharm": {
     "name": "#%%\n"
    }
   },
   "outputs": [],
   "source": [
    "CV = load_experiment()"
   ]
  },
  {
   "cell_type": "code",
   "execution_count": 19,
   "metadata": {
    "jupyter": {
     "outputs_hidden": false
    },
    "pycharm": {
     "is_executing": true,
     "name": "#%%\n"
    }
   },
   "outputs": [
    {
     "data": {
      "text/plain": [
       "<matplotlib.legend.Legend at 0x7fd563cc2ca0>"
      ]
     },
     "execution_count": 19,
     "metadata": {},
     "output_type": "execute_result"
    },
    {
     "data": {
      "image/png": "[encoded data removed]",
      "text/plain": [
       "<Figure size 432x288 with 1 Axes>"
      ]
     },
     "metadata": {
      "needs_background": "light"
     },
     "output_type": "display_data"
    }
   ],
   "source": [
    "# Plot CV Data\n",
    "fig = plt.figure()\n",
    "ax = fig.add_subplot()\n",
    "\n",
    "# ax.set_title('Cyclic Voltammogram')\n",
    "ax.tick_params(axis='both', which='both', direction='in', right=True, top=True)\n",
    "# ax.set_prop_cycle(cc2)\n",
    "ax.scatter(CV.data['Ecell'], CV.data['iw'], label = '$v=$ '+str(CV.params.loc[CV.params['parameter']=='scan_rate', 'value'].item()) + ' V/s')\n",
    "ax.set_xlabel('$E_{cell}$ / V')\n",
    "ax.set_ylabel('$i_{w}$ / $A$')\n",
    "\n",
    "ax.ticklabel_format(style='sci', axis='y', scilimits=(0,0))\n",
    "#plt.style.use('JGW')\n",
    "fig.legend()"
   ]
  },
  {
   "cell_type": "code",
   "execution_count": 14,
   "metadata": {},
   "outputs": [
    {
     "data": {
      "text/html": [
       "<div>\n",
       "<style scoped>\n",
       "    .dataframe tbody tr th:only-of-type {\n",
       "        vertical-align: middle;\n",
       "    }\n",
       "\n",
       "    .dataframe tbody tr th {\n",
       "        vertical-align: top;\n",
       "    }\n",
       "\n",
       "    .dataframe thead th {\n",
       "        text-align: right;\n",
       "    }\n",
       "</style>\n",
       "<table border=\"1\" class=\"dataframe\">\n",
       "  <thead>\n",
       "    <tr style=\"text-align: right;\">\n",
       "      <th></th>\n",
       "      <th>E_program</th>\n",
       "      <th>Ecell</th>\n",
       "      <th>iw</th>\n",
       "      <th>t</th>\n",
       "    </tr>\n",
       "  </thead>\n",
       "  <tbody>\n",
       "    <tr>\n",
       "      <th>0</th>\n",
       "      <td>-0.500000</td>\n",
       "      <td>-0.592946</td>\n",
       "      <td>-1.049353e-06</td>\n",
       "      <td>0.000000</td>\n",
       "    </tr>\n",
       "    <tr>\n",
       "      <th>1</th>\n",
       "      <td>-0.500000</td>\n",
       "      <td>-0.593604</td>\n",
       "      <td>-7.204973e-07</td>\n",
       "      <td>0.000278</td>\n",
       "    </tr>\n",
       "    <tr>\n",
       "      <th>2</th>\n",
       "      <td>-0.500000</td>\n",
       "      <td>-0.593604</td>\n",
       "      <td>-7.204973e-07</td>\n",
       "      <td>0.000556</td>\n",
       "    </tr>\n",
       "    <tr>\n",
       "      <th>3</th>\n",
       "      <td>-0.500000</td>\n",
       "      <td>-0.593604</td>\n",
       "      <td>-7.204973e-07</td>\n",
       "      <td>0.000833</td>\n",
       "    </tr>\n",
       "    <tr>\n",
       "      <th>4</th>\n",
       "      <td>-0.500000</td>\n",
       "      <td>-0.593275</td>\n",
       "      <td>-7.204973e-07</td>\n",
       "      <td>0.001111</td>\n",
       "    </tr>\n",
       "    <tr>\n",
       "      <th>...</th>\n",
       "      <td>...</td>\n",
       "      <td>...</td>\n",
       "      <td>...</td>\n",
       "      <td>...</td>\n",
       "    </tr>\n",
       "    <tr>\n",
       "      <th>187195</th>\n",
       "      <td>-0.499956</td>\n",
       "      <td>-0.593275</td>\n",
       "      <td>-2.364774e-06</td>\n",
       "      <td>51.998611</td>\n",
       "    </tr>\n",
       "    <tr>\n",
       "      <th>187196</th>\n",
       "      <td>-0.499967</td>\n",
       "      <td>-0.593933</td>\n",
       "      <td>-2.035918e-06</td>\n",
       "      <td>51.998889</td>\n",
       "    </tr>\n",
       "    <tr>\n",
       "      <th>187197</th>\n",
       "      <td>-0.499978</td>\n",
       "      <td>-0.593275</td>\n",
       "      <td>-2.693629e-06</td>\n",
       "      <td>51.999167</td>\n",
       "    </tr>\n",
       "    <tr>\n",
       "      <th>187198</th>\n",
       "      <td>-0.499989</td>\n",
       "      <td>-0.593933</td>\n",
       "      <td>-2.035918e-06</td>\n",
       "      <td>51.999444</td>\n",
       "    </tr>\n",
       "    <tr>\n",
       "      <th>187199</th>\n",
       "      <td>-0.500000</td>\n",
       "      <td>-0.593933</td>\n",
       "      <td>-1.707063e-06</td>\n",
       "      <td>51.999722</td>\n",
       "    </tr>\n",
       "  </tbody>\n",
       "</table>\n",
       "<p>187200 rows × 4 columns</p>\n",
       "</div>"
      ],
      "text/plain": [
       "        E_program     Ecell            iw          t\n",
       "0       -0.500000 -0.592946 -1.049353e-06   0.000000\n",
       "1       -0.500000 -0.593604 -7.204973e-07   0.000278\n",
       "2       -0.500000 -0.593604 -7.204973e-07   0.000556\n",
       "3       -0.500000 -0.593604 -7.204973e-07   0.000833\n",
       "4       -0.500000 -0.593275 -7.204973e-07   0.001111\n",
       "...           ...       ...           ...        ...\n",
       "187195  -0.499956 -0.593275 -2.364774e-06  51.998611\n",
       "187196  -0.499967 -0.593933 -2.035918e-06  51.998889\n",
       "187197  -0.499978 -0.593275 -2.693629e-06  51.999167\n",
       "187198  -0.499989 -0.593933 -2.035918e-06  51.999444\n",
       "187199  -0.500000 -0.593933 -1.707063e-06  51.999722\n",
       "\n",
       "[187200 rows x 4 columns]"
      ]
     },
     "execution_count": 14,
     "metadata": {},
     "output_type": "execute_result"
    }
   ],
   "source": [
    "#Display CV Data\n",
    "CV.data"
   ]
  },
  {
   "cell_type": "code",
   "execution_count": 12,
   "metadata": {},
   "outputs": [],
   "source": [
    "#Carry out offset operation\n",
    "#The difference in E1/2 is 0.094010 V. \n",
    "#Potentials from week 4 will be subtracted by this value to return potentials referenced to week 3's \n",
    "#reference electrode.\n",
    "\n",
    "CV.data['Ecell'] = CV.data['Ecell'] - 0.094010"
   ]
  },
  {
   "cell_type": "code",
   "execution_count": 15,
   "metadata": {},
   "outputs": [],
   "source": [
    "CV.to_csv('/Users/edwardmu/OneDrive - Stanford/Classes/Chem 274 - Echem Lab/Project/Github/CHEM274-new/CHEM274-20211204/CV Week 4 Offsetting/09 FcStar in dry MeAc/__09-02 through 09-06/CV_FcStar_GC_MeAc_0.04Vs-1_P-09-06',\n",
    "         dirname = 'Offset Data')"
   ]
  },
  {
   "cell_type": "markdown",
   "metadata": {},
   "source": [
    "### Find CV Peaks"
   ]
  },
  {
   "cell_type": "code",
   "execution_count": 16,
   "metadata": {
    "pycharm": {
     "is_executing": true
    }
   },
   "outputs": [
    {
     "name": "stdout",
     "output_type": "stream",
     "text": [
      "{'ipa': 1.6051121189801995e-05, 'Epa': -0.02205347956776879, 'ipc': -1.1901575871659547e-05, 'Epc': -0.0963747735365938}\n"
     ]
    }
   ],
   "source": [
    "# Smooth data using the Savitski Golay method\n",
    "smooth_iw = savgol_filter(CV.data['iw'], 25, 2)\n",
    "# Check the result\n",
    "# plt.plot(CV.data['Ecell'], smooth_iw, zorder=1, color='r')\n",
    "# plt.plot(CV.data['Ecell'], CV.data['iw'], label = '$v=$ '+str(CV.params.loc[CV.params['parameter']=='scan_rate', 'value'].item()) + ' V/s', zorder=0)\n",
    "# plt.xlim(-.75, -.74)\n",
    "# plt.ylim(.00003, .00004)\n",
    "\n",
    "# Maxima\n",
    "find_ipa = find_peaks(smooth_iw, height=0, width=500) # Must give minimum height to get peak_heights dict.\n",
    "ipa, Epa = CV.data['iw'][find_ipa[0]].to_numpy(), CV.data['Ecell'][find_ipa[0]].to_numpy()\n",
    "\n",
    "# Invert signal to find minima - Signals are negative but indicies are correct!\n",
    "find_ipc = find_peaks(-smooth_iw, height=0, width=500) # Remember to un-invert anytime if calling ipc values from find_ipc, but not indicies.\n",
    "ipc, Epc = CV.data['iw'][find_ipc[0]].to_numpy(), CV.data['Ecell'][find_ipc[0]].to_numpy()\n",
    "\n",
    "peaks = {'ipa': ipa[0], 'Epa': Epa[0], 'ipc': ipc[0], 'Epc': Epc[0]}\n",
    "# df = pd.DataFrame(data=peaks, index=[CV.params.loc[CV.params['parameter']=='scan_rate', 'value'].item()]) # Gives a little table, but rounds values...\n",
    "print(peaks)\n",
    "\n"
   ]
  },
  {
   "cell_type": "markdown",
   "metadata": {},
   "source": [
    "#### Peak picking and figure saving"
   ]
  },
  {
   "cell_type": "code",
   "execution_count": 17,
   "metadata": {
    "pycharm": {
     "is_executing": true
    },
    "tags": []
   },
   "outputs": [
    {
     "data": {
      "image/png": "[encoded data removed]",
      "text/plain": [
       "<Figure size 432x288 with 1 Axes>"
      ]
     },
     "metadata": {
      "needs_background": "light"
     },
     "output_type": "display_data"
    },
    {
     "ename": "NameError",
     "evalue": "name 'save_CV_fig' is not defined",
     "output_type": "error",
     "traceback": [
      "\u001b[0;31m---------------------------------------------------------------------------\u001b[0m",
      "\u001b[0;31mNameError\u001b[0m                                 Traceback (most recent call last)",
      "\u001b[0;32m<ipython-input-17-b7ee77728b4d>\u001b[0m in \u001b[0;36m<module>\u001b[0;34m\u001b[0m\n\u001b[1;32m     21\u001b[0m \u001b[0;34m\u001b[0m\u001b[0m\n\u001b[1;32m     22\u001b[0m \u001b[0mplt\u001b[0m\u001b[0;34m.\u001b[0m\u001b[0mshow\u001b[0m\u001b[0;34m(\u001b[0m\u001b[0;34m)\u001b[0m\u001b[0;34m\u001b[0m\u001b[0;34m\u001b[0m\u001b[0m\n\u001b[0;32m---> 23\u001b[0;31m \u001b[0msave_CV_fig\u001b[0m\u001b[0;34m(\u001b[0m\u001b[0mfig\u001b[0m\u001b[0;34m,\u001b[0m \u001b[0manalyte\u001b[0m\u001b[0;34m,\u001b[0m \u001b[0melectrode\u001b[0m\u001b[0;34m,\u001b[0m \u001b[0msolvent\u001b[0m\u001b[0;34m,\u001b[0m \u001b[0mnotebook\u001b[0m\u001b[0;34m)\u001b[0m\u001b[0;34m\u001b[0m\u001b[0;34m\u001b[0m\u001b[0m\n\u001b[0m\u001b[1;32m     24\u001b[0m \u001b[0;31m#save_CV_fig(fig, )\u001b[0m\u001b[0;34m\u001b[0m\u001b[0;34m\u001b[0m\u001b[0;34m\u001b[0m\u001b[0m\n",
      "\u001b[0;31mNameError\u001b[0m: name 'save_CV_fig' is not defined"
     ]
    }
   ],
   "source": [
    "# Draw same plot as above, but with peaks\n",
    "fig = plt.figure()\n",
    "ax = fig.add_subplot()\n",
    "\n",
    "ax.tick_params(axis='both', which='both', direction='in', right=True, top=True)\n",
    "ax.plot(CV.data['Ecell'], CV.data['iw'], label = '$v=$ '+str(CV.params.loc[CV.params['parameter']=='scan_rate', 'value'].item()) + ' V/s', zorder=0)\n",
    "ax.plot(CV.data['Ecell'], smooth_iw, color='C2', label='Savitsky-Golay', lw=.5, zorder=.5)\n",
    "ax.scatter([*Epa, *Epc], [*ipa, *ipc], color='C1', label='Peaks', marker='|', s=200, zorder=1)\n",
    "fig.tight_layout()\n",
    "\n",
    "# ax.set_title('Cyclic Voltammogram')\n",
    "ax.set_xlabel('$E_{cell}$ / V')\n",
    "ax.set_ylabel('$i_{w}$ / $A$')\n",
    "ax.ticklabel_format(style='sci', axis='y', scilimits=(0,0))\n",
    "fig.legend(loc=(0.75, 0.78))\n",
    "\n",
    "analyte = 'FcStar_'\n",
    "electrode = 'GC_'\n",
    "solvent = 'MeAc'\n",
    "notebook = '_P-09-03'\n",
    "\n",
    "plt.show()\n",
    "save_CV_fig(fig, analyte, electrode, solvent, notebook)\n",
    "#save_CV_fig(fig, )"
   ]
  },
  {
   "cell_type": "code",
   "execution_count": 120,
   "metadata": {
    "tags": []
   },
   "outputs": [],
   "source": [
    "def save_CV_fig(fig, analyte, electrode, solvent, notebook):\n",
    "    ans = input('Save the figure?')\n",
    "    if ans in ['y', 'yes', 'Yes', 'yeye', 'yeah', 'why, certainly', True]:\n",
    "        fig.savefig(\"C:\\\\Users\\\\jgage\\\\Documents\\GitHub\\\\CHEM274\\\\data\\\\figs\\\\CV_\"+\n",
    "            analyte + electrode + solvent +\n",
    "            str(CV.params.loc[CV.params['parameter']=='scan_rate', 'value'].item()) + 'Vs-1_'+\n",
    "                notebook+'.jpg')\n",
    "        print('Saved')\n",
    "    else:\n",
    "        print('Not saved')"
   ]
  },
  {
   "cell_type": "markdown",
   "metadata": {},
   "source": [
    "##### "
   ]
  },
  {
   "cell_type": "code",
   "execution_count": null,
   "metadata": {},
   "outputs": [],
   "source": []
  }
 ],
 "metadata": {
  "kernelspec": {
   "display_name": "Python 3",
   "language": "python",
   "name": "python3"
  },
  "language_info": {
   "codemirror_mode": {
    "name": "ipython",
    "version": 3
   },
   "file_extension": ".py",
   "mimetype": "text/x-python",
   "name": "python",
   "nbconvert_exporter": "python",
   "pygments_lexer": "ipython3",
   "version": "3.8.8"
  }
 },
 "nbformat": 4,
 "nbformat_minor": 4
}
