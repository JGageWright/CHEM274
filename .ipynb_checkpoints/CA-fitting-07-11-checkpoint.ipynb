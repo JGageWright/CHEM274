{
 "cells": [
  {
   "cell_type": "code",
   "execution_count": 1,
   "id": "c080dfdd-fe7d-46dd-9894-6d03e10a6265",
   "metadata": {},
   "outputs": [
    {
     "data": {
      "text/plain": [
       "'/Users/edwardmu/OneDrive - Stanford/Classes/Chem 274 - Echem Lab/Project/Github/CHEM274-new/CHEM274-20211204'"
      ]
     },
     "execution_count": 1,
     "metadata": {},
     "output_type": "execute_result"
    }
   ],
   "source": [
    "import pandas as pd\n",
    "import matplotlib.pyplot as plt\n",
    "%matplotlib inline\n",
    "import numpy as np\n",
    "import os\n",
    "from scipy.optimize import curve_fit\n",
    "os.getcwd()"
   ]
  },
  {
   "cell_type": "code",
   "execution_count": 2,
   "id": "f107aaa3-4995-424f-acd5-067110600057",
   "metadata": {},
   "outputs": [
    {
     "data": {
      "text/html": [
       "<div>\n",
       "<style scoped>\n",
       "    .dataframe tbody tr th:only-of-type {\n",
       "        vertical-align: middle;\n",
       "    }\n",
       "\n",
       "    .dataframe tbody tr th {\n",
       "        vertical-align: top;\n",
       "    }\n",
       "\n",
       "    .dataframe thead th {\n",
       "        text-align: right;\n",
       "    }\n",
       "</style>\n",
       "<table border=\"1\" class=\"dataframe\">\n",
       "  <thead>\n",
       "    <tr style=\"text-align: right;\">\n",
       "      <th></th>\n",
       "      <th>Unnamed: 0</th>\n",
       "      <th>E_program</th>\n",
       "      <th>Ecell</th>\n",
       "      <th>iw</th>\n",
       "      <th>t</th>\n",
       "    </tr>\n",
       "  </thead>\n",
       "  <tbody>\n",
       "    <tr>\n",
       "      <th>0</th>\n",
       "      <td>0</td>\n",
       "      <td>0.0</td>\n",
       "      <td>-0.000314</td>\n",
       "      <td>-3.136978e-07</td>\n",
       "      <td>0.000000</td>\n",
       "    </tr>\n",
       "    <tr>\n",
       "      <th>1</th>\n",
       "      <td>1</td>\n",
       "      <td>0.0</td>\n",
       "      <td>0.000344</td>\n",
       "      <td>1.525869e-08</td>\n",
       "      <td>0.000278</td>\n",
       "    </tr>\n",
       "    <tr>\n",
       "      <th>2</th>\n",
       "      <td>2</td>\n",
       "      <td>0.0</td>\n",
       "      <td>0.000015</td>\n",
       "      <td>6.731716e-07</td>\n",
       "      <td>0.000556</td>\n",
       "    </tr>\n",
       "    <tr>\n",
       "      <th>3</th>\n",
       "      <td>3</td>\n",
       "      <td>0.0</td>\n",
       "      <td>0.000344</td>\n",
       "      <td>3.442151e-07</td>\n",
       "      <td>0.000833</td>\n",
       "    </tr>\n",
       "    <tr>\n",
       "      <th>4</th>\n",
       "      <td>4</td>\n",
       "      <td>0.0</td>\n",
       "      <td>0.000015</td>\n",
       "      <td>1.525869e-08</td>\n",
       "      <td>0.001111</td>\n",
       "    </tr>\n",
       "    <tr>\n",
       "      <th>...</th>\n",
       "      <td>...</td>\n",
       "      <td>...</td>\n",
       "      <td>...</td>\n",
       "      <td>...</td>\n",
       "      <td>...</td>\n",
       "    </tr>\n",
       "    <tr>\n",
       "      <th>867595</th>\n",
       "      <td>867595</td>\n",
       "      <td>1.2</td>\n",
       "      <td>1.200049</td>\n",
       "      <td>4.620649e-06</td>\n",
       "      <td>240.998611</td>\n",
       "    </tr>\n",
       "    <tr>\n",
       "      <th>867596</th>\n",
       "      <td>867596</td>\n",
       "      <td>1.2</td>\n",
       "      <td>1.200378</td>\n",
       "      <td>4.949605e-06</td>\n",
       "      <td>240.998889</td>\n",
       "    </tr>\n",
       "    <tr>\n",
       "      <th>867597</th>\n",
       "      <td>867597</td>\n",
       "      <td>1.2</td>\n",
       "      <td>1.200378</td>\n",
       "      <td>5.278562e-06</td>\n",
       "      <td>240.999167</td>\n",
       "    </tr>\n",
       "    <tr>\n",
       "      <th>867598</th>\n",
       "      <td>867598</td>\n",
       "      <td>1.2</td>\n",
       "      <td>1.200049</td>\n",
       "      <td>5.278562e-06</td>\n",
       "      <td>240.999444</td>\n",
       "    </tr>\n",
       "    <tr>\n",
       "      <th>867599</th>\n",
       "      <td>867599</td>\n",
       "      <td>1.2</td>\n",
       "      <td>1.200049</td>\n",
       "      <td>4.620649e-06</td>\n",
       "      <td>240.999722</td>\n",
       "    </tr>\n",
       "  </tbody>\n",
       "</table>\n",
       "<p>867600 rows × 5 columns</p>\n",
       "</div>"
      ],
      "text/plain": [
       "        Unnamed: 0  E_program     Ecell            iw           t\n",
       "0                0        0.0 -0.000314 -3.136978e-07    0.000000\n",
       "1                1        0.0  0.000344  1.525869e-08    0.000278\n",
       "2                2        0.0  0.000015  6.731716e-07    0.000556\n",
       "3                3        0.0  0.000344  3.442151e-07    0.000833\n",
       "4                4        0.0  0.000015  1.525869e-08    0.001111\n",
       "...            ...        ...       ...           ...         ...\n",
       "867595      867595        1.2  1.200049  4.620649e-06  240.998611\n",
       "867596      867596        1.2  1.200378  4.949605e-06  240.998889\n",
       "867597      867597        1.2  1.200378  5.278562e-06  240.999167\n",
       "867598      867598        1.2  1.200049  5.278562e-06  240.999444\n",
       "867599      867599        1.2  1.200049  4.620649e-06  240.999722\n",
       "\n",
       "[867600 rows x 5 columns]"
      ]
     },
     "execution_count": 2,
     "metadata": {},
     "output_type": "execute_result"
    }
   ],
   "source": [
    "data = pd.read_csv('data/CA_Fc_GC_MeAc_0V-1.2V_P-07-11/data.csv', sep=',')\n",
    "data"
   ]
  },
  {
   "cell_type": "code",
   "execution_count": 3,
   "id": "47e03c08",
   "metadata": {},
   "outputs": [
    {
     "data": {
      "text/plain": [
       "<AxesSubplot:xlabel='t'>"
      ]
     },
     "execution_count": 3,
     "metadata": {},
     "output_type": "execute_result"
    },
    {
     "data": {
      "image/png": "[encoded data removed]",
      "text/plain": [
       "<Figure size 432x288 with 1 Axes>"
      ]
     },
     "metadata": {
      "needs_background": "light"
     },
     "output_type": "display_data"
    }
   ],
   "source": [
    "data.plot('t', 'iw', xlim=(0,2))"
   ]
  },
  {
   "cell_type": "code",
   "execution_count": 4,
   "id": "5e7c84b6",
   "metadata": {},
   "outputs": [
    {
     "name": "stdout",
     "output_type": "stream",
     "text": [
      "0.7811111111111111\n"
     ]
    }
   ],
   "source": [
    "index_max = data['iw'].idxmax()\n",
    "time_max = data.loc[index_max,'t']\n",
    "print(time_max)"
   ]
  },
  {
   "cell_type": "code",
   "execution_count": 5,
   "id": "6d05756f-e2c8-4a63-ae01-8daccc10130b",
   "metadata": {},
   "outputs": [
    {
     "name": "stdout",
     "output_type": "stream",
     "text": [
      "0.002432\n"
     ]
    }
   ],
   "source": [
    "# In E4, near optimal values of Rm and Cm were:\n",
    "Rm = 10000 #10 kOhm\n",
    "Cm = 100e-9 #100 nF\n",
    "pstat_time_constant = Rm*Cm\n",
    "\n",
    "# From an EIS spectrum of Fc in dry MeAc, Ru and Cdl are approximately:\n",
    "Ru = 4.00e+02\n",
    "Cdl = 3.58e-06\n",
    "cell_time_constant = Ru*Cdl\n",
    "\n",
    "#Value of the combined time constant tau\n",
    "\n",
    "print(cell_time_constant + pstat_time_constant)"
   ]
  },
  {
   "cell_type": "code",
   "execution_count": 6,
   "id": "b1a9ebf1-c299-4412-abee-4faa60899b22",
   "metadata": {},
   "outputs": [],
   "source": [
    "pot_step_time = time_max # step time start in s\n",
    "pot_rest_time = data.iloc[-1,-1] # rest time start in s\n",
    "\n",
    "# For both of these capacitors to charge, we should ignore data before at least 5τ of each:\n",
    "fit_start_time = pot_step_time + (5 * (cell_time_constant + pstat_time_constant))\n",
    "\n",
    "# Fit until 5 ms before the rest step\n",
    "fit_times = data[data['t'].between(fit_start_time, pot_rest_time - 0.005)]['t'].to_numpy()\n",
    "fit_currents = data[data['t'].between(fit_start_time, pot_rest_time - 0.005)]['iw'].to_numpy()\n",
    "\n",
    "fit_times_no_offset = fit_times - pot_step_time\n",
    "#print(fit_times_no_offset)"
   ]
  },
  {
   "cell_type": "code",
   "execution_count": 7,
   "id": "37768ce3-f6e8-4bb8-89d7-1c43a8c31164",
   "metadata": {},
   "outputs": [
    {
     "name": "stdout",
     "output_type": "stream",
     "text": [
      "a = 3.379E-05\n",
      "D = 6.245E-05 cm^2 s^-1\n"
     ]
    },
    {
     "data": {
      "text/plain": [
       "[<matplotlib.lines.Line2D at 0x7faa0a0e4280>]"
      ]
     },
     "execution_count": 7,
     "metadata": {},
     "output_type": "execute_result"
    },
    {
     "data": {
      "image/png": "[encoded data removed]",
      "text/plain": [
       "<Figure size 1080x720 with 2 Axes>"
      ]
     },
     "metadata": {
      "needs_background": "light"
     },
     "output_type": "display_data"
    }
   ],
   "source": [
    "#Defines a function for curve_fit to fit to\n",
    "\n",
    "def Empirical_Cottrell(t, a):\n",
    "    return a / np.sqrt(t)\n",
    "\n",
    "#Implementing curve_fit to solve for the empirical Cottrell prefactor a\n",
    "\n",
    "guess_prefactor = 1e-10\n",
    "fit_prefactor, cov = curve_fit(Empirical_Cottrell, fit_times_no_offset, fit_currents, guess_prefactor)\n",
    "print('a = {0:.3E}'.format(fit_prefactor[0]))\n",
    "\n",
    "#Calculating the diffusion constant D based on the fitted prefactor a, and the Cottrell Equation\n",
    "\n",
    "a = fit_prefactor[0]\n",
    "n = 1\n",
    "F = 96485 #C/mol\n",
    "A = np.pi*2.5**2/1000**2 #m^2\n",
    "C_bulk = 0.4 #mol*m^-2\n",
    "D = (a**2 * np.pi) / (n*F*A*C_bulk)**2 * 100**2 #cm^2/s\n",
    "print('D = {0:.3E}'.format(D) + ' cm^2 s^-1')\n",
    "\n",
    "#Plotting the chronoamperometry curve with the Cottrell Equation fit\n",
    "\n",
    "fig, (ax1, ax2) = plt.subplots(1,2, figsize = (15,10))\n",
    "ax1.scatter(data['t'], data['iw'], label = 'Data', color = 'greenyellow')\n",
    "ax1.set_ylabel('$i_w$ / A', fontsize = 15)\n",
    "ax1.set_xlabel('t / s', fontsize = 15)\n",
    "#ax.set_xlim(.99, 2.01)\n",
    "ax1.plot(fit_times, Empirical_Cottrell(fit_times_no_offset,a), color='red', label = 'Cottrell Equation Fit - Forward Step', linewidth=3)\n",
    "ax1.legend(fontsize = 15)\n",
    "\n",
    "ax2.scatter(data['t'], data['iw'], label = 'Data', color = 'greenyellow')\n",
    "ax2.set_title('Zoomed-In')\n",
    "ax2.set_ylabel('$i_w$ / A', fontsize = 15)\n",
    "ax2.set_xlabel('t / s', fontsize = 15)\n",
    "ax2.set_xlim(0, 3)\n",
    "ax2.plot(fit_times, Empirical_Cottrell(fit_times_no_offset,a), color='red', label = 'Cottrell Equation Fit - Forward Step', linewidth=3)\n",
    "#ax2.legend(fontsize = 15)"
   ]
  },
  {
   "cell_type": "code",
   "execution_count": null,
   "id": "da0c31a4",
   "metadata": {},
   "outputs": [],
   "source": []
  },
  {
   "cell_type": "code",
   "execution_count": null,
   "id": "253886eb",
   "metadata": {},
   "outputs": [],
   "source": []
  }
 ],
 "metadata": {
  "kernelspec": {
   "display_name": "Python 3",
   "language": "python",
   "name": "python3"
  },
  "language_info": {
   "codemirror_mode": {
    "name": "ipython",
    "version": 3
   },
   "file_extension": ".py",
   "mimetype": "text/x-python",
   "name": "python",
   "nbconvert_exporter": "python",
   "pygments_lexer": "ipython3",
   "version": "3.8.8"
  }
 },
 "nbformat": 4,
 "nbformat_minor": 5
}
