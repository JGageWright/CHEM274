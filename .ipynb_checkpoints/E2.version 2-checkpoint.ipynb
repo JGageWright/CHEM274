{
 "cells": [
  {
   "cell_type": "markdown",
   "metadata": {},
   "source": [
    "# Import relevant libraries and packages. "
   ]
  },
  {
   "cell_type": "code",
   "execution_count": 59,
   "metadata": {},
   "outputs": [],
   "source": [
    "import nidaqmx\n",
    "from nidaqmx import Task\n",
    "import matplotlib.pyplot as plt\n",
    "import numpy as np\n",
    "import pandas as pd\n",
    "import serial\n",
    "from serial.tools import list_ports\n",
    "import time\n"
   ]
  },
  {
   "cell_type": "markdown",
   "metadata": {},
   "source": [
    "# Define Functions \n",
    "\n",
    "Define the functions that will be used to control the syringe pump and acquire data"
   ]
  },
  {
   "cell_type": "code",
   "execution_count": 60,
   "metadata": {},
   "outputs": [],
   "source": [
    "def get_device_port():\n",
    "    \n",
    "    \"\"\"\n",
    "    'get_device_port'  obtains the pump device port which is usually the highest device port\n",
    "\n",
    "    Returns: \n",
    "        Device Port\n",
    "    \"\"\"\n",
    "    \n",
    "    #Iterate through list in reverse to get highest device COM port\n",
    "    for comport in reversed(list_ports.comports()):\n",
    "        device_name = comport.device\n",
    "        with serial.Serial(device_name, timeout=3) as ser: \n",
    "            ser.write(b'/1?\\r')\n",
    "            reading=ser.read_until(b'\\r')\n",
    "            if(reading):\n",
    "                return device_name\n",
    "    raise IOError(\"Syringe not found\")\n"
   ]
  },
  {
   "cell_type": "code",
   "execution_count": 61,
   "metadata": {},
   "outputs": [],
   "source": [
    "def initialize_and_fill():\n",
    "    \n",
    "    ''''\n",
    "    This function initializes the pump and fills the syringe. \n",
    "    It then releases 1000 steps into the output syringe to remove backlash. \n",
    "    The pump must be empty before this is called. \n",
    "    '''\n",
    "    \n",
    "    print('filling syringe')\n",
    "    \n",
    "    device_port = get_device_port()\n",
    "    with serial.Serial(device_port, timeout=5) as ser:\n",
    "        ser.write(b'/1ZN1R\\r')\n",
    "        time.sleep(5)\n",
    "        ser.write(b'/1IA12000R\\r')\n",
    "        time.sleep(5)\n",
    "        ser.write(b'/1OD1000R\\r')\n",
    "        \n",
    "        # the length of sleep may be shortened\n",
    "        # but must be sufficiently long between commands sent to the syringe pump\n",
    "        time.sleep(5)\n",
    "        "
   ]
  },
  {
   "cell_type": "code",
   "execution_count": 62,
   "metadata": {},
   "outputs": [],
   "source": [
    "def return_and_close():\n",
    "    \n",
    "    '''\n",
    "    This function returns the untitrated amount back to the input syringe\n",
    "    '''\n",
    "    \n",
    "    print('emptying syringe')\n",
    "    \n",
    "    device_port = get_device_port()\n",
    "    with serial.Serial(device_port, timeout=5) as ser:\n",
    "        ser.write(b'/1IA0R\\r')\n",
    "    \n",
    "    "
   ]
  },
  {
   "cell_type": "code",
   "execution_count": 63,
   "metadata": {},
   "outputs": [],
   "source": [
    "def add_titrant(num_steps):\n",
    "    \n",
    "    '''\n",
    "    This function adds some amount of titrant to the syringe. \n",
    "    \n",
    "    The function takes the argument:\n",
    "        num_steps = number of steps in the pump motor which detemines amount of titrant added\n",
    "    '''\n",
    "    \n",
    "    print('adding titrant')\n",
    "    \n",
    "    device_port = get_device_port()\n",
    "    to_write = '/1OD' + str(num_steps) + 'R\\r'\n",
    "    with serial.Serial(device_port, timeout=5) as ser:\n",
    "        ser.write(to_write.encode('utf-8'))\n",
    "        \n",
    "    # the length of sleep may be shortened\n",
    "    # but must be sufficiently long between commands sent to the syringe pump\n",
    "    time.sleep(5)\n",
    "    \n",
    "    "
   ]
  },
  {
   "cell_type": "code",
   "execution_count": 64,
   "metadata": {},
   "outputs": [],
   "source": [
    "def get_potential_measurement(samp_rate, samp_num):\n",
    "    \n",
    "    '''\n",
    "    'get_voltage_measurement' is identical to E1. Each acquisition samples the potential some number of times at some sampling rate.\n",
    "    \n",
    "    The function takes two arguments:\n",
    "        samp_rate = rate at which data is sampled per second \n",
    "        samp_num = total number of samples in a single data aquisition\n",
    "        \n",
    "    and returns:\n",
    "       v_m = a list of all potentials sampled in the data acquisition\n",
    "        \n",
    "    '''\n",
    "    \n",
    "    \n",
    "    # get a list of devices\n",
    "    all_devices = list(nidaqmx.system.System.local().devices)\n",
    "    \n",
    "    # throw error if no devices are found or if multiple devices are found\n",
    "    if (len(all_devices) == 0):\n",
    "        raise IOError(\"No DAQ device found\")\n",
    "    if (not (len(all_devices) == 1)):\n",
    "        warnings.warn(\"More than one DAQ device found. Using the first device. \\\n",
    "            Manually change dev_name to use other device\")\n",
    "        \n",
    "    # otherwise use the first device that's found\n",
    "    dev_name = all_devices[0].name\n",
    "    \n",
    "    # collect data, assign to v_m\n",
    "    with Task() as task:\n",
    "        \n",
    "        # add input channel and set E range ( For CHEM174/274 potentiostat E range is always [-10,10] )\n",
    "        task.ai_channels.add_ai_voltage_chan(dev_name + \"/ai0\", max_val=10, min_val=-10)\n",
    "        \n",
    "        '''\n",
    "        # set the input voltage range to [-1,1]\n",
    "        task.ai_channels.all.ai_min = -1\n",
    "        task.ai_channels.all.ai_max = 1\n",
    "        '''\n",
    "        \n",
    "        # set sampling rate and number of samples in acquisition \n",
    "        task.timing.cfg_samp_clk_timing(samp_rate, samps_per_chan=samp_num)\n",
    "        \n",
    "        # collect data from daq\n",
    "        v_m = task.read(samp_num, timeout=nidaqmx.constants.WAIT_INFINITELY)\n",
    "        \n",
    "    return v_m"
   ]
  },
  {
   "cell_type": "markdown",
   "metadata": {},
   "source": [
    "# Section 1: Potential Measurement of Concentrations Cells\n",
    "\n",
    "In this section you will be making potential measurements of the 7 ferrocyanide/ferrocyanide solutions (solutions 1-7) relative to the 0.5M ferrocyanide/0.5M ferricyanide solution (solution 4). The script is similar to E1 where each potential acquisition is sequentially added to some plot. \n",
    "\n",
    "Code Block 1 creates empty arrays to store the mean and standard deviation of each potential measurement. \n",
    "Code Block 2 defines sampling parameters, measures the potential and plots each potential measured. \n",
    "\n",
    "Running Code Block 2 multiple times continuously adds data points to the plot while running Code Block 1 resets the stored data. **Make sure to change 'acq_name' in Code Block 2 each time you switch solutions.**   "
   ]
  },
  {
   "cell_type": "code",
   "execution_count": 52,
   "metadata": {},
   "outputs": [],
   "source": [
    "'''Code Block 1'''\n",
    "\n",
    "# stores the mean and standard deviation of each potential acquisition \n",
    "mean_meas = []\n",
    "std_meas = []\n",
    "\n",
    "# x axis label for each acquisition \n",
    "sol_num = [] "
   ]
  },
  {
   "cell_type": "code",
   "execution_count": 56,
   "metadata": {},
   "outputs": [
    {
     "name": "stderr",
     "output_type": "stream",
     "text": [
      "<ipython-input-56-545e71683b0d>:31: UserWarning: FixedFormatter should only be used together with FixedLocator\n",
      "  ax2.set_xticklabels(sol_num)\n"
     ]
    },
    {
     "name": "stdout",
     "output_type": "stream",
     "text": [
      "     Solution  mean potential   std dev\n",
      "0  solution 1        0.195525  0.000290\n",
      "1  solution 1        0.195508  0.000286\n",
      "2  solution 1        0.195473  0.000287\n",
      "3  solution 1        0.195476  0.000305\n"
     ]
    },
    {
     "data": {
      "image/png": "[encoded data removed]",
      "text/plain": [
       "<Figure size 1008x432 with 2 Axes>"
      ]
     },
     "metadata": {
      "needs_background": "light"
     },
     "output_type": "display_data"
    }
   ],
   "source": [
    "'''Code Block 2'''\n",
    "\n",
    "# define x axis tick label for acquisition (can be solution concentration or anything) and append to 'sol_conc' array\n",
    "acq_name = 'solution 1'\n",
    "sol_num.append(acq_name)\n",
    "\n",
    "# define sampling rate and sampling number \n",
    "samp_rate = 1000\n",
    "samp_num = 1500\n",
    "\n",
    "# collect data\n",
    "measured_potential = get_potential_measurement(samp_rate, samp_num)\n",
    "\n",
    "# append mean and standard deviation of potential to 'mean_meas' and 'std_meas' which store data from all acquisitions\n",
    "mean_meas.append(np.mean(measured_potential))\n",
    "std_meas.append(np.std(measured_potential))\n",
    "\n",
    "# set up subplot \n",
    "fig, (ax1, ax2) = plt.subplots(1, 2, figsize = (14, 6))\n",
    "\n",
    "# subplot 1 \n",
    "ax1.scatter(np.arange(len(measured_potential)), measured_potential)\n",
    "ax1.set_title('Potential vs Sampling Number Previous Acquisition', fontsize = 16)\n",
    "ax1.set_xlabel('Sampling Number', fontsize = 16)\n",
    "ax1.set_ylabel('Potential (V)', fontsize = 16)\n",
    "\n",
    "# subplot 2 \n",
    "ax2.errorbar(x = np.arange(len(mean_meas)), y = mean_meas , yerr = std_meas,  fmt='bo')\n",
    "ax2.set_title('Potential vs Sol 4', fontsize = 16)\n",
    "ax2.set_ylabel('Potential (V)', fontsize = 16)\n",
    "ax2.set_xticklabels(np.arange(0, len(sol_num))) \n",
    "ax2.set_xticklabels(sol_num) \n",
    "\n",
    "# Save figure in the current directory. Note this will overwrite existing images with the same filename \n",
    "plt.savefig('Ferrocyanide solutions vs sol 4.png', dpi = 300, bbox_inches='tight')\n",
    "\n",
    "# save data\n",
    "ferrocyanide_data = pd.DataFrame({'Solution': sol_num , 'mean potential': mean_meas, 'std dev': std_meas})\n",
    "print(ferrocyanide_data)\n",
    "ferrocyanide_data.to_csv('Ferrocyanide solutions vs sol 4.txt', index = False)"
   ]
  },
  {
   "cell_type": "markdown",
   "metadata": {},
   "source": [
    "# Section 2: Potential measurement using Ag(s)/AgCl(s)/KCl(s) Reference Electrodes\n",
    "\n",
    "Measure the potential of solution 4 using the Ag/AgCl reference electrode. "
   ]
  },
  {
   "cell_type": "code",
   "execution_count": null,
   "metadata": {},
   "outputs": [],
   "source": [
    "'''Code Block 3'''\n",
    "\n",
    "# define sampling rate and sampling number \n",
    "samp_rate = 1000\n",
    "samp_num = 1500\n",
    "\n",
    "# collect data \n",
    "measured_potential = get_potential_measurement(samp_rate, samp_num)\n",
    "\n",
    "# set up subplot \n",
    "fig, (ax1, ax2) = plt.subplots(1, 2, figsize = (14, 6))\n",
    "\n",
    "# subplot 1 \n",
    "ax1.scatter(np.arange(len(measured_potential)), measured_potential)\n",
    "ax1.set_title('Potential vs Sampling Number Previous Acquisition', fontsize = 16)\n",
    "ax1.set_xlabel('Sampling Number', fontsize = 16)\n",
    "ax1.set_ylabel('Potential (V)', fontsize = 16)\n",
    "\n",
    "# subplot 2 \n",
    "ax2.errorbar(x = 0, y = np.mean(measured_potential) , yerr=np.std(measured_potential),  fmt='bo')\n",
    "ax2.set_title('Solution 4 Potential vs Ag/AgCl RE', fontsize = 16)\n",
    "ax2.set_ylabel('Potential (V)', fontsize = 16)\n",
    "ax2.xaxis.set_visible(False)\n",
    "\n",
    "# Save figure in the current directory. Note this will overwrite existing images with the same filename \n",
    "plt.savefig('Solution 4 Potential vs Ag RE.png', dpi = 300, bbox_inches='tight')"
   ]
  },
  {
   "cell_type": "markdown",
   "metadata": {},
   "source": [
    "# Section 3: Syringe pump instrumentation\n",
    "\n",
    "In this section your will test the syringe pumps used to dispense titrants in the titration. The pump is controlled by a 12000 step motor where 12000 steps draws or expels approximately 2.5ml of liquid. "
   ]
  },
  {
   "cell_type": "code",
   "execution_count": 107,
   "metadata": {},
   "outputs": [
    {
     "name": "stdout",
     "output_type": "stream",
     "text": [
      "filling syringe\n"
     ]
    }
   ],
   "source": [
    "'''CODE BLOCK 4'''\n",
    "\n",
    "# Initialize the pump and fill the syringe. The pump must be empty before this is called. \n",
    "\n",
    "initialize_and_fill()"
   ]
  },
  {
   "cell_type": "code",
   "execution_count": 108,
   "metadata": {},
   "outputs": [
    {
     "name": "stdout",
     "output_type": "stream",
     "text": [
      "adding titrant\n"
     ]
    }
   ],
   "source": [
    "'''CODE BLOCK 5'''\n",
    "\n",
    "# This function dispense some amount of liquid from the syringe. \n",
    "# Step size needs to be < number of steps currently available in the motor. \n",
    "# 12000 steps dispenses the entire volume of the syringe (~2.5ml)\n",
    "\n",
    "add_titrant(6000)"
   ]
  },
  {
   "cell_type": "code",
   "execution_count": 109,
   "metadata": {},
   "outputs": [
    {
     "name": "stdout",
     "output_type": "stream",
     "text": [
      "emptying syringe\n"
     ]
    }
   ],
   "source": [
    "'''CODE BLOCK 6'''\n",
    "\n",
    "# returns the undispensed liquid in the syringe back to the solution reservoir. \n",
    "\n",
    "return_and_close()"
   ]
  },
  {
   "cell_type": "markdown",
   "metadata": {},
   "source": [
    "# Section 4: Titration\n",
    "\n",
    "In this section you will be titrating an unknown solution of FeSO$_4$ in 1M H$_2$SO$_4$ with the prepared  (NH$_4$)2Ce(NO$_3$)$_6$ standard."
   ]
  },
  {
   "cell_type": "code",
   "execution_count": 79,
   "metadata": {},
   "outputs": [
    {
     "name": "stdout",
     "output_type": "stream",
     "text": [
      "filling syringe\n",
      "adding titrant\n",
      "emptying syringe\n"
     ]
    }
   ],
   "source": [
    "'''\n",
    "CODE BLOCK 7\n",
    "\n",
    "rinse the syringe with the Ce(Iv) solution \n",
    "'''\n",
    "\n",
    "initialize_and_fill()\n",
    "add_titrant(12000)\n",
    "return_and_close()"
   ]
  },
  {
   "cell_type": "code",
   "execution_count": 80,
   "metadata": {},
   "outputs": [
    {
     "name": "stdout",
     "output_type": "stream",
     "text": [
      "filling syringe\n",
      "adding titrant\n"
     ]
    }
   ],
   "source": [
    "\"\"\"\n",
    "CODE BLOCK 8\n",
    "\n",
    "rinse the output tube with H2SO4\n",
    "\"\"\"\n",
    "\n",
    "# fill syringe\n",
    "initialize_and_fill()\n",
    "\n",
    "# add 100 steps to vial of acid first\n",
    "add_titrant(100)"
   ]
  },
  {
   "cell_type": "code",
   "execution_count": 81,
   "metadata": {},
   "outputs": [],
   "source": [
    "\"\"\"\n",
    "CODE BLOCK 9\n",
    "\n",
    "Define sampling parameters and volume of titrant dispensed in each step\n",
    "\"\"\"\n",
    "\n",
    "# initialize arrays for storing the history of steps added and potential measurements in each titration step\n",
    "history_steps = [0]\n",
    "curr_meas = get_potential_measurement(samp_rate, samp_num)\n",
    "all_potential_measurements = []\n",
    "\n"
   ]
  },
  {
   "cell_type": "code",
   "execution_count": 92,
   "metadata": {},
   "outputs": [
    {
     "name": "stdout",
     "output_type": "stream",
     "text": [
      "adding titrant\n",
      "[0, 1000, 2000, 3000, 4000, 5000, 6000, 7000, 8000, 9000, 10000, 11000]\n",
      "[0.3813634317063322, 0.4325070468999113, 0.45635894192224036, 0.47419606924786345, 0.4917109187694304, 0.513928404406651, 0.5750100526864048, 1.1661844088713567, 1.1895890978229036, 1.1977480180549724, 1.2032037410966394]\n",
      "     step  mean potential   std dev\n",
      "0       0        0.381363  0.000275\n",
      "1    1000        0.432507  0.000297\n",
      "2    2000        0.456359  0.000298\n",
      "3    3000        0.474196  0.000296\n",
      "4    4000        0.491711  0.000279\n",
      "5    5000        0.513928  0.000296\n",
      "6    6000        0.575010  0.000313\n",
      "7    7000        1.166184  0.000308\n",
      "8    8000        1.189589  0.000385\n",
      "9    9000        1.197748  0.000340\n",
      "10  10000        1.203204  0.000277\n"
     ]
    },
    {
     "data": {
      "image/png": "[encoded data removed]",
      "text/plain": [
       "<Figure size 432x288 with 1 Axes>"
      ]
     },
     "metadata": {
      "needs_background": "light"
     },
     "output_type": "display_data"
    }
   ],
   "source": [
    "\"\"\"\n",
    "CODE BLOCK 10\n",
    "\n",
    "Acquire data, add titrant then plot data from all titration steps. \n",
    "Do not rerun Code Block 9 before the end of the titration\n",
    "This Code Block will be run repeatedly throughout the titration\n",
    "\"\"\"\n",
    "# parameters for voltage measurements\n",
    "samp_rate = 50\n",
    "samp_num = 100\n",
    "\n",
    "# define step size or the amount of titrant dispensed in each step\n",
    "num_steps = 1000\n",
    "if (num_steps + history_steps[-1] > 11000):\n",
    "    raise ValueError(\"Total Steps will exceed 11000. Decrease num_steps\")\n",
    "    \n",
    "    \n",
    "    \n",
    "# take voltage measurement\n",
    "curr_meas = get_potential_measurement(samp_rate, samp_num)\n",
    "all_potential_measurements.append(curr_meas)\n",
    "\n",
    "# get a cumulative total of steps added\n",
    "history_steps.append(num_steps)\n",
    "history_steps[-1] += history_steps[-2] \n",
    "\n",
    "# tell syringe pump to add titrant\n",
    "add_titrant(num_steps)\n",
    "\n",
    "# append data to arrays\n",
    "all_mean = [np.mean(meas_i) for meas_i in all_potential_measurements]\n",
    "all_std = [np.std(meas_i) for meas_i in all_potential_measurements]\n",
    "\n",
    "print(history_steps)\n",
    "print(all_mean)\n",
    "\n",
    "# plot results so far and save it. Make sure to change the image name for the second titration \n",
    "plt.errorbar(history_steps[:-1], all_mean, yerr=all_std,  fmt='bo')\n",
    "plt.savefig('rough titration.png', dpi = 300, bbox_inches='tight')\n",
    "\n",
    "# print data\n",
    "titration_data = pd.DataFrame({'step': history_steps[:-1] , 'mean potential': all_mean, 'std dev': all_std})\n",
    "print(titration_data)"
   ]
  },
  {
   "cell_type": "code",
   "execution_count": 93,
   "metadata": {},
   "outputs": [],
   "source": [
    "\"\"\"\n",
    "CODE BLOCK 11\n",
    "\n",
    "Save plot and titration data. Make sure to rename the plot and txt file in your second titration \n",
    "\n",
    "\"\"\"\n",
    "\n",
    "# Save titration data as txt. Make sure to change the name for each titration\n",
    "titration_data.to_csv('rough titration.txt', index = False)\n",
    "\n"
   ]
  },
  {
   "cell_type": "markdown",
   "metadata": {},
   "source": [
    "# Section 5: Pump Calibration\n",
    "\n",
    "In this section you will gravimetrically calibrate the amount of titrant dispensed. "
   ]
  },
  {
   "cell_type": "code",
   "execution_count": 100,
   "metadata": {},
   "outputs": [
    {
     "name": "stdout",
     "output_type": "stream",
     "text": [
      "filling syringe\n"
     ]
    }
   ],
   "source": [
    "\"\"\"\n",
    "CODE BLOCK 12\n",
    "\n",
    "\"\"\"\n",
    "\n",
    "# fill syringe\n",
    "initialize_and_fill()\n"
   ]
  },
  {
   "cell_type": "code",
   "execution_count": 101,
   "metadata": {},
   "outputs": [
    {
     "name": "stdout",
     "output_type": "stream",
     "text": [
      "adding titrant\n"
     ]
    }
   ],
   "source": [
    "\"\"\"\n",
    "CODE BLOCK 13\n",
    "\"\"\"\n",
    "\n",
    "# add 6000 steps of the Ce(IV) titrant to an empty vial and weigh it\n",
    "add_titrant(6000)"
   ]
  },
  {
   "cell_type": "code",
   "execution_count": 142,
   "metadata": {},
   "outputs": [
    {
     "name": "stdout",
     "output_type": "stream",
     "text": [
      "emptying syringe\n"
     ]
    }
   ],
   "source": [
    "# return undispensed solution \n",
    "return_and_close()"
   ]
  }
 ],
 "metadata": {
  "kernelspec": {
   "display_name": "Python 3",
   "language": "python",
   "name": "python3"
  },
  "language_info": {
   "codemirror_mode": {
    "name": "ipython",
    "version": 3
   },
   "file_extension": ".py",
   "mimetype": "text/x-python",
   "name": "python",
   "nbconvert_exporter": "python",
   "pygments_lexer": "ipython3",
   "version": "3.8.5"
  }
 },
 "nbformat": 4,
 "nbformat_minor": 5
}
