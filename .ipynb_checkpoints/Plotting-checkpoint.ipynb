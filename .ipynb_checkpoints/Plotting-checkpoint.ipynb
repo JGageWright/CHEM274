{
 "cells": [
  {
   "cell_type": "code",
   "execution_count": null,
   "metadata": {},
   "outputs": [],
   "source": [
    "import numpy as np\n",
    "import pandas as pd\n",
    "from scipy.signal import find_peaks\n",
    "import matplotlib.pyplot as plt\n",
    "from CHEM274.importer_snippets import load_experiment\n",
    "plt.style.use('JGW')"
   ]
  },
  {
   "cell_type": "markdown",
   "metadata": {},
   "source": [
    "# Nyquist and Bode Plots"
   ]
  },
  {
   "cell_type": "code",
   "execution_count": null,
   "metadata": {
    "pycharm": {
     "name": "#%%\n"
    }
   },
   "outputs": [],
   "source": [
    "EIS = load_experiment()"
   ]
  },
  {
   "cell_type": "code",
   "execution_count": null,
   "metadata": {
    "pycharm": {
     "name": "#%%\n"
    }
   },
   "outputs": [],
   "source": [
    "# Nyquist\n",
    "fig = plt.figure()\n",
    "ax = fig.add_subplot()\n",
    "\n",
    "ax.set_title('Nyquist Plot')\n",
    "ax.tick_params(axis='both', which='both', direction='in', right=True, top=True)\n",
    "# ax.set_prop_cycle(cc2)\n",
    "ax.scatter(EIS.data['Zre'], -EIS.data['Zim'], label = 'data')\n",
    "ax.set_xlabel('$Z_{re}$ / $\\Omega$')\n",
    "ax.set_ylabel('-$Z_{im}$ / $\\Omega$')\n",
    "if (max(EIS.data['Zre']) >= max(-EIS.data['Zim'])):\n",
    "    axes_max = max(EIS.data['Zre'])\n",
    "else:\n",
    "    axes_max = max(-EIS.data['Zim'])\n",
    "ax.set_xlim ([0,1.1*axes_max])\n",
    "ax.set_ylim ([0,1.1*axes_max])"
   ]
  },
  {
   "cell_type": "code",
   "execution_count": null,
   "metadata": {},
   "outputs": [],
   "source": [
    "# Bode\n",
    "Z_mag = np.sqrt(EIS.data['Zre']**2 * EIS.data['Zim']**2)\n",
    "log_Z_mag = np.log10(Z_mag)\n",
    "phi = np.arctan(EIS.data['Zim'] / EIS.data['Zre']) * 180 / np.pi # phase angle in degrees\n",
    "log_omega = np.log10(EIS.data['f'])\n",
    "\n",
    "\n",
    "fig = plt.figure()\n",
    "ax = fig.add_subplot()\n",
    "\n",
    "ax.set_title('Bode Plot')\n",
    "ax.tick_params(axis='both', which='both', direction='in', right=True, top=True)\n",
    "# ax.set_prop_cycle(cc2)\n",
    "ax.plot(log_omega, log_Z_mag, label = 'Impedance')\n",
    "ax.set_ylabel('log$|Z|$', color='C0')\n",
    "ax.set_xlabel('log$\\omega$')\n",
    "\n",
    "ax2 = ax.twinx()\n",
    "ax2.plot(log_omega, phi, label = 'Phase', color='C1')\n",
    "ax2.set_ylabel('$\\phi$ / degrees', color='C1')\n",
    "plt.grid()"
   ]
  },
  {
   "cell_type": "markdown",
   "metadata": {
    "pycharm": {
     "name": "#%% md\n"
    }
   },
   "source": [
    "# Cyclic Voltammograms"
   ]
  },
  {
   "cell_type": "code",
   "execution_count": null,
   "metadata": {
    "collapsed": false,
    "jupyter": {
     "outputs_hidden": false
    },
    "pycharm": {
     "is_executing": true,
     "name": "#%%\n"
    }
   },
   "outputs": [],
   "source": [
    "CV = load_experiment()"
   ]
  },
  {
   "cell_type": "code",
   "execution_count": null,
   "metadata": {
    "collapsed": false,
    "jupyter": {
     "outputs_hidden": false
    },
    "pycharm": {
     "name": "#%%\n"
    }
   },
   "outputs": [],
   "source": [
    "# CV\n",
    "fig = plt.figure()\n",
    "ax = fig.add_subplot()\n",
    "\n",
    "ax.set_title('Cyclic Voltammogram')\n",
    "ax.tick_params(axis='both', which='both', direction='in', right=True, top=True)\n",
    "# ax.set_prop_cycle(cc2)\n",
    "ax.scatter(CV.data['Ecell'], CV.data['iw'], label = '$v=$ '+str(CV.params.loc[CV.params['parameter']=='scan_rate', 'value'].item()) + ' V/s')\n",
    "ax.set_xlabel('$E_{cell}$ / V')\n",
    "ax.set_ylabel('$i_{w}$ / $A$')\n",
    "\n",
    "ax.ticklabel_format(style='sci', axis='y', scilimits=(0,0))\n",
    "fig.legend()"
   ]
  },
  {
   "cell_type": "markdown",
   "metadata": {},
   "source": [
    "### Find CV Peaks"
   ]
  },
  {
   "cell_type": "code",
   "execution_count": null,
   "metadata": {},
   "outputs": [],
   "source": [
    "# Maxima\n",
    "find_ipa = find_peaks(CV.data['iw'], threshold=0, height=0) # Must give minimum height to get peak_heights dict.\n",
    "ipa, Epa = CV.data['iw'][find_ipa[0]].item(), CV.data['Ecell'][find_ipa[0]].item()\n",
    "print(ipa, Epa)\n",
    "\n",
    "# Invert signal to find minima - Signals are negative but indicies are correct!\n",
    "find_ipc = find_peaks(-CV.data['iw'], threshold=0, height=0) # Remember to un-invert anytime you call ipc values, but not indicies.\n",
    "ipc, Epc = CV.data['iw'][find_ipc[0]].item(), CV.data['Ecell'][find_ipc[0]].item()\n",
    "print(ipc, Epc)\n",
    "\n",
    "\n",
    "# Draw same plot as above, but with peaks\n",
    "fig = plt.figure()\n",
    "ax = fig.add_subplot()\n",
    "\n",
    "ax.set_title('Cyclic Voltammogram')\n",
    "ax.tick_params(axis='both', which='both', direction='in', right=True, top=True)\n",
    "# ax.set_prop_cycle(cc2)\n",
    "ax.scatter(CV.data['Ecell'], CV.data['iw'], label = '$v=$ '+str(CV.params.loc[CV.params['parameter']=='scan_rate', 'value'].item()) + ' V/s')\n",
    "ax.set_xlabel('$E_{cell}$ / V')\n",
    "ax.set_ylabel('$i_{w}$ / $A$')\n",
    "\n",
    "ax.ticklabel_format(style='sci', axis='y', scilimits=(0,0))\n",
    "\n",
    "ax.scatter([Epa, Epc], [ipa, ipc], color='C1', label = 'Peaks')\n",
    "fig.legend()"
   ]
  },
  {
   "cell_type": "code",
   "execution_count": null,
   "metadata": {},
   "outputs": [],
   "source": []
  }
 ],
 "metadata": {
  "kernelspec": {
   "display_name": "Python 3 (ipykernel)",
   "language": "python",
   "name": "python3"
  },
  "language_info": {
   "codemirror_mode": {
    "name": "ipython",
    "version": 3
   },
   "file_extension": ".py",
   "mimetype": "text/x-python",
   "name": "python",
   "nbconvert_exporter": "python",
   "pygments_lexer": "ipython3",
   "version": "3.8.11"
  }
 },
 "nbformat": 4,
 "nbformat_minor": 4
}
