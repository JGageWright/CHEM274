{
 "cells": [
  {
   "cell_type": "code",
   "execution_count": 133,
   "metadata": {},
   "outputs": [
    {
     "data": {
      "text/plain": [
       "'C:\\\\Users\\\\jgage\\\\Documents\\\\GitHub\\\\CHEM274'"
      ]
     },
     "execution_count": 133,
     "metadata": {},
     "output_type": "execute_result"
    }
   ],
   "source": [
    "import numpy as np\n",
    "import pandas as pd\n",
    "from importer_snippets import load_experiment\n",
    "from scipy.signal import find_peaks, savgol_filter\n",
    "import matplotlib.pyplot as plt\n",
    "plt.style.use('JGW')\n",
    "import os\n",
    "os.getcwd()"
   ]
  },
  {
   "cell_type": "markdown",
   "metadata": {},
   "source": [
    "# Nyquist and Bode Plots"
   ]
  },
  {
   "cell_type": "code",
   "execution_count": 6,
   "metadata": {
    "pycharm": {
     "name": "#%%\n"
    }
   },
   "outputs": [],
   "source": [
    "EIS = load_experiment()"
   ]
  },
  {
   "cell_type": "code",
   "execution_count": null,
   "metadata": {
    "pycharm": {
     "name": "#%%\n"
    }
   },
   "outputs": [],
   "source": [
    "# Nyquist\n",
    "fig = plt.figure()\n",
    "ax = fig.add_subplot()\n",
    "\n",
    "# ax.set_title('Nyquist Plot')\n",
    "ax.tick_params(axis='both', which='both', direction='in', right=True, top=True)\n",
    "# ax.set_prop_cycle(cc2)\n",
    "ax.scatter(EIS.data['Zre'], -EIS.data['Zim'], label = 'data')\n",
    "ax.set_xlabel('$Z_{re}$ / $\\Omega$')\n",
    "ax.set_ylabel('-$Z_{im}$ / $\\Omega$')\n",
    "ax.set_xlim ([0,1.1*max(EIS.data['Zre'])])\n",
    "ax.set_ylim ([0,1.1*max(-EIS.data['Zim'])])\n",
    "fig.tight_layout()"
   ]
  },
  {
   "cell_type": "code",
   "execution_count": null,
   "metadata": {
    "jupyter": {
     "source_hidden": true
    },
    "tags": []
   },
   "outputs": [],
   "source": [
    "# Bode\n",
    "Z_mag = np.sqrt(EIS.data['Zre']**2 * EIS.data['Zim']**2)\n",
    "log_Z_mag = np.log10(Z_mag)\n",
    "phi = np.arctan(EIS.data['Zim'] / EIS.data['Zre']) * 180 / np.pi # phase angle in degrees\n",
    "log_omega = np.log10(EIS.data['f'])\n",
    "\n",
    "\n",
    "fig = plt.figure()\n",
    "ax = fig.add_subplot()\n",
    "\n",
    "# ax.set_title('Bode Plot')\n",
    "ax.tick_params(axis='both', which='both', direction='in', right=True, top=True)\n",
    "ax.scatter(log_omega, log_Z_mag, label = 'Impedance')\n",
    "ax.set_ylabel('log$|Z|$', color='C0')\n",
    "ax.set_xlabel('log$\\omega$')\n",
    "\n",
    "ax2 = ax.twinx()\n",
    "ax2.scatter(log_omega, phi, label = 'Phase', color='C1')\n",
    "ax2.set_ylabel('$\\phi$ / degrees', color='C1')\n",
    "plt.grid()\n",
    "fig.tight_layout()"
   ]
  },
  {
   "cell_type": "code",
   "execution_count": null,
   "metadata": {
    "tags": []
   },
   "outputs": [],
   "source": []
  },
  {
   "cell_type": "markdown",
   "metadata": {
    "pycharm": {
     "name": "#%% md\n"
    }
   },
   "source": [
    "# Cyclic Voltammograms"
   ]
  },
  {
   "cell_type": "code",
   "execution_count": 144,
   "metadata": {
    "collapsed": false,
    "jupyter": {
     "outputs_hidden": false
    },
    "pycharm": {
     "is_executing": true,
     "name": "#%%\n"
    }
   },
   "outputs": [],
   "source": [
    "CV = load_experiment()"
   ]
  },
  {
   "cell_type": "code",
   "execution_count": null,
   "metadata": {
    "collapsed": false,
    "jupyter": {
     "outputs_hidden": false
    },
    "pycharm": {
     "name": "#%%\n"
    }
   },
   "outputs": [],
   "source": [
    "# CV\n",
    "fig = plt.figure()\n",
    "ax = fig.add_subplot()\n",
    "\n",
    "# ax.set_title('Cyclic Voltammogram')\n",
    "ax.tick_params(axis='both', which='both', direction='in', right=True, top=True)\n",
    "# ax.set_prop_cycle(cc2)\n",
    "ax.scatter(CV.data['Ecell'], CV.data['iw'], label = '$v=$ '+str(CV.params.loc[CV.params['parameter']=='scan_rate', 'value'].item()) + ' V/s')\n",
    "ax.set_xlabel('$E_{cell}$ / V')\n",
    "ax.set_ylabel('$i_{w}$ / $A$')\n",
    "\n",
    "ax.ticklabel_format(style='sci', axis='y', scilimits=(0,0))\n",
    "plt.style.use('JGW')\n",
    "fig.legend()"
   ]
  },
  {
   "cell_type": "markdown",
   "metadata": {},
   "source": [
    "### Find CV Peaks"
   ]
  },
  {
   "cell_type": "code",
   "execution_count": null,
   "metadata": {},
   "outputs": [],
   "source": [
    "# Smooth data using the Savitski Golay method\n",
    "smooth_iw = savgol_filter(CV.data['iw'], 25, 2)\n",
    "# Check the result\n",
    "# plt.plot(CV.data['Ecell'], smooth_iw, zorder=1, color='r')\n",
    "# plt.plot(CV.data['Ecell'], CV.data['iw'], label = '$v=$ '+str(CV.params.loc[CV.params['parameter']=='scan_rate', 'value'].item()) + ' V/s', zorder=0)\n",
    "# plt.xlim(-.75, -.74)\n",
    "# plt.ylim(.00003, .00004)\n",
    "\n",
    "# Maxima\n",
    "find_ipa = find_peaks(smooth_iw, height=0, width=3600) # Must give minimum height to get peak_heights dict.\n",
    "ipa, Epa = CV.data['iw'][find_ipa[0]].to_numpy(), CV.data['Ecell'][find_ipa[0]].to_numpy()\n",
    "\n",
    "# Invert signal to find minima - Signals are negative but indicies are correct!\n",
    "find_ipc = find_peaks(-smooth_iw, height=0, width=3600) # Remember to un-invert anytime if calling ipc values from find_ipc, but not indicies.\n",
    "ipc, Epc = CV.data['iw'][find_ipc[0]].to_numpy(), CV.data['Ecell'][find_ipc[0]].to_numpy()\n",
    "\n",
    "peaks = {'ipa': ipa, 'Epa': Epa, 'ipc': ipc, 'Epc': Epc}\n",
    "peaks"
   ]
  },
  {
   "cell_type": "markdown",
   "metadata": {},
   "source": [
    "#### Peak picking and figure saving"
   ]
  },
  {
   "cell_type": "code",
   "execution_count": 145,
   "metadata": {
    "jupyter": {
     "source_hidden": true
    },
    "tags": []
   },
   "outputs": [],
   "source": [
    "def save_CV_fig(fig, analyte, electrode, solvent, notebook):\n",
    "    ans = input('Save the figure?')\n",
    "    if ans in ['y', 'yes', 'Yes', 'yeye', 'yeah', 'why, certainly', True]:\n",
    "        fig.savefig(\"C:\\\\Users\\\\jgage\\\\Documents\\GitHub\\\\CHEM274\\\\data\\\\figs\\\\CV_\"+\n",
    "            analyte + electrode + solvent +\n",
    "            str(CV.params.loc[CV.params['parameter']=='scan_rate', 'value'].item()) + 'Vs-1_'+\n",
    "                notebook+'.jpg')\n",
    "        print('Saved')\n",
    "    else:\n",
    "        print('Not saved')"
   ]
  },
  {
   "cell_type": "code",
   "execution_count": null,
   "metadata": {
    "tags": []
   },
   "outputs": [],
   "source": [
    "# Draw same plot as above, but with peaks\n",
    "fig = plt.figure()\n",
    "ax = fig.add_subplot()\n",
    "\n",
    "ax.tick_params(axis='both', which='both', direction='in', right=True, top=True)\n",
    "ax.plot(CV.data['Ecell'], CV.data['iw'], label = '$v=$ '+str(CV.params.loc[CV.params['parameter']=='scan_rate', 'value'].item()) + ' V/s', zorder=0)\n",
    "ax.plot(CV.data['Ecell'], smooth_iw, color='C2', label='Savitsky-Golay', lw=.5, zorder=.5)\n",
    "ax.scatter([*Epa, *Epc], [*ipa, *ipc], color='C1', label='Peaks', marker='|', s=200, zorder=1)\n",
    "fig.tight_layout()\n",
    "\n",
    "# ax.set_title('Cyclic Voltammogram')\n",
    "ax.set_xlabel('$E_{cell}$ / V')\n",
    "ax.set_ylabel('$i_{w}$ / $A$')\n",
    "ax.ticklabel_format(style='sci', axis='y', scilimits=(0,0))\n",
    "fig.legend(loc=(0.1, 0.78))\n",
    "\n",
    "analyte = 'Feacac_'\n",
    "electrode = 'GC_'\n",
    "solvent = 'MeCN_'\n",
    "notebook = '_P-03-05'\n",
    "\n",
    "plt.show()\n",
    "save_CV_fig(fig, analyte, electrode, solvent, notebook)"
   ]
  },
  {
   "cell_type": "code",
   "execution_count": null,
   "metadata": {},
   "outputs": [],
   "source": []
  }
 ],
 "metadata": {
  "kernelspec": {
   "display_name": "Python 3 (ipykernel)",
   "language": "python",
   "name": "python3"
  },
  "language_info": {
   "codemirror_mode": {
    "name": "ipython",
    "version": 3
   },
   "file_extension": ".py",
   "mimetype": "text/x-python",
   "name": "python",
   "nbconvert_exporter": "python",
   "pygments_lexer": "ipython3",
   "version": "3.8.11"
  }
 },
 "nbformat": 4,
 "nbformat_minor": 4
}
