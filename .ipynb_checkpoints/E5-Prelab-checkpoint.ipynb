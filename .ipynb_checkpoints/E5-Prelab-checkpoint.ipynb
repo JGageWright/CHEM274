{
 "cells": [
  {
   "cell_type": "code",
   "execution_count": 22,
   "metadata": {},
   "outputs": [],
   "source": [
    "import matplotlib.pyplot as plt\n",
    "plt.style.use('JGW')\n",
    "import numpy as np\n",
    "from numpy import exp, sqrt\n",
    "import pandas as pd\n",
    "# %matplotlib notebook"
   ]
  },
  {
   "cell_type": "markdown",
   "metadata": {},
   "source": [
    "# Forward potential sweep \n",
    "\n",
    "The prelab for E5 presents a crude cyclic voltammogram model of redox species in a stagnant electrolyte system. Code block 1 calculates current versus potential response based off this model for a positive potential sweep. This generates an interactive plot window. Running code block 2 will overlay new plots to the interactive window under code block 1. Running code block 1 will reset the interactive window. \n",
    "\n",
    "In the prelab you will examine the effect of changing scan rate 'v' and initial scan potential 'Einitial' by overlaying different plots. \n"
   ]
  },
  {
   "cell_type": "code",
   "execution_count": 23,
   "metadata": {},
   "outputs": [
    {
     "data": {
      "text/plain": "<matplotlib.legend.Legend at 0x1f1b9ee8220>"
     },
     "execution_count": 23,
     "metadata": {},
     "output_type": "execute_result"
    }
   ],
   "source": [
    "'''Code block 1'''\n",
    "\n",
    "# constants\n",
    "R = 8.314        # gas constant in J/mol*K\n",
    "T = 298          # temperature in K\n",
    "n = 1            # number of electrons transferred per rxn\n",
    "F = 96485        # electronic charge in C/mol\n",
    "A = 1            # area in cm^2\n",
    "D = 1e-5         # diffusion constant in cm^2/s\n",
    "ctotal = 1e-6    # total concentration in mol/cm^3\n",
    "E0 = 0           # standard reduction potential in V\n",
    "Einit = E0 - 0.2 # initial potential in V\n",
    "v = 1            # sweep rate in V/s\n",
    "\n",
    "# this creates a time array from 0.01 to 0.6 at 0.01 intervals\n",
    "t = np.arange(0.01, 0.6, 0.01)\n",
    "\n",
    "# Cell potential as a function of time (equation 7 in the prelab)\n",
    "Ecell = Einit+v*t\n",
    "\n",
    "# concentration of reduced species intinitely far away from electrode and at the electrode (equations 4-5 in prelab)\n",
    "c_red_inf = ctotal/ (1+exp((Einit-E0) / (R*T/n/F)))\n",
    "c_red_zero = ctotal/ (1+exp((Ecell-E0) / (R*T/n/F)))\n",
    "\n",
    "# Change in concentration of the reduced species from infinity to the electrode (equation 3 in the prelab)\n",
    "Deltac = c_red_inf - c_red_zero\n",
    "\n",
    "# depletion layer thickness (equation 6 in the prelab)\n",
    "delta = sqrt(4*D*t)\n",
    "\n",
    "# current during forward sweep (equation 1 in the prelab)\n",
    "i_f = n*F*A*D*Deltac/delta\n",
    "\n",
    "# plot current vs cell potential\n",
    "\n",
    "plt.plot(Ecell, i_f, label = 'Forward $v$ = '+str(v)+' V/s; $E_{init}$ = '+str(Einit)+' V')\n",
    "plt.xlabel('Potential / V')\n",
    "plt.ylabel('Current / A')\n",
    "plt.ticklabel_format(axis=\"both\", style=\"sci\", scilimits=(-2,3))\n",
    "plt.legend()\n"
   ]
  },
  {
   "cell_type": "code",
   "execution_count": 10,
   "metadata": {},
   "outputs": [
    {
     "data": {
      "text/plain": "<matplotlib.legend.Legend at 0x1f1b7cda8e0>"
     },
     "execution_count": 10,
     "metadata": {},
     "output_type": "execute_result"
    }
   ],
   "source": [
    "'''Code block 2'''\n",
    "\n",
    "# constants\n",
    "R=8.314        # gas constant in J/mol*K\n",
    "T=298          # temperature in K\n",
    "n=1            # number of electrons transferred per rxn\n",
    "F=96485        # electronic charge in C/mol\n",
    "A=1            # area in cm^2\n",
    "D=1e-5         # diffusion constant in cm^2/s\n",
    "ctotal=1e-6    # total concentration in mol/cm^3   \n",
    "E0=0           # standard reduction potential in V\n",
    "Einit=E0-0.02  # initial potential in V\n",
    "v=1            # sweep rate in V/s\n",
    "\n",
    "# this creates a time array from 0.01 to 0.6 at 0.01 intervals\n",
    "t = np.arange(0.01, 0.6, 0.01)\n",
    "\n",
    "# Cell potential as a function of time (equation 7 in the prelab)\n",
    "Ecell = Einit+v*t\n",
    "\n",
    "# concentration of reduced species intinitely far away from electrode and at the electrode (equations 4-5 in prelab)\n",
    "c_red_inf=ctotal/(1+exp((Einit-E0)/(R*T/n/F)))\n",
    "c_red_zero=ctotal/(1+exp((Ecell-E0)/(R*T/n/F)))\n",
    "\n",
    "# Change in concentration of the reduced species from infinity to the electrode (equation 3 in the prelab)\n",
    "Deltac=c_red_inf-c_red_zero\n",
    "\n",
    "# depletion layer thickness (equation 6 in the prelab)\n",
    "delta=sqrt(4*D*t)\n",
    "\n",
    "# current during forward sweep (equation 1 in the prelab)\n",
    "i_f=n*F*A*D*Deltac/delta\n",
    "\n",
    "# plot current vs cell potential\n",
    "plt.plot(Ecell, i_f, label = 'forward v = '+str(v)+' V/s; Einit ='+str(Einit)+' V')\n",
    "plt.xlabel('Potential / V')\n",
    "plt.ylabel('Current / A')\n",
    "plt.ticklabel_format(axis=\"both\", style=\"sci\", scilimits=(-2,3))\n",
    "plt.legend()\n",
    "\n"
   ]
  },
  {
   "cell_type": "markdown",
   "metadata": {},
   "source": [
    "# Full cyclic voltammogram\n",
    "\n",
    "Code blocks 3 and 4 calculates a full cyclic voltammogram based off the crude model. Code block 3 demonstrates a case where the reverse faradaic reaction cannot occur while code block 4 shows a case where it is included"
   ]
  },
  {
   "cell_type": "code",
   "execution_count": 11,
   "metadata": {},
   "outputs": [
    {
     "data": {
      "text/plain": "<matplotlib.legend.Legend at 0x1f1b7d21790>"
     },
     "execution_count": 11,
     "metadata": {},
     "output_type": "execute_result"
    }
   ],
   "source": [
    "'''Code block 3 with no reaction'''\n",
    "\n",
    "# constants\n",
    "R=8.314        # gas constant in J/mol*K\n",
    "T=298          # temperature in K\n",
    "n=1            # number of electrons transferred per rxn\n",
    "F=96485        # electronic charge in C/mol\n",
    "A=1            # area in cm^2\n",
    "D=1e-5         # diffusion constant in cm^2/s\n",
    "ctotal=1e-6    # total concentration in mol/cm^3   \n",
    "E0=0           # standard potential in V\n",
    "Einit=-0.2  # initial potential in V\n",
    "v=1            # sweep rate in V/s\n",
    "\n",
    "\n",
    "'''forward scan (same as code block 1-2)'''\n",
    "# this creates a time array from 0.01 to 0.6 at 0.01 intervals\n",
    "t = np.arange(0.01, 0.6, 0.01)\n",
    "\n",
    "# Cell potential as a function of time (equation 7 in the prelab)\n",
    "Ecell = Einit+v*t\n",
    "\n",
    "# concentration of reduced species intinitely far away from electrode and at the electrode (equations 4-5 in prelab)\n",
    "c_red_inf=ctotal/(1+exp((Einit-E0)/(R*T/n/F)))\n",
    "c_red_zero=ctotal/(1+exp((Ecell-E0)/(R*T/n/F)))\n",
    "\n",
    "# Change in concentration of the reduced species from infinity to the electrode (equation 3 in the prelab)\n",
    "Deltac=c_red_inf-c_red_zero\n",
    "\n",
    "# depletion layer thickness (equation 6 in the prelab)\n",
    "delta=sqrt(4*D*t)\n",
    "\n",
    "# current during forward sweep (equation 1 in the prelab)\n",
    "i_f=n*F*A*D*Deltac/delta\n",
    "\n",
    "\n",
    "'''reverse scan'''\n",
    "# the end potential of the forward scan and the start potential of the reverse scan \n",
    "Ereturn=0.4\n",
    "\n",
    "# time array of the reverse scan\n",
    "t_r = np.arange(0.61, 1.4, 0.01)\n",
    "\n",
    "# cell potential as a function of time in the reverse scan \n",
    "Ecell_r=Ereturn-v*(t_r-0.6)\n",
    "\n",
    "# concentration of reduced species intinitely far away from electrode and at the electrode during the reverse scan\n",
    "c_red_inf=ctotal/(1+exp((Einit-E0)/(R*T/n/F)))\n",
    "c_red_zero=ctotal/(1+exp((Ereturn-E0)/(R*T/n/F)))\n",
    "\n",
    "# Change in concentration of the reduced species from infinity to the electrode \n",
    "Deltac=c_red_inf-c_red_zero\n",
    "\n",
    "# depletion layer thickness during reverse scan\n",
    "delta_r=sqrt(4*D*t_r)\n",
    "\n",
    "# current during reverse sweep no reaction\n",
    "i_r_nr=n*F*A*D*Deltac/delta_r\n",
    "\n",
    "# plot current vs cell potential\n",
    "plt.plot(Ecell, i_f, label = 'forward v = '+str(v)+' V/s; Einit ='+str(Einit)+' V')\n",
    "plt.plot(Ecell_r, i_r_nr, label = 'no reverse reaction')\n",
    "plt.xlabel('Potential / V')\n",
    "plt.ylabel('Current / A')\n",
    "plt.ticklabel_format(axis=\"both\", style=\"sci\", scilimits=(-2,3))\n",
    "plt.legend()\n",
    "\n",
    "\n"
   ]
  },
  {
   "cell_type": "code",
   "execution_count": 12,
   "metadata": {},
   "outputs": [
    {
     "data": {
      "text/plain": "<matplotlib.legend.Legend at 0x1f1b7d21430>"
     },
     "execution_count": 12,
     "metadata": {},
     "output_type": "execute_result"
    }
   ],
   "source": [
    "'''Code block 4 with back reaction'''\n",
    "\n",
    "'''reverse scan'''\n",
    "# the end potential of the forward scan and the start potential of the reverse scan \n",
    "Ereturn=0.4\n",
    "\n",
    "# time array of the reverse scan\n",
    "t_r = np.arange(0.61, 1.4, 0.01)\n",
    "\n",
    "# cell potential as a function of time in the reverse scan \n",
    "Ecell_r=Ereturn-v*(t_r-0.6)\n",
    "\n",
    "# concentration of reduced species intinitely far away from electrode and at the electrode during the reverse scan\n",
    "c_red_inf=ctotal/(1+exp((Ereturn-E0)/(R*T/n/F)))\n",
    "c_red_zero=ctotal/(1+exp((Ecell_r-E0)/(R*T/n/F)))\n",
    "\n",
    "# Change in concentration of the reduced species from infinity to the electrode \n",
    "Deltac=c_red_inf-c_red_zero\n",
    "\n",
    "# depletion layer thickness during reverse scan\n",
    "delta=sqrt(4*D*(t_r-0.6))\n",
    "\n",
    "# current during reverse sweep no reaction\n",
    "i_r_r=i_r_nr+n*F*A*D*Deltac/delta\n",
    "\n",
    "# plot current vs cell potential\n",
    "# plt.plot(Ecell, i_f, label = 'forward v = '+str(v)+' V/s; Einit ='+str(Einit)+' V')\n",
    "plt.plot(Ecell_r, i_r_r, label = 'with reverse reaction')\n",
    "plt.xlabel('Potential / V')\n",
    "plt.ylabel('Current / A')\n",
    "plt.ticklabel_format(axis=\"both\", style=\"sci\", scilimits=(-2,3))\n",
    "plt.legend()\n"
   ]
  },
  {
   "cell_type": "code",
   "execution_count": 12,
   "metadata": {},
   "outputs": [],
   "source": []
  },
  {
   "cell_type": "code",
   "execution_count": 12,
   "metadata": {},
   "outputs": [],
   "source": []
  }
 ],
 "metadata": {
  "kernelspec": {
   "display_name": "Python 3",
   "language": "python",
   "name": "python3"
  },
  "language_info": {
   "codemirror_mode": {
    "name": "ipython",
    "version": 3
   },
   "file_extension": ".py",
   "mimetype": "text/x-python",
   "name": "python",
   "nbconvert_exporter": "python",
   "pygments_lexer": "ipython3",
   "version": "3.8.8"
  }
 },
 "nbformat": 4,
 "nbformat_minor": 4
}