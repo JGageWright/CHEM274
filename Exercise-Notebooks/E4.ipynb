{
 "cells": [
  {
   "cell_type": "markdown",
   "metadata": {},
   "source": [
    "# Import packages"
   ]
  },
  {
   "cell_type": "code",
   "execution_count": 3,
   "metadata": {},
   "outputs": [],
   "source": [
    "import nidaqmx\n",
    "from nidaqmx import Task\n",
    "from nidaqmx import system\n",
    "import matplotlib.pyplot as plt\n",
    "import numpy as np\n",
    "import pandas as pd\n",
    "import scipy\n",
    "from scipy.optimize import curve_fit\n",
    "#import serial\n",
    "#import time\n",
    "import os "
   ]
  },
  {
   "cell_type": "markdown",
   "metadata": {},
   "source": [
    "# Define functions"
   ]
  },
  {
   "cell_type": "code",
   "execution_count": 5,
   "metadata": {},
   "outputs": [],
   "source": [
    "# set potential profile and acquire data \n",
    "def pot_step_and_measure():\n",
    "    \n",
    "    ''' \n",
    "    This function writes a potential profile into the ao0 output of the potentiostat to set the potential \n",
    "    between the WE and RE. At the same time, potential acquisitions are being made by the channel ai0 and ai1\n",
    "    inputs. ai0 measures the WE potential while ai1 measures the potential across the measurement resistor Rm\n",
    "    which measures the potential between the WE and RE and ai0 at the measurement resistor\n",
    "    \n",
    "    The potential profile and sampling rate should be defined prior to running this function. \n",
    "\n",
    "    Outputs: \n",
    "        acquired_data = nested array containing potentials measured at the WE and Rm. \n",
    "    \n",
    "    '''    \n",
    "    \n",
    "    \n",
    "    '''Get device name '''\n",
    "    \n",
    "    # get a list of all devices connected\n",
    "    all_devices = list(nidaqmx.system.System.local().devices)\n",
    "    # get name of first device\n",
    "    dev_name = all_devices[0].name\n",
    "    #print(dev_name)\n",
    "\n",
    "\n",
    "    ''' set potential profile and acquire data'''\n",
    "    \n",
    "    with Task() as task_o, Task() as task_i, Task():\n",
    "        \n",
    "        # add ai0 and ai1 input channel to read WE and Rm potential\n",
    "        task_i.ai_channels.add_ai_voltage_chan(dev_name + \"/ai0:1\", min_val=-10.0, max_val=10.0)\n",
    "        # add ai0 output ao0 channel for setting the potential profile\n",
    "        task_o.ao_channels.add_ao_voltage_chan(dev_name + \"/ao0\", min_val=-10.0, max_val=10.0)\n",
    "        \n",
    "        # Set sampling rates for input and output channels\n",
    "        task_i.timing.cfg_samp_clk_timing(rate = samp_rate, samps_per_chan=samp_num_tot) \n",
    "        task_o.timing.cfg_samp_clk_timing(rate = samp_rate, samps_per_chan=samp_num_tot) \n",
    "\n",
    "        # set up a digital trigger for the output channel to set the potential\n",
    "        task_o.triggers.start_trigger.cfg_dig_edge_start_trig('/'+ dev_name +'/ai/StartTrigger')\n",
    "        # define output channel task. Task will only execute when the output channel trigger is activated\n",
    "        task_o.write(pot_profile, auto_start = False)\n",
    "        task_o.start()                                                                                                                     \n",
    "                                                              \n",
    "        #time.sleep(5)w\n",
    "        \n",
    "        # Acquire data from input channels. This will trigger the potential profile to be set by the output channel\n",
    "        acquired_data = task_i.read(number_of_samples_per_channel=samp_num_tot, timeout=nidaqmx.constants.WAIT_INFINITELY)\n",
    "\n",
    "    return acquired_data"
   ]
  },
  {
   "cell_type": "code",
   "execution_count": 6,
   "metadata": {},
   "outputs": [],
   "source": [
    "def fit_func(t, D):\n",
    "    \n",
    "    ''' \n",
    "    Derived equation from prelab. This describes the time dependence of current after a potential step\n",
    "    \n",
    "    inputs:\n",
    "        dC = change in concentration as a result of the potential step\n",
    "        dT = change in time\n",
    "        D = diffusion coefficient in cm^2/s\n",
    "        \n",
    "    returns: \n",
    "        i = current as a function of time\n",
    "    '''\n",
    "\n",
    "    n = 1\n",
    "    F = 96500 # Faraday's constant (C/mol)\n",
    "    A = np.pi*(2.54/4)**2 # electrode diameter = 1/2 inch \n",
    "    dC = 5e-7 # concentration change (mol/cm^3)\n",
    "    \n",
    "    return 1*(n*F*A*np.sqrt(D)*dC)/(np.sqrt(4*t))"
   ]
  },
  {
   "cell_type": "markdown",
   "metadata": {},
   "source": [
    "# Potential Step\n",
    "\n",
    "## Setting up potential profile\n",
    "\n",
    "Code block 1 constructs the potential profile driven to the working electrode relative to the reference electrode. The potential profile consists of 3 sections: \n",
    "\n",
    " 1) a potential hold at some staring potential (usually OCV) <br>\n",
    " 2) a potential step then hold at some higher potential <br>\n",
    " 3) a potential rest which returns the potential back to some rest potential \n",
    "\n",
    "The total time for each section is determined by the number of samples sent to the output channel and the sampling rate.  "
   ]
  },
  {
   "cell_type": "code",
   "execution_count": 4,
   "metadata": {},
   "outputs": [],
   "source": [
    "np.repeat?"
   ]
  },
  {
   "cell_type": "code",
   "execution_count": 8,
   "metadata": {},
   "outputs": [
    {
     "data": {
      "image/png": "[encoded data removed]",
      "text/plain": [
       "<Figure size 1008x432 with 2 Axes>"
      ]
     },
     "metadata": {
      "needs_background": "light"
     },
     "output_type": "display_data"
    }
   ],
   "source": [
    "'''Code block 1'''\n",
    "\n",
    "\n",
    "'''Set up potential profile'''\n",
    "\n",
    "# potential to be set for each section\n",
    "pot_init = 0.2798\n",
    "pot_step = 0.4798\n",
    "pot_rest = 0.2798\n",
    "\n",
    "# number of potential samples to be set in each section\n",
    "samp_num_init = 1000\n",
    "samp_num_step = 15000\n",
    "samp_num_rest = 1000\n",
    "\n",
    "# potential profile for each section \n",
    "pot_profile_init = pot_init*np.repeat(1, samp_num_init)\n",
    "pot_profile_step = pot_step*np.repeat(1, samp_num_step)\n",
    "pot_profile_rest = pot_rest*np.repeat(1, samp_num_rest)\n",
    "\n",
    "# combine potential profiles for each section. This is the total potential profile to be set by the potentiostat\n",
    "pot_profile = np.concatenate((pot_profile_init, pot_profile_step, pot_profile_rest))\n",
    "\n",
    "# sampling rate \n",
    "samp_rate = 1000\n",
    "\n",
    "\n",
    "''' Calculate potential profile timing '''\n",
    "    \n",
    "# total number of samples to be set in the potential profile\n",
    "samp_num_tot = np.sum([samp_num_init, samp_num_step, samp_num_rest])\n",
    "# Calculate timing of the potential profile. Samples are set by some time interval depending on the sampling rate.\n",
    "total_step_time = np.arange(0, len(pot_profile), 1)/samp_rate\n",
    "\n",
    "\n",
    "''' set up subplot '''\n",
    "fig, (ax1, ax2) = plt.subplots(1, 2, figsize = (14, 6))\n",
    "\n",
    "# subplot 1: potential profile vs samples\n",
    "ax1.set_title('Potential Step Profile', fontsize = 16)\n",
    "ax1.scatter(np.arange(0, len(pot_profile), 1), pot_profile)\n",
    "ax1.set_xlabel('Sample Number', fontsize = 16)\n",
    "ax1.set_ylabel('Potential (V)', fontsize = 16)\n",
    "\n",
    "# subplot 2: potential profile vs time \n",
    "ax2.set_title('Potential Step Profile', fontsize = 16)\n",
    "ax2.plot(total_step_time, pot_profile)\n",
    "ax2.set_xlabel('Time (s)', fontsize = 16)\n",
    "ax2.set_ylabel('Potential (V)', fontsize = 16)\n",
    "#plt.title('Potential Step Profile', fontsize = 16)\n",
    "\n",
    "plt.show()"
   ]
  },
  {
   "cell_type": "markdown",
   "metadata": {},
   "source": [
    "# Set potential and acquire data\n",
    "\n",
    "Code block 2 sets the potential profile specified in code block 1 and then simultanously acquires data. The profile and sampling rates must be defined prior to running this. \n",
    "\n",
    "We also calculate the current passing measurement resistor Rm when the potential profile is set."
   ]
  },
  {
   "cell_type": "code",
   "execution_count": 10,
   "metadata": {},
   "outputs": [
    {
     "ename": "DaqNotFoundError",
     "evalue": "NI-DAQmx Python is not supported on this platform: darwin. Please direct any questions or feedback to National Instruments.",
     "output_type": "error",
     "traceback": [
      "\u001b[0;31m---------------------------------------------------------------------------\u001b[0m",
      "\u001b[0;31mDaqNotFoundError\u001b[0m                          Traceback (most recent call last)",
      "\u001b[0;32m<ipython-input-10-c15e034a92cf>\u001b[0m in \u001b[0;36m<module>\u001b[0;34m\u001b[0m\n\u001b[1;32m      2\u001b[0m \u001b[0;34m\u001b[0m\u001b[0m\n\u001b[1;32m      3\u001b[0m \u001b[0;31m# set potential and acquire data\u001b[0m\u001b[0;34m\u001b[0m\u001b[0;34m\u001b[0m\u001b[0;34m\u001b[0m\u001b[0m\n\u001b[0;32m----> 4\u001b[0;31m \u001b[0macquired_data\u001b[0m \u001b[0;34m=\u001b[0m \u001b[0mpot_step_and_measure\u001b[0m\u001b[0;34m(\u001b[0m\u001b[0;34m)\u001b[0m\u001b[0;34m\u001b[0m\u001b[0;34m\u001b[0m\u001b[0m\n\u001b[0m\u001b[1;32m      5\u001b[0m \u001b[0mWE_step_data\u001b[0m \u001b[0;34m=\u001b[0m \u001b[0mnp\u001b[0m\u001b[0;34m.\u001b[0m\u001b[0marray\u001b[0m\u001b[0;34m(\u001b[0m\u001b[0macquired_data\u001b[0m\u001b[0;34m[\u001b[0m\u001b[0;36m0\u001b[0m\u001b[0;34m]\u001b[0m\u001b[0;34m)\u001b[0m\u001b[0;34m\u001b[0m\u001b[0;34m\u001b[0m\u001b[0m\n\u001b[1;32m      6\u001b[0m \u001b[0mRm_step_data\u001b[0m \u001b[0;34m=\u001b[0m \u001b[0mnp\u001b[0m\u001b[0;34m.\u001b[0m\u001b[0marray\u001b[0m\u001b[0;34m(\u001b[0m\u001b[0macquired_data\u001b[0m\u001b[0;34m[\u001b[0m\u001b[0;36m1\u001b[0m\u001b[0;34m]\u001b[0m\u001b[0;34m)\u001b[0m\u001b[0;34m\u001b[0m\u001b[0;34m\u001b[0m\u001b[0m\n",
      "\u001b[0;32m<ipython-input-5-719bc9f39cab>\u001b[0m in \u001b[0;36mpot_step_and_measure\u001b[0;34m()\u001b[0m\n\u001b[1;32m     19\u001b[0m \u001b[0;34m\u001b[0m\u001b[0m\n\u001b[1;32m     20\u001b[0m     \u001b[0;31m# get a list of all devices connected\u001b[0m\u001b[0;34m\u001b[0m\u001b[0;34m\u001b[0m\u001b[0;34m\u001b[0m\u001b[0m\n\u001b[0;32m---> 21\u001b[0;31m     \u001b[0mall_devices\u001b[0m \u001b[0;34m=\u001b[0m \u001b[0mlist\u001b[0m\u001b[0;34m(\u001b[0m\u001b[0mnidaqmx\u001b[0m\u001b[0;34m.\u001b[0m\u001b[0msystem\u001b[0m\u001b[0;34m.\u001b[0m\u001b[0mSystem\u001b[0m\u001b[0;34m.\u001b[0m\u001b[0mlocal\u001b[0m\u001b[0;34m(\u001b[0m\u001b[0;34m)\u001b[0m\u001b[0;34m.\u001b[0m\u001b[0mdevices\u001b[0m\u001b[0;34m)\u001b[0m\u001b[0;34m\u001b[0m\u001b[0;34m\u001b[0m\u001b[0m\n\u001b[0m\u001b[1;32m     22\u001b[0m     \u001b[0;31m# get name of first device\u001b[0m\u001b[0;34m\u001b[0m\u001b[0;34m\u001b[0m\u001b[0;34m\u001b[0m\u001b[0m\n\u001b[1;32m     23\u001b[0m     \u001b[0mdev_name\u001b[0m \u001b[0;34m=\u001b[0m \u001b[0mall_devices\u001b[0m\u001b[0;34m[\u001b[0m\u001b[0;36m0\u001b[0m\u001b[0;34m]\u001b[0m\u001b[0;34m.\u001b[0m\u001b[0mname\u001b[0m\u001b[0;34m\u001b[0m\u001b[0;34m\u001b[0m\u001b[0m\n",
      "\u001b[0;32m~/opt/anaconda3/lib/python3.8/site-packages/nidaqmx/system/_collections/device_collection.py\u001b[0m in \u001b[0;36m__len__\u001b[0;34m(self)\u001b[0m\n\u001b[1;32m     76\u001b[0m \u001b[0;34m\u001b[0m\u001b[0m\n\u001b[1;32m     77\u001b[0m     \u001b[0;32mdef\u001b[0m \u001b[0m__len__\u001b[0m\u001b[0;34m(\u001b[0m\u001b[0mself\u001b[0m\u001b[0;34m)\u001b[0m\u001b[0;34m:\u001b[0m\u001b[0;34m\u001b[0m\u001b[0;34m\u001b[0m\u001b[0m\n\u001b[0;32m---> 78\u001b[0;31m         \u001b[0;32mreturn\u001b[0m \u001b[0mlen\u001b[0m\u001b[0;34m(\u001b[0m\u001b[0mself\u001b[0m\u001b[0;34m.\u001b[0m\u001b[0mdevice_names\u001b[0m\u001b[0;34m)\u001b[0m\u001b[0;34m\u001b[0m\u001b[0;34m\u001b[0m\u001b[0m\n\u001b[0m\u001b[1;32m     79\u001b[0m \u001b[0;34m\u001b[0m\u001b[0m\n\u001b[1;32m     80\u001b[0m     \u001b[0;32mdef\u001b[0m \u001b[0m__ne__\u001b[0m\u001b[0;34m(\u001b[0m\u001b[0mself\u001b[0m\u001b[0;34m,\u001b[0m \u001b[0mother\u001b[0m\u001b[0;34m)\u001b[0m\u001b[0;34m:\u001b[0m\u001b[0;34m\u001b[0m\u001b[0;34m\u001b[0m\u001b[0m\n",
      "\u001b[0;32m~/opt/anaconda3/lib/python3.8/site-packages/nidaqmx/system/_collections/device_collection.py\u001b[0m in \u001b[0;36mdevice_names\u001b[0;34m(self)\u001b[0m\n\u001b[1;32m     94\u001b[0m             \u001b[0mcollection\u001b[0m\u001b[0;34m.\u001b[0m\u001b[0;34m\u001b[0m\u001b[0;34m\u001b[0m\u001b[0m\n\u001b[1;32m     95\u001b[0m         \"\"\"\n\u001b[0;32m---> 96\u001b[0;31m         \u001b[0mcfunc\u001b[0m \u001b[0;34m=\u001b[0m \u001b[0mlib_importer\u001b[0m\u001b[0;34m.\u001b[0m\u001b[0mwindll\u001b[0m\u001b[0;34m.\u001b[0m\u001b[0mDAQmxGetSysDevNames\u001b[0m\u001b[0;34m\u001b[0m\u001b[0;34m\u001b[0m\u001b[0m\n\u001b[0m\u001b[1;32m     97\u001b[0m         \u001b[0;32mif\u001b[0m \u001b[0mcfunc\u001b[0m\u001b[0;34m.\u001b[0m\u001b[0margtypes\u001b[0m \u001b[0;32mis\u001b[0m \u001b[0;32mNone\u001b[0m\u001b[0;34m:\u001b[0m\u001b[0;34m\u001b[0m\u001b[0;34m\u001b[0m\u001b[0m\n\u001b[1;32m     98\u001b[0m             \u001b[0;32mwith\u001b[0m \u001b[0mcfunc\u001b[0m\u001b[0;34m.\u001b[0m\u001b[0marglock\u001b[0m\u001b[0;34m:\u001b[0m\u001b[0;34m\u001b[0m\u001b[0;34m\u001b[0m\u001b[0m\n",
      "\u001b[0;32m~/opt/anaconda3/lib/python3.8/site-packages/nidaqmx/_lib.py\u001b[0m in \u001b[0;36mwindll\u001b[0;34m(self)\u001b[0m\n\u001b[1;32m    164\u001b[0m     \u001b[0;32mdef\u001b[0m \u001b[0mwindll\u001b[0m\u001b[0;34m(\u001b[0m\u001b[0mself\u001b[0m\u001b[0;34m)\u001b[0m\u001b[0;34m:\u001b[0m\u001b[0;34m\u001b[0m\u001b[0;34m\u001b[0m\u001b[0m\n\u001b[1;32m    165\u001b[0m         \u001b[0;32mif\u001b[0m \u001b[0mself\u001b[0m\u001b[0;34m.\u001b[0m\u001b[0m_windll\u001b[0m \u001b[0;32mis\u001b[0m \u001b[0;32mNone\u001b[0m\u001b[0;34m:\u001b[0m\u001b[0;34m\u001b[0m\u001b[0;34m\u001b[0m\u001b[0m\n\u001b[0;32m--> 166\u001b[0;31m             \u001b[0mself\u001b[0m\u001b[0;34m.\u001b[0m\u001b[0m_import_lib\u001b[0m\u001b[0;34m(\u001b[0m\u001b[0;34m)\u001b[0m\u001b[0;34m\u001b[0m\u001b[0;34m\u001b[0m\u001b[0m\n\u001b[0m\u001b[1;32m    167\u001b[0m         \u001b[0;32mreturn\u001b[0m \u001b[0mself\u001b[0m\u001b[0;34m.\u001b[0m\u001b[0m_windll\u001b[0m\u001b[0;34m\u001b[0m\u001b[0;34m\u001b[0m\u001b[0m\n\u001b[1;32m    168\u001b[0m \u001b[0;34m\u001b[0m\u001b[0m\n",
      "\u001b[0;32m~/opt/anaconda3/lib/python3.8/site-packages/nidaqmx/_lib.py\u001b[0m in \u001b[0;36m_import_lib\u001b[0;34m(self)\u001b[0m\n\u001b[1;32m    221\u001b[0m                     'contact National Instruments for support.')\n\u001b[1;32m    222\u001b[0m         \u001b[0;32melse\u001b[0m\u001b[0;34m:\u001b[0m\u001b[0;34m\u001b[0m\u001b[0;34m\u001b[0m\u001b[0m\n\u001b[0;32m--> 223\u001b[0;31m             raise DaqNotFoundError(\n\u001b[0m\u001b[1;32m    224\u001b[0m                 \u001b[0;34m'NI-DAQmx Python is not supported on this platform: {0}. '\u001b[0m\u001b[0;34m\u001b[0m\u001b[0;34m\u001b[0m\u001b[0m\n\u001b[1;32m    225\u001b[0m                 \u001b[0;34m'Please direct any questions or feedback to National '\u001b[0m\u001b[0;34m\u001b[0m\u001b[0;34m\u001b[0m\u001b[0m\n",
      "\u001b[0;31mDaqNotFoundError\u001b[0m: NI-DAQmx Python is not supported on this platform: darwin. Please direct any questions or feedback to National Instruments."
     ]
    }
   ],
   "source": [
    "'''Code block 2'''\n",
    "\n",
    "# set potential and acquire data\n",
    "acquired_data = pot_step_and_measure()\n",
    "WE_step_data = np.array(acquired_data[0]) \n",
    "Rm_step_data = np.array(acquired_data[1]) \n",
    "\n",
    "# Measurement resistor (needs to match what is on the board)\n",
    "Rm = 1000\n",
    "\n",
    "# Use potential across Rm to calculate current \n",
    "Rm_current_data = Rm_step_data/Rm\n",
    "\n",
    "''' set up subplots '''\n",
    "fig, (ax1, ax2, ax3) = plt.subplots(1, 3, figsize = (14, 6))\n",
    "\n",
    "# subplot 1: WE potential profile vs samples\n",
    "ax1.set_title('WE potential profile', fontsize = 16)\n",
    "ax1.plot(total_step_time, WE_step_data)\n",
    "ax1.set_xlabel('Time (s)', fontsize = 16)\n",
    "ax1.set_ylabel('Potential (V)', fontsize = 16)\n",
    "ax1.tick_params(axis='y', which='major', pad=5)\n",
    "\n",
    "# subplot 2: Rm potential profile vs time \n",
    "ax2.set_title('Rm potential profile', fontsize = 16)\n",
    "ax2.plot(total_step_time, Rm_step_data)\n",
    "ax2.set_xlabel('Time (s)', fontsize = 16)\n",
    "ax2.set_ylabel('Potential (V)', fontsize = 16)\n",
    "ax2.tick_params(axis='y', which='major', pad=5)\n",
    "\n",
    "# subplot 3: Rm current profile vs time \n",
    "ax3.set_title('Rm current profile', fontsize = 16)\n",
    "ax3.plot(total_step_time, Rm_current_data)\n",
    "ax3.set_xlabel('Time (s)', fontsize = 16)\n",
    "ax3.set_ylabel('Current (A)', fontsize = 16)\n",
    "ax3.tick_params(axis='y', which='major', pad=5)\n",
    "\n",
    "plt.show()"
   ]
  },
  {
   "cell_type": "markdown",
   "metadata": {},
   "source": [
    "# Plot and export data\n",
    "\n",
    "Remember to change the plot and file names each time"
   ]
  },
  {
   "cell_type": "code",
   "execution_count": 4,
   "metadata": {},
   "outputs": [
    {
     "ename": "NameError",
     "evalue": "name 'total_step_time' is not defined",
     "output_type": "error",
     "traceback": [
      "\u001b[1;31m---------------------------------------------------------------------------\u001b[0m",
      "\u001b[1;31mNameError\u001b[0m                                 Traceback (most recent call last)",
      "\u001b[1;32m~\\AppData\\Local\\Temp/ipykernel_12048/3779429527.py\u001b[0m in \u001b[0;36m<module>\u001b[1;34m\u001b[0m\n\u001b[0;32m     29\u001b[0m \u001b[1;33m\u001b[0m\u001b[0m\n\u001b[0;32m     30\u001b[0m \u001b[1;31m# # Save and export data\u001b[0m\u001b[1;33m\u001b[0m\u001b[1;33m\u001b[0m\u001b[1;33m\u001b[0m\u001b[0m\n\u001b[1;32m---> 31\u001b[1;33m exported_data = pd.DataFrame({'Time (s)': total_step_time , 'WE potential': WE_step_data, \n\u001b[0m\u001b[0;32m     32\u001b[0m                             'Rm potential': Rm_step_data, 'Rm current': Rm_current_data})\n\u001b[0;32m     33\u001b[0m \u001b[1;33m\u001b[0m\u001b[0m\n",
      "\u001b[1;31mNameError\u001b[0m: name 'total_step_time' is not defined"
     ]
    }
   ],
   "source": [
    "'''Code block 3'''\n",
    "\n",
    "''' set up subplots '''\n",
    "# fig, (ax1, ax2, ax3) = plt.subplots(1, 3, figsize = (14, 6))\n",
    "\n",
    "# # subplot 1: WE potential profile vs samples\n",
    "# ax1.set_title('WE potential profile', fontsize = 16)\n",
    "# ax1.plot(total_step_time, WE_step_data)\n",
    "# ax1.set_xlabel('Time (s)', fontsize = 16)\n",
    "# ax1.set_ylabel('Potential (V)', fontsize = 16)\n",
    "# ax1.tick_params(axis='y', which='major', pad=5)\n",
    "\n",
    "# # subplot 2: Rm potential profile vs time \n",
    "# ax2.set_title('Rm potential profile', fontsize = 16)\n",
    "# ax2.plot(total_step_time, Rm_step_data)\n",
    "# ax2.set_xlabel('Time (s)', fontsize = 16)\n",
    "# ax2.set_ylabel('Potential (V)', fontsize = 16)\n",
    "# ax2.tick_params(axis='y', which='major', pad=5)\n",
    "\n",
    "# # subplot 3: Rm current profile vs time \n",
    "# ax3.set_title('Rm current profile', fontsize = 16)\n",
    "# ax3.plot(total_step_time, Rm_current_data)\n",
    "# ax3.set_xlabel('Time (s)', fontsize = 16)\n",
    "# ax3.set_ylabel('Current (A)', fontsize = 16)\n",
    "# ax3.tick_params(axis='y', which='major', pad=5)\n",
    "\n",
    "# # save plot\n",
    "# plt.savefig('15s OCV+.2V 10uF 1kOhms.png', dpi = 300, bbox_inches='tight')\n",
    "\n",
    "# # Save and export data \n",
    "exported_data = pd.DataFrame({'Time (s)': total_step_time , 'WE potential': WE_step_data, \n",
    "                            'Rm potential': Rm_step_data, 'Rm current': Rm_current_data})\n",
    "\n",
    "exported_data.to_csv('15s OCV+.2V 10uF 1kOhms.txt', index = False)"
   ]
  },
  {
   "cell_type": "markdown",
   "metadata": {},
   "source": [
    "# Data analysis and fitting\n",
    "\n",
    "Do a non linear fit of the data in the current decay region after the potential step using the equation derived in the prelab. This will extract a diffusion coefficient. The same equation can also be found above as a function called 'fit_func'. \n",
    "\n",
    "Depending on the rc time constant you have set on your board, you may need to skip some points as to not fit data when the capacitor is still charging. You may also need to provide a starting points for the optimization. Generally diffusion coefficients are on the order of 10$^{-5}$ cm$^2$/s."
   ]
  },
  {
   "cell_type": "code",
   "execution_count": 52,
   "metadata": {},
   "outputs": [
    {
     "data": {
      "image/png": "[encoded data removed]",
      "text/plain": [
       "<Figure size 432x288 with 1 Axes>"
      ]
     },
     "metadata": {
      "needs_background": "light"
     },
     "output_type": "display_data"
    }
   ],
   "source": [
    "# recalculate time array during the potential step (start of potential step is t=0)\n",
    "total_step_time = np.arange(0, samp_num_step, 1)/samp_rate\n",
    "\n",
    "# Slice current data during the potential step. skip the first n points \n",
    "n_skip = 50\n",
    "step_current = Rm_current_data[samp_num_init+n_skip: samp_num_init + samp_num_step]\n",
    "total_step_time = total_step_time[n_skip:]\n",
    "\n",
    "# guess diffusion coeff and model data using equation derived in prelab\n",
    "D = 2e-6\n",
    "guess_data = fit_func(total_step_time, D)\n",
    "\n",
    "# plot data\n",
    "plt.title('Current vs time after potential step')\n",
    "plt.scatter(total_step_time, guess_data, color = 'red', label = 'model', s = 5)\n",
    "plt.scatter(total_step_time, step_current, color = 'blue', label = 'data', s = 5)\n",
    "plt.xlabel('Time (s)')\n",
    "plt.ylabel('Current (A)')\n",
    "#plt.ylim(-1.5e-4, 0)\n",
    "plt.legend()\n",
    "\n",
    "# save data\n",
    "plt.savefig('diffusion fit.png', dpi = 300, bbox_inches='tight')"
   ]
  },
  {
   "cell_type": "code",
   "execution_count": 9,
   "metadata": {},
   "outputs": [
    {
     "ename": "NameError",
     "evalue": "name 'Rm_current_data' is not defined",
     "output_type": "error",
     "traceback": [
      "\u001b[0;31m---------------------------------------------------------------------------\u001b[0m",
      "\u001b[0;31mNameError\u001b[0m                                 Traceback (most recent call last)",
      "\u001b[0;32m<ipython-input-9-3a7b1b7ee766>\u001b[0m in \u001b[0;36m<module>\u001b[0;34m\u001b[0m\n\u001b[1;32m      6\u001b[0m \u001b[0;31m# Slice current data during the potential step. skip the first n points\u001b[0m\u001b[0;34m\u001b[0m\u001b[0;34m\u001b[0m\u001b[0;34m\u001b[0m\u001b[0m\n\u001b[1;32m      7\u001b[0m \u001b[0mn_skip\u001b[0m \u001b[0;34m=\u001b[0m \u001b[0;36m50\u001b[0m\u001b[0;34m\u001b[0m\u001b[0;34m\u001b[0m\u001b[0m\n\u001b[0;32m----> 8\u001b[0;31m \u001b[0mstep_current\u001b[0m \u001b[0;34m=\u001b[0m \u001b[0mRm_current_data\u001b[0m\u001b[0;34m[\u001b[0m\u001b[0msamp_num_init\u001b[0m\u001b[0;34m+\u001b[0m\u001b[0mn_skip\u001b[0m\u001b[0;34m:\u001b[0m \u001b[0msamp_num_init\u001b[0m \u001b[0;34m+\u001b[0m \u001b[0msamp_num_step\u001b[0m\u001b[0;34m]\u001b[0m\u001b[0;34m\u001b[0m\u001b[0;34m\u001b[0m\u001b[0m\n\u001b[0m\u001b[1;32m      9\u001b[0m \u001b[0mtotal_step_time\u001b[0m \u001b[0;34m=\u001b[0m \u001b[0mtotal_step_time\u001b[0m\u001b[0;34m[\u001b[0m\u001b[0mn_skip\u001b[0m\u001b[0;34m:\u001b[0m\u001b[0;34m]\u001b[0m\u001b[0;34m\u001b[0m\u001b[0;34m\u001b[0m\u001b[0m\n\u001b[1;32m     10\u001b[0m \u001b[0;34m\u001b[0m\u001b[0m\n",
      "\u001b[0;31mNameError\u001b[0m: name 'Rm_current_data' is not defined"
     ]
    }
   ],
   "source": [
    "'''Code block 4'''\n",
    "\n",
    "# recalculate time array during the potential step (start of potential step is t=0)\n",
    "total_step_time = np.arange(0, samp_num_step, 1)/samp_rate\n",
    "\n",
    "# Slice current data during the potential step. skip the first n points \n",
    "n_skip = 50\n",
    "step_current = Rm_current_data[samp_num_init+n_skip: samp_num_init + samp_num_step]\n",
    "total_step_time = total_step_time[n_skip:]\n",
    "\n",
    "# fit data with initial guess for diffusion coefficient (p0 is the initial guess)\n",
    "fit_param = curve_fit(fit_func, total_step_time, step_current, p0=[6e-7], maxfev=10000)\n",
    "print(f'Fitted diffusion coefficient is {fit_param[0][0]} cm^2/s' )\n",
    "\n",
    "# plot data\n",
    "plt.title('Current vs time after potential step')\n",
    "plt.scatter(total_step_time, fit_func(total_step_time, fit_param[0]), color = 'red', label = 'model', s = 5)\n",
    "plt.scatter(total_step_time, step_current, color = 'blue', label = 'data', s = 5)\n",
    "plt.xlabel('Time (s)')\n",
    "plt.ylabel('Current (A)')\n",
    "#plt.ylim(-1.5e-4, 0)\n",
    "plt.legend()\n",
    "\n",
    "# save data\n",
    "plt.savefig('diffusion fit-1.png', dpi = 300, bbox_inches='tight')"
   ]
  },
  {
   "cell_type": "code",
   "execution_count": 12,
   "metadata": {},
   "outputs": [
    {
     "data": {
      "text/plain": [
       "4.321949052982613e-05"
      ]
     },
     "execution_count": 12,
     "metadata": {},
     "output_type": "execute_result"
    }
   ],
   "source": [
    "fit_func(1, 2e-6)"
   ]
  },
  {
   "cell_type": "code",
   "execution_count": null,
   "metadata": {},
   "outputs": [],
   "source": []
  }
 ],
 "metadata": {
  "kernelspec": {
   "display_name": "Python 3 (ipykernel)",
   "language": "python",
   "name": "python3"
  },
  "language_info": {
   "codemirror_mode": {
    "name": "ipython",
    "version": 3
   },
   "file_extension": ".py",
   "mimetype": "text/x-python",
   "name": "python",
   "nbconvert_exporter": "python",
   "pygments_lexer": "ipython3",
   "version": "3.8.11"
  }
 },
 "nbformat": 4,
 "nbformat_minor": 4
}
