{
 "cells": [
  {
   "cell_type": "code",
   "execution_count": 1,
   "metadata": {},
   "outputs": [],
   "source": [
    "import numpy as np\n",
    "import matplotlib.pyplot as plt\n",
    "from IPython.core.display import display\n",
    "\n",
    "plt.style.use('JGW')\n",
    "import pandas as pd"
   ]
  },
  {
   "cell_type": "code",
   "execution_count": 2,
   "metadata": {},
   "outputs": [
    {
     "data": {
      "text/plain": "                              ⎛ F⋅(-E_{Fe__\\circ__{4/3}} + E_{Cell})    ⎞\n                              ⎜ ────────────────────────────────────    ⎟\n                              ⎜                 R⋅T                     ⎟\n               n_{Fe(II)init}⋅⎝ℯ                                     + 1⎠\nn_{C(IV)add} = ──────────────────────────────────────────────────────────\n                           -F⋅(-E_{Fe__\\circ__{3/2}} + E_{Cell})         \n                           ──────────────────────────────────────        \n                                            R⋅T                          \n                      1 + ℯ                                              ",
      "text/latex": "$\\displaystyle n_{C(IV)add} = \\frac{n_{Fe(II)init} \\left(e^{\\frac{F \\left(- E^\\circ_{Fe^{4/3}} + E_{Cell}\\right)}{R T}} + 1\\right)}{1 + e^{- \\frac{F \\left(- E^\\circ_{Fe^{3/2}} + E_{Cell}\\right)}{R T}}}$"
     },
     "metadata": {},
     "output_type": "display_data"
    },
    {
     "name": "stdout",
     "output_type": "stream",
     "text": [
      "Solving for E_Cell: \n",
      "\n"
     ]
    },
    {
     "data": {
      "text/plain": "⎡       ⎛       ______________________________________________________________\n⎢       ⎜      ╱ ⎛               E_{Fe__\\circ__{4/3}}⋅F                       \n⎢       ⎜     ╱  ⎜               ──────────────────────                       \n⎢       ⎜    ╱   ⎜            2           R⋅T                                 \n⎢       ⎜- ╲╱    ⎝n_{C(IV)add} ⋅ℯ                       + 4⋅n_{C(IV)add}⋅n_{Fe\n⎢R⋅T⋅log⎜─────────────────────────────────────────────────────────────────────\n⎢       ⎝                                                                     \n⎢─────────────────────────────────────────────────────────────────────────────\n⎣                                                                             \n\n______________________________________________________________________________\n           E_{Fe__\\circ__{3/2}}⋅F                                  E_{Fe__\\cir\n           ──────────────────────                                  ───────────\n                    R⋅T                                                     R⋅\n(II)init}⋅ℯ                       - 2⋅n_{C(IV)add}⋅n_{Fe(II)init}⋅ℯ           \n──────────────────────────────────────────────────────────────────────────────\n                                                                 2⋅n_{Fe(II)in\n──────────────────────────────────────────────────────────────────────────────\n                                                                     F        \n\n______________________________________________________________________________\nc__{4/3}}⋅F                    E_{Fe__\\circ__{4/3}}⋅F⎞  E_{Fe__\\circ__{4/3}}⋅F\n───────────                    ──────────────────────⎟  ──────────────────────\nT                           2           R⋅T          ⎟           R⋅T          \n            + n_{Fe(II)init} ⋅ℯ                      ⎠⋅ℯ                      \n──────────────────────────────────────────────────────────────────────────────\nit}                                                                           \n──────────────────────────────────────────────────────────────────────────────\n                                                                              \n\n_                                                          ⎞         ⎛     ___\n                                     E_{Fe__\\circ__{4/3}}⋅F⎟         ⎜    ╱ ⎛ \n                                     ──────────────────────⎟         ⎜   ╱  ⎜ \n                                              R⋅T          ⎟         ⎜  ╱   ⎜ \n  + (n_{C(IV)add} - n_{Fe(II)init})⋅ℯ                      ⎟         ⎜╲╱    ⎝n\n───────────────────────────────────────────────────────────⎟  R⋅T⋅log⎜────────\n                                                           ⎠         ⎝        \n────────────────────────────────────────────────────────────, ────────────────\n                                                                              \n\n______________________________________________________________________________\n              E_{Fe__\\circ__{4/3}}⋅F                                  E_{Fe__\\\n              ──────────────────────                                  ────────\n           2           R⋅T                                                    \n_{C(IV)add} ⋅ℯ                       + 4⋅n_{C(IV)add}⋅n_{Fe(II)init}⋅ℯ        \n──────────────────────────────────────────────────────────────────────────────\n                                                                              \n──────────────────────────────────────────────────────────────────────────────\n                                                                              \n\n______________________________________________________________________________\ncirc__{3/2}}⋅F                                  E_{Fe__\\circ__{4/3}}⋅F        \n──────────────                                  ──────────────────────        \n R⋅T                                                     R⋅T                  \n               - 2⋅n_{C(IV)add}⋅n_{Fe(II)init}⋅ℯ                       + n_{Fe\n──────────────────────────────────────────────────────────────────────────────\n                                               2⋅n_{Fe(II)init}               \n──────────────────────────────────────────────────────────────────────────────\n                                                   F                          \n\n____________________________________________________________                  \n            E_{Fe__\\circ__{4/3}}⋅F⎞  E_{Fe__\\circ__{4/3}}⋅F                   \n            ──────────────────────⎟  ──────────────────────                   \n         2           R⋅T          ⎟           R⋅T                             \n(II)init} ⋅ℯ                      ⎠⋅ℯ                        + (n_{C(IV)add} -\n──────────────────────────────────────────────────────────────────────────────\n                                                                              \n──────────────────────────────────────────────────────────────────────────────\n                                                                              \n\n                                        ⎞⎤\n                  E_{Fe__\\circ__{4/3}}⋅F⎟⎥\n                  ──────────────────────⎟⎥\n                           R⋅T          ⎟⎥\n n_{Fe(II)init})⋅ℯ                      ⎟⎥\n────────────────────────────────────────⎟⎥\n                                        ⎠⎥\n─────────────────────────────────────────⎥\n                                         ⎦",
      "text/latex": "$\\displaystyle \\left[ \\frac{R T \\log{\\left(\\frac{- \\sqrt{\\left(n_{C(IV)add}^{2} e^{\\frac{E^\\circ_{Fe^{4/3}} F}{R T}} + 4 n_{C(IV)add} n_{Fe(II)init} e^{\\frac{E^\\circ_{Fe^{3/2}} F}{R T}} - 2 n_{C(IV)add} n_{Fe(II)init} e^{\\frac{E^\\circ_{Fe^{4/3}} F}{R T}} + n_{Fe(II)init}^{2} e^{\\frac{E^\\circ_{Fe^{4/3}} F}{R T}}\\right) e^{\\frac{E^\\circ_{Fe^{4/3}} F}{R T}}} + \\left(n_{C(IV)add} - n_{Fe(II)init}\\right) e^{\\frac{E^\\circ_{Fe^{4/3}} F}{R T}}}{2 n_{Fe(II)init}} \\right)}}{F}, \\  \\frac{R T \\log{\\left(\\frac{\\sqrt{\\left(n_{C(IV)add}^{2} e^{\\frac{E^\\circ_{Fe^{4/3}} F}{R T}} + 4 n_{C(IV)add} n_{Fe(II)init} e^{\\frac{E^\\circ_{Fe^{3/2}} F}{R T}} - 2 n_{C(IV)add} n_{Fe(II)init} e^{\\frac{E^\\circ_{Fe^{4/3}} F}{R T}} + n_{Fe(II)init}^{2} e^{\\frac{E^\\circ_{Fe^{4/3}} F}{R T}}\\right) e^{\\frac{E^\\circ_{Fe^{4/3}} F}{R T}}} + \\left(n_{C(IV)add} - n_{Fe(II)init}\\right) e^{\\frac{E^\\circ_{Fe^{4/3}} F}{R T}}}{2 n_{Fe(II)init}} \\right)}}{F}\\right]$"
     },
     "metadata": {},
     "output_type": "display_data"
    }
   ],
   "source": [
    "# solve Equation 13 from Prelab E2 for E_cell\n",
    "import sympy as sp\n",
    "from sympy.interactive import printing\n",
    "printing.init_printing(use_latex='mathjax')\n",
    "\n",
    "E, R, T, F, n_Fe2, n_Ce4, E0_Fe, E0_Ce = sp.symbols('E_{Cell} R T F n_{Fe(II)init} n_{C(IV)add} E^\\circ_{Fe^{3/2}} E^\\circ_{Fe^{4/3}}')\n",
    "# display(E, R, T, F, n_Fe2, n_Ce4, E0_Fe, E0_Ce)\n",
    "def f(x):\n",
    "    return (1 + sp.exp(-x))**(-1)\n",
    "\n",
    "def g(x):\n",
    "    return 1+sp.exp(x)\n",
    "\n",
    "eq13 = sp.Eq(n_Ce4, n_Fe2 * f((E - E0_Fe)/(R*T/F)) * g((E - E0_Ce)/(R*T/F)))\n",
    "display(eq13)\n",
    "\n",
    "E_predict = sp.solve(eq13, E)\n",
    "print('Solving for E_Cell:', '\\n')\n",
    "display(E_predict)"
   ]
  },
  {
   "cell_type": "code",
   "execution_count": 3,
   "metadata": {},
   "outputs": [
    {
     "data": {
      "text/latex": [
       "$\\displaystyle 0.0256783126910919 \\log{\\left(\\frac{\\sqrt{\\left(n_{C(IV)add}^{2} e^{38.9433687497276 E^\\circ_{Fe^{4/3}}} + 4 n_{C(IV)add} n_{Fe(II)init} e^{38.9433687497276 E^\\circ_{Fe^{3/2}}} - 2 n_{C(IV)add} n_{Fe(II)init} e^{38.9433687497276 E^\\circ_{Fe^{4/3}}} + n_{Fe(II)init}^{2} e^{38.9433687497276 E^\\circ_{Fe^{4/3}}}\\right) e^{38.9433687497276 E^\\circ_{Fe^{4/3}}}} + \\left(n_{C(IV)add} - n_{Fe(II)init}\\right) e^{38.9433687497276 E^\\circ_{Fe^{4/3}}}}{2 n_{Fe(II)init}} \\right)}$"
      ],
      "text/plain": [
       "                      ⎛   ____________________________________________________\n",
       "                      ⎜  ╱ ⎛            2  38.9433687497276⋅E_{Fe__\\circ__{4/3\n",
       "                      ⎜╲╱  ⎝n_{C(IV)add} ⋅ℯ                                   \n",
       "0.0256783126910919⋅log⎜───────────────────────────────────────────────────────\n",
       "                      ⎝                                                       \n",
       "\n",
       "______________________________________________________________________________\n",
       "}}                                  38.9433687497276⋅E_{Fe__\\circ__{3/2}}     \n",
       "   + 4⋅n_{C(IV)add}⋅n_{Fe(II)init}⋅ℯ                                      - 2⋅\n",
       "──────────────────────────────────────────────────────────────────────────────\n",
       "                                                                              \n",
       "\n",
       "______________________________________________________________________________\n",
       "                             38.9433687497276⋅E_{Fe__\\circ__{4/3}}            \n",
       "n_{C(IV)add}⋅n_{Fe(II)init}⋅ℯ                                      + n_{Fe(II)\n",
       "──────────────────────────────────────────────────────────────────────────────\n",
       "                                            2⋅n_{Fe(II)init}                  \n",
       "\n",
       "______________________________________________________________________________\n",
       "     2  38.9433687497276⋅E_{Fe__\\circ__{4/3}}⎞  38.9433687497276⋅E_{Fe__\\circ_\n",
       "init} ⋅ℯ                                     ⎠⋅ℯ                              \n",
       "──────────────────────────────────────────────────────────────────────────────\n",
       "                                                                              \n",
       "\n",
       "________                                                                      \n",
       "_{4/3}}                                     38.9433687497276⋅E_{Fe__\\circ__{4/\n",
       "         + (n_{C(IV)add} - n_{Fe(II)init})⋅ℯ                                  \n",
       "──────────────────────────────────────────────────────────────────────────────\n",
       "                                                                              \n",
       "\n",
       "   ⎞\n",
       "3}}⎟\n",
       "   ⎟\n",
       "───⎟\n",
       "   ⎠"
      ]
     },
     "metadata": {},
     "output_type": "display_data"
    }
   ],
   "source": [
    "# Collect known parameters\n",
    "known_params = {R: 8.314,\n",
    "                F: 96485,\n",
    "                T: 298}\n",
    "\n",
    "# The first solution gives only complex numbers (log(negative)), toss it\n",
    "model = E_predict[1].subs(known_params)\n",
    "display(model)"
   ]
  },
  {
   "cell_type": "code",
   "execution_count": 5,
   "metadata": {},
   "outputs": [],
   "source": [
    "# Get the data\n",
    "data_path = r\"C:\\Users\\jgage\\OneDrive - Stanford\\2021\\CHEM 274\\Labs\\E3\\Fine Titration Data.txt\"\n",
    "number_steps_in_calibration = 6000\n",
    "mass_of_calibration_in_g = 1.355\n",
    "\n",
    "titration_data = pd.read_csv(data_path, skiprows = 4, sep = ',')\n",
    "titration_data['step in g sol'] = (titration_data['step'] / number_steps_in_calibration) * mass_of_calibration_in_g\n",
    "titration_data['step in mol Ce(IV)'] = titration_data['step in g sol'] * (0.990 / 20.030) / 548.22\n",
    "\n",
    "x_data = titration_data['step in mol Ce(IV)']\n",
    "y_data = titration_data['mean potential']"
   ]
  },
  {
   "cell_type": "code",
   "execution_count": 10,
   "metadata": {},
   "outputs": [
    {
     "name": "stdout",
     "output_type": "stream",
     "text": [
      "[zoo, 0.361706950752987, 0.380139865423610, 0.390759447951217, 0.398557499931513, 0.404530847968344, 0.409771672347333, 0.414122044628858, 0.417913087970662, 0.421404808862530, 0.427372233276485, 0.432579349023674, 0.437247511982658, 0.447111347032517, 0.455615897852612, 0.463413949832908, 0.470929211695427, 0.478463125772971, 0.481552914950427, 0.484753758313137, 0.488067177836059, 0.491518266438717, 0.495176068626863, 0.499062039988369, 0.503307077455659, 0.505568199198108, 0.506747815289365, 0.507961511505766, 0.509239235036616, 0.511858205632664, 0.514675215113004, 0.517767603772799, 0.524863469622043, 0.533947765324265, 0.547035334566760, 0.572191979880249, 1.15523120547763, 1.17703054453523, 1.18864824595946, 1.20269102629562]\n"
     ]
    }
   ],
   "source": [
    "guesses = {n_Fe2: 1.40 * 10**-4,\n",
    "           E0_Fe: 0.47,\n",
    "           E0_Ce: 1.23  \n",
    "}\n",
    "\n",
    "y_model = []\n",
    "for step in range(len(x_data)):\n",
    "    y_model.append(model.subs(guesses).subs(n_Ce4, x_data[step]))\n",
    "\n",
    "print(y_model)"
   ]
  }
 ],
 "metadata": {
  "kernelspec": {
   "display_name": "Python 3",
   "language": "python",
   "name": "python3"
  },
  "language_info": {
   "codemirror_mode": {
    "name": "ipython",
    "version": 3
   },
   "file_extension": ".py",
   "mimetype": "text/x-python",
   "name": "python",
   "nbconvert_exporter": "python",
   "pygments_lexer": "ipython3",
   "version": "3.8.5"
  }
 },
 "nbformat": 4,
 "nbformat_minor": 4
}