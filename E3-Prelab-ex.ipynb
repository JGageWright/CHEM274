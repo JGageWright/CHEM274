{
 "cells": [
  {
   "cell_type": "markdown",
   "metadata": {},
   "source": [
    "# E3 Prelab Q1-2 Part 1\n",
    "\n",
    "In Q1 you are asked to compare the titration data obtained from E2 to the model of a titration that you developed in the E2 prelab. You are then asked to modify some parameters in the model to best fit the experimental data. \n",
    "\n",
    "The model is an expression for the number of Ce(IV) added as  function of potential. A comparison will require you to convert steps of the sringe pump to the number of Ce(IV) added. This first part shows an example of a similar conversion to grams of the Ce(IV)-containing solution added based off the 'Fine Titration Data.txt' uploaded to canvas. "
   ]
  },
  {
   "cell_type": "markdown",
   "metadata": {},
   "source": [
    "## Import Packages"
   ]
  },
  {
   "cell_type": "code",
   "execution_count": 1,
   "metadata": {},
   "outputs": [],
   "source": [
    "import os\n",
    "import numpy as np\n",
    "import matplotlib.pyplot as plt\n",
    "import pandas as pd"
   ]
  },
  {
   "cell_type": "markdown",
   "metadata": {},
   "source": [
    "# Import titration data \n",
    "\n",
    "Import titration data into a pandas dataframe. For the example dataset, the delimiters are commas and the first 4 rows contains details of the calibration that you will need to convert steps to number of Ce(IV) added.  We skip those rows in the first step. The format of your titration data may differ.  "
   ]
  },
  {
   "cell_type": "code",
   "execution_count": 2,
   "metadata": {},
   "outputs": [
    {
     "name": "stdout",
     "output_type": "stream",
     "text": [
      "    step  mean potential   std dev\n",
      "0      0        0.375151  0.000299\n",
      "1    100        0.382833  0.000312\n",
      "2    200        0.394100  0.000305\n",
      "3    300        0.402321  0.000345\n",
      "4    400        0.408935  0.000296\n",
      "5    500        0.415232  0.000310\n",
      "6    600        0.419997  0.000306\n",
      "7    700        0.424276  0.000301\n",
      "8    800        0.428117  0.000317\n",
      "9    900        0.432301  0.000302\n",
      "10  1100        0.438227  0.000319\n",
      "11  1300        0.443456  0.000329\n",
      "12  1500        0.448138  0.000326\n",
      "13  2000        0.458960  0.000313\n",
      "14  2500        0.468684  0.000318\n",
      "15  3000        0.477850  0.000285\n",
      "16  3500        0.487472  0.000320\n",
      "17  4000        0.498617  0.000302\n",
      "18  4200        0.503372  0.000318\n",
      "19  4400        0.508943  0.000321\n",
      "20  4600        0.515254  0.000335\n",
      "21  4800        0.522594  0.000297\n",
      "22  5000        0.532252  0.000307\n",
      "23  5200        0.546238  0.000277\n",
      "24  5400        0.577621  0.000310\n",
      "25  5500        0.740865  0.003687\n",
      "26  5550        1.090459  0.000386\n",
      "27  5600        1.119391  0.000326\n",
      "28  5650        1.130846  0.000341\n",
      "29  5750        1.145276  0.000315\n",
      "30  5850        1.154799  0.000316\n",
      "31  5950        1.163702  0.000298\n",
      "32  6150        1.174426  0.000292\n",
      "33  6350        1.182450  0.000304\n",
      "34  6550        1.188409  0.000294\n",
      "35  6750        1.193187  0.000337\n",
      "36  7250        1.201467  0.000309\n",
      "37  7750        1.208584  0.000328\n",
      "38  8250        1.214053  0.000293\n",
      "39  9250        1.221630  0.000305\n"
     ]
    }
   ],
   "source": [
    "titration_data = pd.read_csv('Fine Titration Data.txt', skiprows = 4, sep = ',')\n",
    "print(titration_data)"
   ]
  },
  {
   "cell_type": "raw",
   "metadata": {},
   "source": []
  },
  {
   "cell_type": "markdown",
   "metadata": {},
   "source": [
    "# Read calibration data\n",
    "\n",
    "Here we simply want to see the pump calibration values. In the example file the calibration data are in the first four rows of the file. Your own calibration data might be located elsewhere e.g. in your lab notebook. "
   ]
  },
  {
   "cell_type": "code",
   "execution_count": 3,
   "metadata": {},
   "outputs": [
    {
     "data": {
      "text/plain": [
       "{'Mass of FeSO4 Solution Added': ' 0.500 g',\n",
       " 'Mass of (NH4)2Ce(NO4)6': ' 0.990 g',\n",
       " 'Mass of Cerium solution': ' 20.030 g ',\n",
       " 'Pump Calibration of Ce Solution': ' 6000 Steps = 1.355 g '}"
      ]
     },
     "execution_count": 3,
     "metadata": {},
     "output_type": "execute_result"
    }
   ],
   "source": [
    "# read first 4 lines of titration data which contains the calibration info\n",
    "calibration_data = pd.read_csv('Fine Titration Data.txt', nrows = 4, header = None, sep = ':')\n",
    "# create dictionary containing calibration information\n",
    "calibration_dict = dict(zip(calibration_data[0], calibration_data[1]))\n",
    "calibration_dict"
   ]
  },
  {
   "cell_type": "markdown",
   "metadata": {},
   "source": [
    "# Convert steps to grams of solution added\n",
    "\n",
    "Use the calibration data to convert the number of steps of Ce(IV) added in the titration to grams of the Ce(IV)-containing solution added. In the example file, 1 step correspoonds to 1.355/6000 grams of Ce(IV) solution "
   ]
  },
  {
   "cell_type": "code",
   "execution_count": 78,
   "metadata": {},
   "outputs": [
    {
     "data": {
      "text/plain": [
       "0     0.000000\n",
       "1     0.022583\n",
       "2     0.045167\n",
       "3     0.067750\n",
       "4     0.090333\n",
       "5     0.112917\n",
       "6     0.135500\n",
       "7     0.158083\n",
       "8     0.180667\n",
       "9     0.203250\n",
       "10    0.248417\n",
       "11    0.293583\n",
       "12    0.338750\n",
       "13    0.451667\n",
       "14    0.564583\n",
       "15    0.677500\n",
       "16    0.790417\n",
       "17    0.903333\n",
       "18    0.948500\n",
       "19    0.993667\n",
       "20    1.038833\n",
       "21    1.084000\n",
       "22    1.129167\n",
       "23    1.174333\n",
       "24    1.219500\n",
       "25    1.242083\n",
       "26    1.253375\n",
       "27    1.264667\n",
       "28    1.275958\n",
       "29    1.298542\n",
       "30    1.321125\n",
       "31    1.343708\n",
       "32    1.388875\n",
       "33    1.434042\n",
       "34    1.479208\n",
       "35    1.524375\n",
       "36    1.637292\n",
       "37    1.750208\n",
       "38    1.863125\n",
       "39    2.088958\n",
       "Name: step, dtype: float64"
      ]
     },
     "execution_count": 78,
     "metadata": {},
     "output_type": "execute_result"
    }
   ],
   "source": [
    "step = titration_data['step']\n",
    "number_steps_in_calibration = 6000\n",
    "mass_of_calibration_in_g = 1.355\n",
    "\n",
    "# convert steps to grams. \n",
    "mass_solution_added_in_g = (step / number_steps_in_calibration) * mass_of_calibration_in_g\n",
    "mass_solution_added_in_g"
   ]
  },
  {
   "cell_type": "markdown",
   "metadata": {},
   "source": [
    "## Plot data\n",
    "\n",
    "After you finish the conversion of steps to number of Ce(IV) added, adjust the code below to plot your converted titration data."
   ]
  },
  {
   "cell_type": "code",
   "execution_count": 79,
   "metadata": {},
   "outputs": [
    {
     "data": {
      "text/plain": [
       "Text(0, 0.5, 'Potential / V')"
      ]
     },
     "execution_count": 79,
     "metadata": {},
     "output_type": "execute_result"
    },
    {
     "data": {
      "image/png": "[encoded data removed]",
      "text/plain": [
       "<Figure size 432x288 with 1 Axes>"
      ]
     },
     "metadata": {
      "needs_background": "light"
     },
     "output_type": "display_data"
    }
   ],
   "source": [
    "# plot data\n",
    "plt.errorbar(x = mass_solution_added_in_g , y = titration_data['mean potential'], \n",
    "             yerr = titration_data['std dev'], fmt='bo')\n",
    "\n",
    "plt.title('Cerium/Iron titration', fontsize = 16)\n",
    "plt.xlabel('Ce(IV) solution added / g', fontsize = 16)\n",
    "plt.ylabel('Potential / V', fontsize = 16)"
   ]
  },
  {
   "cell_type": "markdown",
   "metadata": {},
   "source": [
    "# # E3 Prelab Q1-2 Part 2\n",
    "\n",
    "In the second part of Q1, you will overlay the titration data with the derived titration curve (model) and estimate the redox potentials required for the model to match the experimental data. This is a visual way to estimate the parameters in the model. You are welcome to go further and use nonlinear fitting routines to further refine the parameters, but you do not need to do so. \n",
    "\n",
    "The example below shows how you can visually model a dataset. Here the data is compared to the function y = a sin(bx + c). Change a, b and c to visually match the model to the synthetic dataset. "
   ]
  },
  {
   "cell_type": "code",
   "execution_count": 80,
   "metadata": {},
   "outputs": [
    {
     "data": {
      "image/png": "[encoded data removed]",
      "text/plain": [
       "<Figure size 432x288 with 1 Axes>"
      ]
     },
     "metadata": {
      "needs_background": "light"
     },
     "output_type": "display_data"
    }
   ],
   "source": [
    "# Example: Compare a sinusodal model to some data. \n",
    "def model(x_model, a, b, c):\n",
    "    return a*np.sin(b*x_model + c)\n",
    "\n",
    "# Data \n",
    "x_data = np.array([ 3.1, 4.8, 6.4, 8.1, 9.8, 11.4, 13.1, 14.7, 16.4, 18.0, \n",
    "                  19.7, 21.3, 23.0, 24.6, 26.3, 27.9, 29.6, 31.3, 32.9, 34.6])\n",
    "y_data = np.array([-3.3, -2.6, 0.2, 3.1, 3.5, 1.9, -0.9, -4.0, -4.0, -1.9, \n",
    "                  1.6, 3.9, 3.5, 1.2, -2.5, -3.7, -2.6, -0.6, 3.1, 3.6])\n",
    "\n",
    "# Model. Change the a, b, c model parameters here. \n",
    "x_model = np.linspace(0, 11*np.pi, 10000)\n",
    "y_model = model(x_model, a = 3, b = 0.43, c = -2.5)\n",
    "\n",
    "# Plot data overlaid with model\n",
    "plt.errorbar(x = x_data , y = y_data, yerr = .6, label = 'data', fmt='ro')\n",
    "plt.plot(x_model , y_model, label = 'model', color = 'blue')\n",
    "plt.title('Visual Modeling Example', fontsize = 16)\n",
    "plt.xlabel('x', fontsize = 16)\n",
    "plt.ylabel('y', fontsize = 16)\n",
    "plt.legend()\n",
    "plt.show()"
   ]
  },
  {
   "cell_type": "code",
   "execution_count": null,
   "metadata": {},
   "outputs": [],
   "source": []
  }
 ],
 "metadata": {
  "kernelspec": {
   "display_name": "Python 3",
   "language": "python",
   "name": "python3"
  },
  "language_info": {
   "codemirror_mode": {
    "name": "ipython",
    "version": 3
   },
   "file_extension": ".py",
   "mimetype": "text/x-python",
   "name": "python",
   "nbconvert_exporter": "python",
   "pygments_lexer": "ipython3",
   "version": "3.8.8"
  }
 },
 "nbformat": 4,
 "nbformat_minor": 4
}
