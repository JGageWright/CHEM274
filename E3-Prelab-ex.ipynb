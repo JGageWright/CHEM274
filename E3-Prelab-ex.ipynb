{
 "cells": [
  {
   "cell_type": "markdown",
   "metadata": {},
   "source": [
    "# E3 Prelab Q1-2 Part 1\n",
    "\n",
    "In Q1 you are asked to compare the titration data obtained from E2 to the model of a titration that you developed in the E2 prelab. You are then asked to modify some parameters in the model to best fit the experimental data. \n",
    "\n",
    "The model is an expression for the number of Ce(IV) added as  function of potential. A comparison will require you to convert steps of the sringe pump to the number of Ce(IV) added. This first part shows an example of a similar conversion to grams of the Ce(IV)-containing solution added based off the 'Fine Titration Data.txt' uploaded to canvas. "
   ]
  },
  {
   "cell_type": "markdown",
   "metadata": {},
   "source": [
    "## Import Packages"
   ]
  },
  {
   "cell_type": "code",
   "execution_count": 1,
   "metadata": {},
   "outputs": [],
   "source": [
    "import os\n",
    "import numpy as np\n",
    "import matplotlib.pyplot as plt\n",
    "plt.style.use('JGW')\n",
    "import pandas as pd"
   ]
  },
  {
   "cell_type": "markdown",
   "metadata": {},
   "source": [
    "# Import titration data \n",
    "\n",
    "Import titration data into a pandas dataframe. For the example dataset, the delimiters are commas and the first 4 rows contains details of the calibration that you will need to convert steps to number of Ce(IV) added.  We skip those rows in the first step. The format of your titration data may differ.  "
   ]
  },
  {
   "cell_type": "code",
   "execution_count": 7,
   "metadata": {},
   "outputs": [],
   "source": [
    "data_path = r\"C:\\Users\\jgage\\OneDrive - Stanford\\2021\\CHEM 274\\Labs\\E3\\Fine Titration Data.txt\"\n",
    "titration_data = pd.read_csv(data_path, skiprows = 4, sep = ',')\n",
    "# ----------------------------Titration Data--------------------------------------\n",
    "# Mass of FeSO4 Solution Added: 0.500 g\n",
    "# Mass of (NH4)2Ce(NO4)6: 0.990 g\n",
    "# Mass of Cerium solution: 20.030 g \n",
    "# Pump Calibration of Ce Solution: 6000 Steps = 1.355 g \n",
    "\n",
    "# print(titration_data)"
   ]
  },
  {
   "cell_type": "markdown",
   "metadata": {},
   "source": [
    "# Read calibration data\n",
    "\n",
    "Here we simply want to see the pump calibration values. In the example file the calibration data are in the first four rows of the file. Your own calibration data might be located elsewhere e.g. in your lab notebook. "
   ]
  },
  {
   "cell_type": "code",
   "execution_count": null,
   "metadata": {},
   "outputs": [],
   "source": [
    "# read first 4 lines of titration data which contains the calibration info\n",
    "calibration_data = pd.read_csv('Fine Titration Data.txt', nrows = 4, header = None, sep = ':')\n",
    "# create dictionary containing calibration information\n",
    "calibration_dict = dict(zip(calibration_data[0], calibration_data[1]))\n",
    "calibration_dict"
   ]
  },
  {
   "cell_type": "markdown",
   "metadata": {},
   "source": [
    "# Convert steps to grams of solution added\n",
    "\n",
    "Use the calibration data to convert the number of steps of Ce(IV) added in the titration to grams of the Ce(IV)-containing solution added. In the example file, 1 step correspoonds to 1.355/6000 grams of Ce(IV) solution "
   ]
  },
  {
   "cell_type": "code",
   "execution_count": null,
   "metadata": {},
   "outputs": [],
   "source": [
    "step = titration_data['step']\n",
    "number_steps_in_calibration = 6000\n",
    "mass_of_calibration_in_g = 1.355\n",
    "\n",
    "# convert steps to grams. \n",
    "mass_solution_added_in_g = (step / number_steps_in_calibration) * mass_of_calibration_in_g\n",
    "mass_solution_added_in_g"
   ]
  },
  {
   "cell_type": "markdown",
   "metadata": {},
   "source": [
    "## Plot data\n",
    "\n",
    "After you finish the conversion of steps to number of Ce(IV) added, adjust the code below to plot your converted titration data."
   ]
  },
  {
   "cell_type": "code",
   "execution_count": null,
   "metadata": {},
   "outputs": [],
   "source": [
    "# plot data\n",
    "plt.errorbar(x = mass_solution_added_in_g , y = titration_data['mean potential'], \n",
    "             yerr = titration_data['std dev'], fmt='bo')\n",
    "\n",
    "plt.title('Cerium/Iron titration', fontsize = 16)\n",
    "plt.xlabel('Ce(IV) solution added / g', fontsize = 16)\n",
    "plt.ylabel('Potential / V', fontsize = 16)"
   ]
  },
  {
   "cell_type": "markdown",
   "metadata": {},
   "source": [
    "# # E3 Prelab Q1-2 Part 2\n",
    "\n",
    "In the second part of Q1, you will overlay the titration data with the derived titration curve (model) and estimate the redox potentials required for the model to match the experimental data. This is a visual way to estimate the parameters in the model. You are welcome to go further and use nonlinear fitting routines to further refine the parameters, but you do not need to do so. \n",
    "\n",
    "The example below shows how you can visually model a dataset. Here the data is compared to the function y = a sin(bx + c). Change a, b and c to visually match the model to the synthetic dataset. "
   ]
  },
  {
   "cell_type": "code",
   "execution_count": null,
   "metadata": {},
   "outputs": [],
   "source": [
    "# Example: Compare a sinusodal model to some data. \n",
    "def model(x_model, a, b, c):\n",
    "    return a*np.sin(b*x_model + c)\n",
    "\n",
    "# Data \n",
    "x_data = np.array([ 3.1, 4.8, 6.4, 8.1, 9.8, 11.4, 13.1, 14.7, 16.4, 18.0, \n",
    "                  19.7, 21.3, 23.0, 24.6, 26.3, 27.9, 29.6, 31.3, 32.9, 34.6])\n",
    "y_data = np.array([-3.3, -2.6, 0.2, 3.1, 3.5, 1.9, -0.9, -4.0, -4.0, -1.9, \n",
    "                  1.6, 3.9, 3.5, 1.2, -2.5, -3.7, -2.6, -0.6, 3.1, 3.6])\n",
    "\n",
    "# Model. Change the a, b, c model parameters here. \n",
    "x_model = np.linspace(0, 11*np.pi, 10000)\n",
    "y_model = model(x_model, a = 3, b = 0.43, c = -2.5)\n",
    "\n",
    "# Plot data overlaid with model\n",
    "plt.errorbar(x = x_data , y = y_data, yerr = .6, label = 'data', fmt='ro')\n",
    "plt.plot(x_model , y_model, label = 'model', color = 'blue')\n",
    "plt.title('Visual Modeling Example', fontsize = 16)\n",
    "plt.xlabel('x', fontsize = 16)\n",
    "plt.ylabel('y', fontsize = 16)\n",
    "plt.legend()\n",
    "plt.show()"
   ]
  },
  {
   "cell_type": "code",
   "execution_count": null,
   "metadata": {},
   "outputs": [],
   "source": []
  }
 ],
 "metadata": {
  "kernelspec": {
   "display_name": "Python 3",
   "language": "python",
   "name": "python3"
  },
  "language_info": {
   "codemirror_mode": {
    "name": "ipython",
    "version": 3
   },
   "file_extension": ".py",
   "mimetype": "text/x-python",
   "name": "python",
   "nbconvert_exporter": "python",
   "pygments_lexer": "ipython3",
   "version": "3.8.5"
  }
 },
 "nbformat": 4,
 "nbformat_minor": 4
}
