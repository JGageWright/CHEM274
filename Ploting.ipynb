{
 "cells": [
  {
   "cell_type": "code",
   "execution_count": 3,
   "metadata": {
    "collapsed": true
   },
   "outputs": [],
   "source": [
    "import matplotlib as mpl\n",
    "import matplotlib.pyplot as plt\n",
    "from CHEM274.importer_snippets import load_experiment\n",
    "plt.style.use('JGW')"
   ]
  },
  {
   "cell_type": "markdown",
   "source": [
    "# Nyquist Plot"
   ],
   "metadata": {
    "collapsed": false
   }
  },
  {
   "cell_type": "code",
   "execution_count": null,
   "outputs": [],
   "source": [
    "EIS = load_experiment()"
   ],
   "metadata": {
    "collapsed": false,
    "pycharm": {
     "name": "#%%\n",
     "is_executing": true
    }
   }
  },
  {
   "cell_type": "code",
   "execution_count": null,
   "outputs": [],
   "source": [
    "# subplot 3\n",
    "fig = plt.figure()\n",
    "ax = fig.add_subplot()\n",
    "\n",
    "ax.set_title('Nyquist Plot')\n",
    "ax.tick_params(axis='both',which='both',direction='in',right=True, top=True)\n",
    "# ax.set_prop_cycle(cc2)\n",
    "ax.plot(EIS.data['Zre'], -EIS.data['Zim'], label = '$R_{ct}$=' + str(Rct0) +'$\\Omega; R_{u}$=' + str(Ru) +'$\\Omega$ in-phase')\n",
    "ax.set_ylabel('$Z_{re}$ / $\\Omega$')\n",
    "ax.set_xlabel('-$Z_{im}$ / $\\Omega$')\n",
    "if (max(EIS.data['Zre']) >= max(-EIS.data['Zim'])):\n",
    "    axes_max = max(EIS.data['Zre'])\n",
    "else:\n",
    "    axes_max = max(-EIS.data['Zim'])\n",
    "ax.set_xlim ([0,axes_max])\n",
    "ax.set_ylim ([0,axes_max])"
   ],
   "metadata": {
    "collapsed": false,
    "pycharm": {
     "name": "#%%\n"
    }
   }
  }
 ],
 "metadata": {
  "kernelspec": {
   "display_name": "Python 3",
   "language": "python",
   "name": "python3"
  },
  "language_info": {
   "codemirror_mode": {
    "name": "ipython",
    "version": 2
   },
   "file_extension": ".py",
   "mimetype": "text/x-python",
   "name": "python",
   "nbconvert_exporter": "python",
   "pygments_lexer": "ipython2",
   "version": "2.7.6"
  }
 },
 "nbformat": 4,
 "nbformat_minor": 0
}