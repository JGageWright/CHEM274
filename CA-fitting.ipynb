{
 "cells": [
  {
   "cell_type": "code",
   "execution_count": 1,
   "id": "c080dfdd-fe7d-46dd-9894-6d03e10a6265",
   "metadata": {},
   "outputs": [
    {
     "data": {
      "text/plain": [
       "'C:\\\\Users\\\\jgage\\\\Documents\\\\GitHub\\\\CHEM274'"
      ]
     },
     "execution_count": 1,
     "metadata": {},
     "output_type": "execute_result"
    }
   ],
   "source": [
    "import pandas as pd\n",
    "import matplotlib.pyplot as plt\n",
    "%matplotlib inline\n",
    "import numpy as np\n",
    "import os\n",
    "from scipy.optimize import curve_fit\n",
    "os.getcwd()"
   ]
  },
  {
   "cell_type": "code",
   "execution_count": 2,
   "id": "f107aaa3-4995-424f-acd5-067110600057",
   "metadata": {},
   "outputs": [
    {
     "data": {
      "text/html": [
       "<div>\n",
       "<style scoped>\n",
       "    .dataframe tbody tr th:only-of-type {\n",
       "        vertical-align: middle;\n",
       "    }\n",
       "\n",
       "    .dataframe tbody tr th {\n",
       "        vertical-align: top;\n",
       "    }\n",
       "\n",
       "    .dataframe thead th {\n",
       "        text-align: right;\n",
       "    }\n",
       "</style>\n",
       "<table border=\"1\" class=\"dataframe\">\n",
       "  <thead>\n",
       "    <tr style=\"text-align: right;\">\n",
       "      <th></th>\n",
       "      <th>Time (s)</th>\n",
       "      <th>WE potential</th>\n",
       "      <th>Rm potential</th>\n",
       "      <th>Rm current</th>\n",
       "    </tr>\n",
       "  </thead>\n",
       "  <tbody>\n",
       "    <tr>\n",
       "      <th>0</th>\n",
       "      <td>0.000</td>\n",
       "      <td>0.278970</td>\n",
       "      <td>0.004292</td>\n",
       "      <td>4.291692e-07</td>\n",
       "    </tr>\n",
       "    <tr>\n",
       "      <th>1</th>\n",
       "      <td>0.001</td>\n",
       "      <td>0.279299</td>\n",
       "      <td>0.006594</td>\n",
       "      <td>6.594388e-07</td>\n",
       "    </tr>\n",
       "    <tr>\n",
       "      <th>2</th>\n",
       "      <td>0.002</td>\n",
       "      <td>0.279299</td>\n",
       "      <td>0.003305</td>\n",
       "      <td>3.304823e-07</td>\n",
       "    </tr>\n",
       "    <tr>\n",
       "      <th>3</th>\n",
       "      <td>0.003</td>\n",
       "      <td>0.278970</td>\n",
       "      <td>0.001660</td>\n",
       "      <td>1.660041e-07</td>\n",
       "    </tr>\n",
       "    <tr>\n",
       "      <th>4</th>\n",
       "      <td>0.004</td>\n",
       "      <td>0.278970</td>\n",
       "      <td>-0.001630</td>\n",
       "      <td>-1.629524e-07</td>\n",
       "    </tr>\n",
       "    <tr>\n",
       "      <th>...</th>\n",
       "      <td>...</td>\n",
       "      <td>...</td>\n",
       "      <td>...</td>\n",
       "      <td>...</td>\n",
       "    </tr>\n",
       "    <tr>\n",
       "      <th>2995</th>\n",
       "      <td>2.995</td>\n",
       "      <td>0.279299</td>\n",
       "      <td>0.128308</td>\n",
       "      <td>1.283083e-05</td>\n",
       "    </tr>\n",
       "    <tr>\n",
       "      <th>2996</th>\n",
       "      <td>2.996</td>\n",
       "      <td>0.279299</td>\n",
       "      <td>0.127321</td>\n",
       "      <td>1.273214e-05</td>\n",
       "    </tr>\n",
       "    <tr>\n",
       "      <th>2997</th>\n",
       "      <td>2.997</td>\n",
       "      <td>0.278970</td>\n",
       "      <td>0.127650</td>\n",
       "      <td>1.276504e-05</td>\n",
       "    </tr>\n",
       "    <tr>\n",
       "      <th>2998</th>\n",
       "      <td>2.998</td>\n",
       "      <td>0.279628</td>\n",
       "      <td>0.128308</td>\n",
       "      <td>1.283083e-05</td>\n",
       "    </tr>\n",
       "    <tr>\n",
       "      <th>2999</th>\n",
       "      <td>2.999</td>\n",
       "      <td>0.279299</td>\n",
       "      <td>0.123045</td>\n",
       "      <td>1.230450e-05</td>\n",
       "    </tr>\n",
       "  </tbody>\n",
       "</table>\n",
       "<p>3000 rows × 4 columns</p>\n",
       "</div>"
      ],
      "text/plain": [
       "      Time (s)  WE potential  Rm potential    Rm current\n",
       "0        0.000      0.278970      0.004292  4.291692e-07\n",
       "1        0.001      0.279299      0.006594  6.594388e-07\n",
       "2        0.002      0.279299      0.003305  3.304823e-07\n",
       "3        0.003      0.278970      0.001660  1.660041e-07\n",
       "4        0.004      0.278970     -0.001630 -1.629524e-07\n",
       "...        ...           ...           ...           ...\n",
       "2995     2.995      0.279299      0.128308  1.283083e-05\n",
       "2996     2.996      0.279299      0.127321  1.273214e-05\n",
       "2997     2.997      0.278970      0.127650  1.276504e-05\n",
       "2998     2.998      0.279628      0.128308  1.283083e-05\n",
       "2999     2.999      0.279299      0.123045  1.230450e-05\n",
       "\n",
       "[3000 rows x 4 columns]"
      ]
     },
     "execution_count": 2,
     "metadata": {},
     "output_type": "execute_result"
    }
   ],
   "source": [
    "data = pd.read_csv('data/testing/OCV to 0.2 100nF 10kOhms.txt', sep=',')\n",
    "data"
   ]
  },
  {
   "cell_type": "code",
   "execution_count": 3,
   "id": "6d05756f-e2c8-4a63-ae01-8daccc10130b",
   "metadata": {},
   "outputs": [],
   "source": [
    "# In E4, near optimal values of Rm and Cm were:\n",
    "Rm = 10000\n",
    "Cm = 100e-9\n",
    "pstat_time_constant = Rm*Cm\n",
    "\n",
    "# From Fe(acac)3 data in wet MeCN, Ru and Cdl were approximately:\n",
    "Ru = 530\n",
    "Cdl = 4.58e-6\n",
    "cell_time_constant = Ru*Cdl"
   ]
  },
  {
   "cell_type": "code",
   "execution_count": 21,
   "id": "b1a9ebf1-c299-4412-abee-4faa60899b22",
   "metadata": {},
   "outputs": [],
   "source": [
    "pot_step_time = 1 # step time start in s\n",
    "pot_rest_time = 2 # rest time start in s\n",
    "\n",
    "# For both of these capacitors to charge, we should ignore data before at least 5τ of each:\n",
    "fit_start_time = pot_step_time + (5 * (cell_time_constant + pstat_time_constant))\n",
    "\n",
    "# Fit until 5 ms before the rest step\n",
    "fit_times = data[data['Time (s)'].between(fit_start_time, pot_rest_time - 0.005)]['Time (s)'].to_numpy()\n",
    "fit_currents = data[data['Time (s)'].between(fit_start_time, pot_rest_time - 0.005)]['Rm current'].to_numpy()\n",
    "\n",
    "fit_times_no_offset = fit_times - pot_step_time\n",
    "# print(fit_times_no_offset)"
   ]
  },
  {
   "cell_type": "code",
   "execution_count": 17,
   "id": "37768ce3-f6e8-4bb8-89d7-1c43a8c31164",
   "metadata": {},
   "outputs": [],
   "source": [
    "def Emperical_Cottrell(t, a):\n",
    "    return a / np.sqrt(t)"
   ]
  },
  {
   "cell_type": "code",
   "execution_count": 29,
   "id": "923162c2-d831-47fb-95c9-de41b303bbb4",
   "metadata": {},
   "outputs": [
    {
     "name": "stdout",
     "output_type": "stream",
     "text": [
      "a = -4.334E-05\n"
     ]
    }
   ],
   "source": [
    "guess_prefactor = .009\n",
    "fit_prefactor, cov = curve_fit(Emperical_Cottrell, fit_times_no_offset, fit_currents, guess_prefactor)\n",
    "print('a = {0:.3E}'.format(fit_prefactor[0]))"
   ]
  },
  {
   "cell_type": "code",
   "execution_count": 22,
   "id": "841b63e4-1ece-4c58-970a-ae04c008208a",
   "metadata": {},
   "outputs": [
    {
     "data": {
      "text/plain": [
       "[<matplotlib.lines.Line2D at 0x1e9dfd27cd0>]"
      ]
     },
     "execution_count": 22,
     "metadata": {},
     "output_type": "execute_result"
    },
    {
     "data": {
      "image/png": "[encoded data removed]",
      "text/plain": [
       "<Figure size 432x288 with 1 Axes>"
      ]
     },
     "metadata": {
      "needs_background": "light"
     },
     "output_type": "display_data"
    }
   ],
   "source": [
    "fig, ax = plt.subplots()\n",
    "ax.scatter(data['Time (s)'], data['Rm current'])\n",
    "ax.set_ylabel('$i_w$ / A')\n",
    "ax.set_xlabel('t / s')\n",
    "ax.set_xlim(.99, 2.01)\n",
    "\n",
    "ax.plot(fit_times, Emperical_Cottrell(fit_times_no_offset, fit_prefactor), color=\"C1\", zorder=1)"
   ]
  },
  {
   "cell_type": "code",
   "execution_count": null,
   "id": "57acccec-46a8-4754-ac83-74406757a1c7",
   "metadata": {},
   "outputs": [],
   "source": []
  }
 ],
 "metadata": {
  "kernelspec": {
   "display_name": "Python 3 (ipykernel)",
   "language": "python",
   "name": "python3"
  },
  "language_info": {
   "codemirror_mode": {
    "name": "ipython",
    "version": 3
   },
   "file_extension": ".py",
   "mimetype": "text/x-python",
   "name": "python",
   "nbconvert_exporter": "python",
   "pygments_lexer": "ipython3",
   "version": "3.8.11"
  }
 },
 "nbformat": 4,
 "nbformat_minor": 5
}