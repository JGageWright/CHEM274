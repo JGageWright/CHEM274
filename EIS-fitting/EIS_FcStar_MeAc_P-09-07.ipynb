{
 "cells": [
  {
   "cell_type": "code",
   "execution_count": 12,
   "id": "fed3acd3-6cc5-41eb-bd89-a31b6765dce8",
   "metadata": {},
   "outputs": [],
   "source": [
    "from CHEM274.importer_snippets import load_experiment\n",
    "import numpy as np\n",
    "import matplotlib.pyplot as plt\n",
    "plt.style.use('JGW-PPT')\n",
    "\n",
    "# Impedance fitting package: https://impedancepy.readthedocs.io/en/latest/index.html\n",
    "from impedance.models.circuits import CustomCircuit\n",
    "from impedance.preprocessing import ignoreBelowX\n",
    "from impedance.visualization import plot_nyquist, plot_residuals\n",
    "from impedance.validation import linKK, eval_linKK"
   ]
  },
  {
   "cell_type": "code",
   "execution_count": 2,
   "id": "82229d7e-9e4b-4a7b-b9fe-76c726f23805",
   "metadata": {},
   "outputs": [
    {
     "data": {
      "text/html": [
       "<div>\n",
       "<style scoped>\n",
       "    .dataframe tbody tr th:only-of-type {\n",
       "        vertical-align: middle;\n",
       "    }\n",
       "\n",
       "    .dataframe tbody tr th {\n",
       "        vertical-align: top;\n",
       "    }\n",
       "\n",
       "    .dataframe thead th {\n",
       "        text-align: right;\n",
       "    }\n",
       "</style>\n",
       "<table border=\"1\" class=\"dataframe\">\n",
       "  <thead>\n",
       "    <tr style=\"text-align: right;\">\n",
       "      <th></th>\n",
       "      <th>f</th>\n",
       "      <th>Yre</th>\n",
       "      <th>Yim</th>\n",
       "      <th>Zre</th>\n",
       "      <th>Zim</th>\n",
       "    </tr>\n",
       "  </thead>\n",
       "  <tbody>\n",
       "    <tr>\n",
       "      <th>0</th>\n",
       "      <td>6250.000000</td>\n",
       "      <td>0.002280</td>\n",
       "      <td>0.000049</td>\n",
       "      <td>438.324059</td>\n",
       "      <td>-9.394857</td>\n",
       "    </tr>\n",
       "    <tr>\n",
       "      <th>1</th>\n",
       "      <td>3125.000000</td>\n",
       "      <td>0.002268</td>\n",
       "      <td>0.000078</td>\n",
       "      <td>440.341990</td>\n",
       "      <td>-15.190036</td>\n",
       "    </tr>\n",
       "    <tr>\n",
       "      <th>2</th>\n",
       "      <td>1562.500000</td>\n",
       "      <td>0.002243</td>\n",
       "      <td>0.000116</td>\n",
       "      <td>444.600945</td>\n",
       "      <td>-22.904316</td>\n",
       "    </tr>\n",
       "    <tr>\n",
       "      <th>3</th>\n",
       "      <td>781.250000</td>\n",
       "      <td>0.002189</td>\n",
       "      <td>0.000162</td>\n",
       "      <td>454.273768</td>\n",
       "      <td>-33.610921</td>\n",
       "    </tr>\n",
       "    <tr>\n",
       "      <th>4</th>\n",
       "      <td>390.625000</td>\n",
       "      <td>0.002108</td>\n",
       "      <td>0.000217</td>\n",
       "      <td>469.353821</td>\n",
       "      <td>-48.291566</td>\n",
       "    </tr>\n",
       "    <tr>\n",
       "      <th>5</th>\n",
       "      <td>195.312500</td>\n",
       "      <td>0.002003</td>\n",
       "      <td>0.000289</td>\n",
       "      <td>488.978899</td>\n",
       "      <td>-70.609032</td>\n",
       "    </tr>\n",
       "    <tr>\n",
       "      <th>6</th>\n",
       "      <td>97.656250</td>\n",
       "      <td>0.001864</td>\n",
       "      <td>0.000356</td>\n",
       "      <td>517.687407</td>\n",
       "      <td>-98.811620</td>\n",
       "    </tr>\n",
       "    <tr>\n",
       "      <th>7</th>\n",
       "      <td>48.828125</td>\n",
       "      <td>0.001686</td>\n",
       "      <td>0.000430</td>\n",
       "      <td>556.863364</td>\n",
       "      <td>-141.982848</td>\n",
       "    </tr>\n",
       "    <tr>\n",
       "      <th>8</th>\n",
       "      <td>24.414062</td>\n",
       "      <td>0.001462</td>\n",
       "      <td>0.000481</td>\n",
       "      <td>617.132497</td>\n",
       "      <td>-202.981429</td>\n",
       "    </tr>\n",
       "    <tr>\n",
       "      <th>9</th>\n",
       "      <td>12.207031</td>\n",
       "      <td>0.001224</td>\n",
       "      <td>0.000514</td>\n",
       "      <td>694.573728</td>\n",
       "      <td>-291.581721</td>\n",
       "    </tr>\n",
       "    <tr>\n",
       "      <th>10</th>\n",
       "      <td>6.103516</td>\n",
       "      <td>0.000974</td>\n",
       "      <td>0.000505</td>\n",
       "      <td>809.638767</td>\n",
       "      <td>-419.548473</td>\n",
       "    </tr>\n",
       "    <tr>\n",
       "      <th>11</th>\n",
       "      <td>3.051758</td>\n",
       "      <td>0.000740</td>\n",
       "      <td>0.000455</td>\n",
       "      <td>980.852147</td>\n",
       "      <td>-603.177995</td>\n",
       "    </tr>\n",
       "    <tr>\n",
       "      <th>12</th>\n",
       "      <td>1.525879</td>\n",
       "      <td>0.000534</td>\n",
       "      <td>0.000390</td>\n",
       "      <td>1220.743249</td>\n",
       "      <td>-891.423511</td>\n",
       "    </tr>\n",
       "  </tbody>\n",
       "</table>\n",
       "</div>"
      ],
      "text/plain": [
       "              f       Yre       Yim          Zre         Zim\n",
       "0   6250.000000  0.002280  0.000049   438.324059   -9.394857\n",
       "1   3125.000000  0.002268  0.000078   440.341990  -15.190036\n",
       "2   1562.500000  0.002243  0.000116   444.600945  -22.904316\n",
       "3    781.250000  0.002189  0.000162   454.273768  -33.610921\n",
       "4    390.625000  0.002108  0.000217   469.353821  -48.291566\n",
       "5    195.312500  0.002003  0.000289   488.978899  -70.609032\n",
       "6     97.656250  0.001864  0.000356   517.687407  -98.811620\n",
       "7     48.828125  0.001686  0.000430   556.863364 -141.982848\n",
       "8     24.414062  0.001462  0.000481   617.132497 -202.981429\n",
       "9     12.207031  0.001224  0.000514   694.573728 -291.581721\n",
       "10     6.103516  0.000974  0.000505   809.638767 -419.548473\n",
       "11     3.051758  0.000740  0.000455   980.852147 -603.177995\n",
       "12     1.525879  0.000534  0.000390  1220.743249 -891.423511"
      ]
     },
     "execution_count": 2,
     "metadata": {},
     "output_type": "execute_result"
    }
   ],
   "source": [
    "EIS = load_experiment(csv_dirname=r\"C:\\Users\\jgage\\Documents\\GitHub\\CHEM274\\data\\EIS_FcStar_GC_MeAc_P-09-07\") # Warning - this function may take ~5 minutes to run if loading .xlsx.\n",
    "EIS.data"
   ]
  },
  {
   "cell_type": "code",
   "execution_count": 3,
   "id": "70028750-6072-48b2-bf1c-b23ddc031b2c",
   "metadata": {},
   "outputs": [
    {
     "name": "stdout",
     "output_type": "stream",
     "text": [
      "0 improperly signed impedances have been excluded\n"
     ]
    }
   ],
   "source": [
    "Zseries = EIS.data['Zre'] + 1j*EIS.data['Zim']\n",
    "f, Z = EIS.data['f'].to_numpy(), Zseries.to_numpy()\n",
    "n = 0\n",
    "for i in Z:\n",
    "    if np.real(i) < 0 or -np.imag(i) < 0:\n",
    "        n += 1\n",
    "print(str(n)+' improperly signed impedances have been excluded')\n",
    "f, Z = ignoreBelowX(f, Z)"
   ]
  },
  {
   "cell_type": "code",
   "execution_count": 4,
   "id": "49f803cc-c55d-40c0-85f2-dad7b9a9f67e",
   "metadata": {},
   "outputs": [
    {
     "name": "stdout",
     "output_type": "stream",
     "text": [
      "\n",
      "Circuit string: R1-p(R2-W1,C1)\n",
      "Fit: True\n",
      "\n",
      "Initial guesses:\n",
      "     R1 = 5.00e+02 [Ohm]\n",
      "     R2 = 5.00e+02 [Ohm]\n",
      "     W1 = 1.00e+03 [Ohm sec^-1/2]\n",
      "     C1 = 4.00e-06 [F]\n",
      "\n",
      "Fit parameters:\n",
      "     R1 = 4.44e+02  (+/- 6.00e+00) [Ohm]\n",
      "     R2 = 1.90e-02  (+/- 1.96e+04) [Ohm]\n",
      "     W1 = 2.67e+03  (+/- 3.13e+01) [Ohm sec^-1/2]\n",
      "     C1 = 4.52e-06  (+/- 1.38e-03) [F]\n",
      "\n"
     ]
    }
   ],
   "source": [
    "circuit = 'R1-p(R2-W1,C1)' # Randles Circuit\n",
    "# initial_guess = [500, 250, 100, 5e-6]\n",
    "initial_guess = [500, 500, 1000, 4e-6]\n",
    "\n",
    "# circuit = 'R1-p(R2,C2)-p(R3,C3)' # Tsierkezos-Ritter Circuit\n",
    "# initial_guess = [500, 250, 100e-6, 250, 100e-6] \n",
    "\n",
    "circuit = CustomCircuit(circuit, initial_guess=initial_guess)\n",
    "circuit.fit(f, Z) # Comment out this line to skip regression of circuit elements\n",
    "fit = circuit.predict(np.linspace(f[0], f[-1], 10000))\n",
    "\n",
    "# Check the fit\n",
    "print(circuit)\n",
    "# circuit.plot(ax=ax) # Get some other fit plots"
   ]
  },
  {
   "cell_type": "code",
   "execution_count": 5,
   "id": "8a073d90-cac0-457f-8007-abf7ae36875e",
   "metadata": {
    "tags": []
   },
   "outputs": [],
   "source": [
    "def save_Nyq_fig(fig, analyte, electrode, solvent, notebook):\n",
    "    ans = input('Save the figure?')\n",
    "    if ans in ['y', 'yes', 'Yes', 'yeye', 'yeah', 'why, certainly', True]:\n",
    "        fig.savefig(\"C:\\\\Users\\\\jgage\\\\Documents\\GitHub\\\\CHEM274\\\\data\\\\figs\\\\Nyq_\"+\n",
    "            analyte + electrode + solvent + notebook+'.jpg')\n",
    "        print('Saved')\n",
    "    else:\n",
    "        print('Not saved')"
   ]
  },
  {
   "cell_type": "code",
   "execution_count": 6,
   "id": "baa82449-6f32-443c-8eec-19ebb67cad12",
   "metadata": {
    "tags": []
   },
   "outputs": [
    {
     "name": "stdout",
     "output_type": "stream",
     "text": [
      "10 0.9930519155990312 5.213615129498389\n",
      "\n",
      "Completed Lin-KK Fit\n",
      "M = 15\n",
      "mu = 0.43\n"
     ]
    },
    {
     "data": {
      "text/plain": [
       "<AxesSubplot:xlabel='$f$ [Hz]', ylabel='$\\\\Delta$ $(\\\\%)$'>"
      ]
     },
     "execution_count": 6,
     "metadata": {},
     "output_type": "execute_result"
    },
    {
     "data": {
      "image/png": "[encoded data removed]",
      "text/plain": [
       "<Figure size 288x216 with 1 Axes>"
      ]
     },
     "metadata": {
      "needs_background": "light"
     },
     "output_type": "display_data"
    }
   ],
   "source": [
    "# Schönleber, M.; Klotz, D.; Ivers-Tiffée, E. A Method for Improving the Robustness of Linear Kramers-Kronig Validity Tests. Electrochim. Acta 2014, 131, 20–27. doi.org/10.1016/j.electacta.2014.01.034.\n",
    "M, mu, Z_linKK, res_real, res_imag = linKK(f, Z, c=.5, max_M=100, fit_type='complex', add_cap=True)\n",
    "\n",
    "print('\\nCompleted Lin-KK Fit\\nM = {:d}\\nmu = {:.2f}'.format(M, mu))\n",
    "fig, ax = plt.subplots()\n",
    "fig.set_size_inches(4,3)\n",
    "plot_residuals(ax, f, res_real, res_imag, y_limits=(-2,2))\n",
    "\n",
    "# print(np.real(Z_linKK), np.imag(Z_linKK))"
   ]
  },
  {
   "cell_type": "code",
   "execution_count": 20,
   "id": "67272edb",
   "metadata": {
    "jupyter": {
     "outputs_hidden": false
    },
    "pycharm": {
     "name": "#%%\n"
    }
   },
   "outputs": [
    {
     "data": {
      "text/plain": "<Figure size 864x576 with 1 Axes>",
      "image/png": "[encoded data removed]"
     },
     "metadata": {
      "needs_background": "light"
     },
     "output_type": "display_data"
    },
    {
     "name": "stdout",
     "output_type": "stream",
     "text": [
      "Not saved\n"
     ]
    }
   ],
   "source": [
    "# Nyquist\n",
    "fig = plt.figure()\n",
    "ax = fig.add_subplot()\n",
    "\n",
    "# ax.set_title('Nyquist Plot')\n",
    "\n",
    "ax.scatter(EIS.data['Zre'], -EIS.data['Zim'], label = 'Data') # Plot experimental data\n",
    "ax.tick_params(axis='both', which='both', direction='in', right=True, top=True)\n",
    "ax.set_xlabel('$Z_{re}$ / $\\Omega$')\n",
    "ax.set_ylabel('-$Z_{im}$ / $\\Omega$')\n",
    "ax.set_xlim ([0,1.1*max(EIS.data['Zre'])])\n",
    "ax.set_ylim ([0,1.1*max(-EIS.data['Zim'])])\n",
    "ax.plot(np.real(fit), -np.imag(fit), label='ECM', color='C1') # Plot circuit fit\n",
    "ax.scatter(np.real(Z_linKK), -np.imag(Z_linKK), label='Kramers-Kronig', color='C2', zorder=0) # Plot LinKK result\n",
    "\n",
    "# Make some good guesses about axes max, given what I know out data looks like.\n",
    "xmax = EIS.data['Zre'].max()\n",
    "ymax = -EIS.data['Zim'].min()\n",
    "ax.set_xlim(0, xmax*1.1)\n",
    "ax.set_ylim(0, ymax*1.1)\n",
    "\n",
    "fig.tight_layout()\n",
    "fig.legend(loc=(.10, .83))\n",
    "\n",
    "analyte = 'FcStar_'\n",
    "electrode = 'GC_'\n",
    "solvent = 'mix_'\n",
    "notebook = 'P-09-07'\n",
    "\n",
    "plt.show()\n",
    "save_Nyq_fig(fig, analyte, electrode, solvent, notebook)"
   ]
  }
 ],
 "metadata": {
  "kernelspec": {
   "display_name": "Python 3 (ipykernel)",
   "language": "python",
   "name": "python3"
  },
  "language_info": {
   "codemirror_mode": {
    "name": "ipython",
    "version": 3
   },
   "file_extension": ".py",
   "mimetype": "text/x-python",
   "name": "python",
   "nbconvert_exporter": "python",
   "pygments_lexer": "ipython3",
   "version": "3.8.11"
  }
 },
 "nbformat": 4,
 "nbformat_minor": 5
}