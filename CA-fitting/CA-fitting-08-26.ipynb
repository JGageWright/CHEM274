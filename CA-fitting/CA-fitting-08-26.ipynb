{
 "cells": [
  {
   "cell_type": "code",
   "execution_count": 1,
   "id": "c080dfdd-fe7d-46dd-9894-6d03e10a6265",
   "metadata": {},
   "outputs": [
    {
     "data": {
      "text/plain": [
       "'/Users/edwardmu/OneDrive - Stanford/Classes/Chem 274 - Echem Lab/Project/Github/CHEM274-new/CHEM274-20211204'"
      ]
     },
     "execution_count": 1,
     "metadata": {},
     "output_type": "execute_result"
    }
   ],
   "source": [
    "import pandas as pd\n",
    "import matplotlib.pyplot as plt\n",
    "%matplotlib inline\n",
    "import numpy as np\n",
    "import os\n",
    "from scipy.optimize import curve_fit\n",
    "os.getcwd()"
   ]
  },
  {
   "cell_type": "code",
   "execution_count": 2,
   "id": "f107aaa3-4995-424f-acd5-067110600057",
   "metadata": {},
   "outputs": [
    {
     "data": {
      "text/html": [
       "<div>\n",
       "<style scoped>\n",
       "    .dataframe tbody tr th:only-of-type {\n",
       "        vertical-align: middle;\n",
       "    }\n",
       "\n",
       "    .dataframe tbody tr th {\n",
       "        vertical-align: top;\n",
       "    }\n",
       "\n",
       "    .dataframe thead th {\n",
       "        text-align: right;\n",
       "    }\n",
       "</style>\n",
       "<table border=\"1\" class=\"dataframe\">\n",
       "  <thead>\n",
       "    <tr style=\"text-align: right;\">\n",
       "      <th></th>\n",
       "      <th>Unnamed: 0</th>\n",
       "      <th>E_program</th>\n",
       "      <th>Ecell</th>\n",
       "      <th>iw</th>\n",
       "      <th>t</th>\n",
       "    </tr>\n",
       "  </thead>\n",
       "  <tbody>\n",
       "    <tr>\n",
       "      <th>0</th>\n",
       "      <td>0</td>\n",
       "      <td>1.2</td>\n",
       "      <td>1.199932</td>\n",
       "      <td>0.000008</td>\n",
       "      <td>0.000000</td>\n",
       "    </tr>\n",
       "    <tr>\n",
       "      <th>1</th>\n",
       "      <td>1</td>\n",
       "      <td>1.2</td>\n",
       "      <td>1.200260</td>\n",
       "      <td>0.000008</td>\n",
       "      <td>0.000278</td>\n",
       "    </tr>\n",
       "    <tr>\n",
       "      <th>2</th>\n",
       "      <td>2</td>\n",
       "      <td>1.2</td>\n",
       "      <td>1.200589</td>\n",
       "      <td>0.000008</td>\n",
       "      <td>0.000556</td>\n",
       "    </tr>\n",
       "    <tr>\n",
       "      <th>3</th>\n",
       "      <td>3</td>\n",
       "      <td>1.2</td>\n",
       "      <td>1.199932</td>\n",
       "      <td>0.000008</td>\n",
       "      <td>0.000833</td>\n",
       "    </tr>\n",
       "    <tr>\n",
       "      <th>4</th>\n",
       "      <td>4</td>\n",
       "      <td>1.2</td>\n",
       "      <td>1.200589</td>\n",
       "      <td>0.000008</td>\n",
       "      <td>0.001111</td>\n",
       "    </tr>\n",
       "    <tr>\n",
       "      <th>...</th>\n",
       "      <td>...</td>\n",
       "      <td>...</td>\n",
       "      <td>...</td>\n",
       "      <td>...</td>\n",
       "      <td>...</td>\n",
       "    </tr>\n",
       "    <tr>\n",
       "      <th>32395</th>\n",
       "      <td>32395</td>\n",
       "      <td>1.2</td>\n",
       "      <td>1.200589</td>\n",
       "      <td>0.000008</td>\n",
       "      <td>8.998611</td>\n",
       "    </tr>\n",
       "    <tr>\n",
       "      <th>32396</th>\n",
       "      <td>32396</td>\n",
       "      <td>1.2</td>\n",
       "      <td>1.200589</td>\n",
       "      <td>0.000008</td>\n",
       "      <td>8.998889</td>\n",
       "    </tr>\n",
       "    <tr>\n",
       "      <th>32397</th>\n",
       "      <td>32397</td>\n",
       "      <td>1.2</td>\n",
       "      <td>1.200260</td>\n",
       "      <td>0.000008</td>\n",
       "      <td>8.999167</td>\n",
       "    </tr>\n",
       "    <tr>\n",
       "      <th>32398</th>\n",
       "      <td>32398</td>\n",
       "      <td>1.2</td>\n",
       "      <td>1.200918</td>\n",
       "      <td>0.000009</td>\n",
       "      <td>8.999444</td>\n",
       "    </tr>\n",
       "    <tr>\n",
       "      <th>32399</th>\n",
       "      <td>32399</td>\n",
       "      <td>1.2</td>\n",
       "      <td>1.200589</td>\n",
       "      <td>0.000009</td>\n",
       "      <td>8.999722</td>\n",
       "    </tr>\n",
       "  </tbody>\n",
       "</table>\n",
       "<p>32400 rows × 5 columns</p>\n",
       "</div>"
      ],
      "text/plain": [
       "       Unnamed: 0  E_program     Ecell        iw         t\n",
       "0               0        1.2  1.199932  0.000008  0.000000\n",
       "1               1        1.2  1.200260  0.000008  0.000278\n",
       "2               2        1.2  1.200589  0.000008  0.000556\n",
       "3               3        1.2  1.199932  0.000008  0.000833\n",
       "4               4        1.2  1.200589  0.000008  0.001111\n",
       "...           ...        ...       ...       ...       ...\n",
       "32395       32395        1.2  1.200589  0.000008  8.998611\n",
       "32396       32396        1.2  1.200589  0.000008  8.998889\n",
       "32397       32397        1.2  1.200260  0.000008  8.999167\n",
       "32398       32398        1.2  1.200918  0.000009  8.999444\n",
       "32399       32399        1.2  1.200589  0.000009  8.999722\n",
       "\n",
       "[32400 rows x 5 columns]"
      ]
     },
     "execution_count": 2,
     "metadata": {},
     "output_type": "execute_result"
    }
   ],
   "source": [
    "data = pd.read_csv('data/CA_Fc_GC_mix_1.2V-0V_P-08-26/data.csv', sep=',')\n",
    "data"
   ]
  },
  {
   "cell_type": "code",
   "execution_count": 3,
   "id": "5e7c84b6",
   "metadata": {},
   "outputs": [
    {
     "name": "stdout",
     "output_type": "stream",
     "text": [
      "4.784722222222222\n",
      "0.7836111111111111\n"
     ]
    }
   ],
   "source": [
    "index_max = data['iw'].idxmax()\n",
    "time_max = data.loc[index_max,'t']\n",
    "print(time_max)\n",
    "\n",
    "index_min = data['iw'].idxmin()\n",
    "time_min = data.loc[index_min-1,'t']\n",
    "print(time_min)"
   ]
  },
  {
   "cell_type": "code",
   "execution_count": 8,
   "id": "a4d28069",
   "metadata": {},
   "outputs": [
    {
     "data": {
      "text/plain": [
       "<AxesSubplot:xlabel='t'>"
      ]
     },
     "execution_count": 8,
     "metadata": {},
     "output_type": "execute_result"
    },
    {
     "data": {
      "image/png": "[encoded data removed]",
      "text/plain": [
       "<Figure size 432x288 with 1 Axes>"
      ]
     },
     "metadata": {
      "needs_background": "light"
     },
     "output_type": "display_data"
    }
   ],
   "source": [
    "data.plot('t', 'iw')"
   ]
  },
  {
   "cell_type": "code",
   "execution_count": 9,
   "id": "6d05756f-e2c8-4a63-ae01-8daccc10130b",
   "metadata": {},
   "outputs": [
    {
     "name": "stdout",
     "output_type": "stream",
     "text": [
      "0.00298679\n"
     ]
    }
   ],
   "source": [
    "# In E4, near optimal values of Rm and Cm were:\n",
    "Rm = 10000 #10 kOhm\n",
    "Cm = 100e-9 #100 nF\n",
    "pstat_time_constant = Rm*Cm\n",
    "\n",
    "# From an EIS spectrum of Fc in 1:1 MeCN:MeAc, Ru and Cdl are approximately:\n",
    "Ru = 4.03e+02\n",
    "Cdl = 4.93e-06\n",
    "cell_time_constant = Ru*Cdl\n",
    "\n",
    "#Value of the combined time constant tau\n",
    "\n",
    "print(cell_time_constant + pstat_time_constant)"
   ]
  },
  {
   "cell_type": "code",
   "execution_count": 10,
   "id": "b1a9ebf1-c299-4412-abee-4faa60899b22",
   "metadata": {},
   "outputs": [],
   "source": [
    "pot_step_time = time_min # step time start in s\n",
    "pot_rest_time = time_max # rest time start in s\n",
    "\n",
    "# For both of these capacitors to charge, we should ignore data before at least 5τ of each:\n",
    "fit_start_time = pot_step_time + (5 * (cell_time_constant + pstat_time_constant))\n",
    "\n",
    "# Fit until 5 ms before the rest step\n",
    "fit_times = data[data['t'].between(fit_start_time, pot_rest_time - 0.005)]['t'].to_numpy()\n",
    "fit_currents = data[data['t'].between(fit_start_time, pot_rest_time - 0.005)]['iw'].to_numpy()\n",
    "\n",
    "fit_times_no_offset = fit_times - pot_step_time\n",
    "#print(fit_times_no_offset)"
   ]
  },
  {
   "cell_type": "code",
   "execution_count": 14,
   "id": "37768ce3-f6e8-4bb8-89d7-1c43a8c31164",
   "metadata": {},
   "outputs": [
    {
     "name": "stdout",
     "output_type": "stream",
     "text": [
      "a = -2.906E-05\n",
      "D = 4.620E-05 cm^2 s^-1\n"
     ]
    },
    {
     "data": {
      "text/plain": [
       "<matplotlib.legend.Legend at 0x7fbb00583190>"
      ]
     },
     "execution_count": 14,
     "metadata": {},
     "output_type": "execute_result"
    },
    {
     "data": {
      "image/png": "[encoded data removed]",
      "text/plain": [
       "<Figure size 1080x720 with 1 Axes>"
      ]
     },
     "metadata": {
      "needs_background": "light"
     },
     "output_type": "display_data"
    }
   ],
   "source": [
    "#Defines a function for curve_fit to fit to\n",
    "\n",
    "def Empirical_Cottrell(t, a):\n",
    "    return a / np.sqrt(t)\n",
    "\n",
    "#Implementing curve_fit to solve for the empirical Cottrell prefactor a\n",
    "\n",
    "guess_prefactor = 1e-10\n",
    "fit_prefactor, cov = curve_fit(Empirical_Cottrell, fit_times_no_offset, fit_currents, guess_prefactor)\n",
    "print('a = {0:.3E}'.format(fit_prefactor[0]))\n",
    "\n",
    "#Calculating the diffusion constant D based on the fitted prefactor a, and the Cottrell Equation\n",
    "\n",
    "a = fit_prefactor[0]\n",
    "n = 1\n",
    "F = 96485 #C/mol\n",
    "A = np.pi*2.5**2/1000**2 #m^2\n",
    "C_bulk = 0.4 #mol*m^-2\n",
    "D = (a**2 * np.pi) / (n*F*A*C_bulk)**2 * 100**2 #cm^2/s\n",
    "print('D = {0:.3E}'.format(D) + ' cm^2 s^-1')\n",
    "\n",
    "#Plotting the chronoamperometry curve with the Cottrell Equation fit\n",
    "\n",
    "fig, ax = plt.subplots(figsize = (15,10))\n",
    "ax.scatter(data['t'], data['iw'], label = 'Data', color = 'lightblue')\n",
    "ax.set_ylabel('$i_w$ / A', fontsize = 15)\n",
    "ax.set_xlabel('t / s', fontsize = 15)\n",
    "#ax.set_xlim(.99, 2.01)\n",
    "ax.plot(fit_times, Empirical_Cottrell(fit_times_no_offset,a), color='red', label = 'Cottrell Equation Fit - Forward Step', linewidth=3)\n",
    "ax.legend(fontsize = 15)"
   ]
  },
  {
   "cell_type": "code",
   "execution_count": 13,
   "id": "57acccec-46a8-4754-ac83-74406757a1c7",
   "metadata": {},
   "outputs": [
    {
     "name": "stdout",
     "output_type": "stream",
     "text": [
      "b = 2.822E-05\n",
      "D = 4.357E-05 cm^2 s^-1\n"
     ]
    },
    {
     "data": {
      "text/plain": [
       "<matplotlib.legend.Legend at 0x7fbad1e9cfd0>"
      ]
     },
     "execution_count": 13,
     "metadata": {},
     "output_type": "execute_result"
    },
    {
     "data": {
      "image/png": "[encoded data removed]",
      "text/plain": [
       "<Figure size 1080x720 with 1 Axes>"
      ]
     },
     "metadata": {
      "needs_background": "light"
     },
     "output_type": "display_data"
    }
   ],
   "source": [
    "#Now Fitting the Return step.\n",
    "\n",
    "pot_step_time_2 = time_max # step time start in s\n",
    "pot_rest_time_2 = data.iloc[-1,-1] # rest time start in s\n",
    "\n",
    "# For both of these capacitors to charge, we should ignore data before at least 5τ of each:\n",
    "fit_start_time_2 = pot_step_time_2 + (5 * (cell_time_constant + pstat_time_constant))\n",
    "\n",
    "# Fit until 5 ms before the rest step\n",
    "fit_times_2 = data[data['t'].between(fit_start_time_2, pot_rest_time_2 - 0.005)]['t'].to_numpy()\n",
    "fit_currents_2 = data[data['t'].between(fit_start_time_2, pot_rest_time_2 - 0.005)]['iw'].to_numpy()\n",
    "\n",
    "fit_times_no_offset_2 = fit_times_2 - pot_step_time_2\n",
    "fit_times_no_offset_2\n",
    "\n",
    "#Implementing curve_fit to solve for the empirical Cottrell prefactor b\n",
    "\n",
    "guess_prefactor_2 = 1e-10\n",
    "fit_prefactor_2, cov_2 = curve_fit(Empirical_Cottrell, fit_times_no_offset_2, fit_currents_2, guess_prefactor_2)\n",
    "print('b = {0:.3E}'.format(fit_prefactor_2[0]))\n",
    "\n",
    "#Calculating the diffusion constant D based on the fitted prefactor b, and the Cottrell Equation\n",
    "\n",
    "b = fit_prefactor_2[0]\n",
    "n = 1\n",
    "F = 96485 #C/mol\n",
    "A = np.pi*2.5**2/1000**2 #m^2\n",
    "C_bulk = 0.4 #mol*m^-2\n",
    "D = (b**2 * np.pi) / (n*F*A*C_bulk)**2 * 100**2 #cm^2/s\n",
    "print('D = {0:.3E}'.format(D) + ' cm^2 s^-1')\n",
    "\n",
    "#Plotting the chronoamperometry curve with the Cottrell Equation fit\n",
    "\n",
    "fig, ax = plt.subplots(figsize = (15,10))\n",
    "ax.scatter(data['t'], data['iw'], label = 'Data', color = 'lightblue')\n",
    "ax.set_ylabel('$i_w$ / A', fontsize = 15)\n",
    "ax.set_xlabel('t / s', fontsize = 15)\n",
    "#ax.set_xlim(.99, 2.01)\n",
    "ax.plot(fit_times, Empirical_Cottrell(fit_times_no_offset,a), color='red', label = 'Cottrell Equation Fit - Forward Step', linewidth=3)\n",
    "ax.plot(fit_times_2, Empirical_Cottrell(fit_times_no_offset_2,b), color='purple', label = 'Cottrell Equation Fit - Return Step', linewidth=3)\n",
    "ax.legend(fontsize = 15)"
   ]
  },
  {
   "cell_type": "code",
   "execution_count": null,
   "id": "2f10b3de",
   "metadata": {},
   "outputs": [],
   "source": []
  },
  {
   "cell_type": "code",
   "execution_count": null,
   "id": "bb2368cb",
   "metadata": {},
   "outputs": [],
   "source": []
  }
 ],
 "metadata": {
  "kernelspec": {
   "display_name": "Python 3",
   "language": "python",
   "name": "python3"
  },
  "language_info": {
   "codemirror_mode": {
    "name": "ipython",
    "version": 3
   },
   "file_extension": ".py",
   "mimetype": "text/x-python",
   "name": "python",
   "nbconvert_exporter": "python",
   "pygments_lexer": "ipython3",
   "version": "3.8.8"
  }
 },
 "nbformat": 4,
 "nbformat_minor": 5
}
