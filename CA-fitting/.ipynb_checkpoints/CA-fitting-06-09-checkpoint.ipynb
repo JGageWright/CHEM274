{
 "cells": [
  {
   "cell_type": "code",
   "execution_count": 1,
   "id": "c080dfdd-fe7d-46dd-9894-6d03e10a6265",
   "metadata": {},
   "outputs": [
    {
     "data": {
      "text/plain": [
       "'/Users/edwardmu/OneDrive - Stanford/Classes/Chem 274 - Echem Lab/Project/Github/CHEM274-20211130'"
      ]
     },
     "execution_count": 1,
     "metadata": {},
     "output_type": "execute_result"
    }
   ],
   "source": [
    "import pandas as pd\n",
    "import matplotlib.pyplot as plt\n",
    "%matplotlib inline\n",
    "import numpy as np\n",
    "import os\n",
    "from scipy.optimize import curve_fit\n",
    "os.getcwd()"
   ]
  },
  {
   "cell_type": "code",
   "execution_count": 216,
   "id": "f107aaa3-4995-424f-acd5-067110600057",
   "metadata": {},
   "outputs": [
    {
     "data": {
      "text/html": [
       "<div>\n",
       "<style scoped>\n",
       "    .dataframe tbody tr th:only-of-type {\n",
       "        vertical-align: middle;\n",
       "    }\n",
       "\n",
       "    .dataframe tbody tr th {\n",
       "        vertical-align: top;\n",
       "    }\n",
       "\n",
       "    .dataframe thead th {\n",
       "        text-align: right;\n",
       "    }\n",
       "</style>\n",
       "<table border=\"1\" class=\"dataframe\">\n",
       "  <thead>\n",
       "    <tr style=\"text-align: right;\">\n",
       "      <th></th>\n",
       "      <th>Unnamed: 0</th>\n",
       "      <th>E_program</th>\n",
       "      <th>Ecell</th>\n",
       "      <th>iw</th>\n",
       "      <th>t</th>\n",
       "    </tr>\n",
       "  </thead>\n",
       "  <tbody>\n",
       "    <tr>\n",
       "      <th>0</th>\n",
       "      <td>0</td>\n",
       "      <td>0.0</td>\n",
       "      <td>0.000015</td>\n",
       "      <td>3.442151e-07</td>\n",
       "      <td>0.000000</td>\n",
       "    </tr>\n",
       "    <tr>\n",
       "      <th>1</th>\n",
       "      <td>1</td>\n",
       "      <td>0.0</td>\n",
       "      <td>0.000673</td>\n",
       "      <td>-3.136978e-07</td>\n",
       "      <td>0.000278</td>\n",
       "    </tr>\n",
       "    <tr>\n",
       "      <th>2</th>\n",
       "      <td>2</td>\n",
       "      <td>0.0</td>\n",
       "      <td>0.000344</td>\n",
       "      <td>1.525869e-08</td>\n",
       "      <td>0.000556</td>\n",
       "    </tr>\n",
       "    <tr>\n",
       "      <th>3</th>\n",
       "      <td>3</td>\n",
       "      <td>0.0</td>\n",
       "      <td>0.000344</td>\n",
       "      <td>3.442151e-07</td>\n",
       "      <td>0.000833</td>\n",
       "    </tr>\n",
       "    <tr>\n",
       "      <th>4</th>\n",
       "      <td>4</td>\n",
       "      <td>0.0</td>\n",
       "      <td>0.000015</td>\n",
       "      <td>3.442151e-07</td>\n",
       "      <td>0.001111</td>\n",
       "    </tr>\n",
       "    <tr>\n",
       "      <th>...</th>\n",
       "      <td>...</td>\n",
       "      <td>...</td>\n",
       "      <td>...</td>\n",
       "      <td>...</td>\n",
       "      <td>...</td>\n",
       "    </tr>\n",
       "    <tr>\n",
       "      <th>25195</th>\n",
       "      <td>25195</td>\n",
       "      <td>0.0</td>\n",
       "      <td>0.000344</td>\n",
       "      <td>-1.958480e-06</td>\n",
       "      <td>6.998611</td>\n",
       "    </tr>\n",
       "    <tr>\n",
       "      <th>25196</th>\n",
       "      <td>25196</td>\n",
       "      <td>0.0</td>\n",
       "      <td>0.000344</td>\n",
       "      <td>-2.616393e-06</td>\n",
       "      <td>6.998889</td>\n",
       "    </tr>\n",
       "    <tr>\n",
       "      <th>25197</th>\n",
       "      <td>25197</td>\n",
       "      <td>0.0</td>\n",
       "      <td>0.000015</td>\n",
       "      <td>-2.616393e-06</td>\n",
       "      <td>6.999167</td>\n",
       "    </tr>\n",
       "    <tr>\n",
       "      <th>25198</th>\n",
       "      <td>25198</td>\n",
       "      <td>0.0</td>\n",
       "      <td>0.000344</td>\n",
       "      <td>-2.616393e-06</td>\n",
       "      <td>6.999444</td>\n",
       "    </tr>\n",
       "    <tr>\n",
       "      <th>25199</th>\n",
       "      <td>25199</td>\n",
       "      <td>0.0</td>\n",
       "      <td>0.000344</td>\n",
       "      <td>-2.287436e-06</td>\n",
       "      <td>6.999722</td>\n",
       "    </tr>\n",
       "  </tbody>\n",
       "</table>\n",
       "<p>25200 rows × 5 columns</p>\n",
       "</div>"
      ],
      "text/plain": [
       "       Unnamed: 0  E_program     Ecell            iw         t\n",
       "0               0        0.0  0.000015  3.442151e-07  0.000000\n",
       "1               1        0.0  0.000673 -3.136978e-07  0.000278\n",
       "2               2        0.0  0.000344  1.525869e-08  0.000556\n",
       "3               3        0.0  0.000344  3.442151e-07  0.000833\n",
       "4               4        0.0  0.000015  3.442151e-07  0.001111\n",
       "...           ...        ...       ...           ...       ...\n",
       "25195       25195        0.0  0.000344 -1.958480e-06  6.998611\n",
       "25196       25196        0.0  0.000344 -2.616393e-06  6.998889\n",
       "25197       25197        0.0  0.000015 -2.616393e-06  6.999167\n",
       "25198       25198        0.0  0.000344 -2.616393e-06  6.999444\n",
       "25199       25199        0.0  0.000344 -2.287436e-06  6.999722\n",
       "\n",
       "[25200 rows x 5 columns]"
      ]
     },
     "execution_count": 216,
     "metadata": {},
     "output_type": "execute_result"
    }
   ],
   "source": [
    "data = pd.read_csv('data/CA_Fc_GC_MeCN_0V-1.2V_P-06-09/data.csv', sep=',')\n",
    "data"
   ]
  },
  {
   "cell_type": "code",
   "execution_count": 1,
   "id": "5e7c84b6",
   "metadata": {},
   "outputs": [
    {
     "ename": "NameError",
     "evalue": "name 'data' is not defined",
     "output_type": "error",
     "traceback": [
      "\u001b[0;31m---------------------------------------------------------------------------\u001b[0m",
      "\u001b[0;31mNameError\u001b[0m                                 Traceback (most recent call last)",
      "\u001b[0;32m<ipython-input-1-a21684b07075>\u001b[0m in \u001b[0;36m<module>\u001b[0;34m\u001b[0m\n\u001b[0;32m----> 1\u001b[0;31m \u001b[0mindex_max\u001b[0m \u001b[0;34m=\u001b[0m \u001b[0mdata\u001b[0m\u001b[0;34m[\u001b[0m\u001b[0;34m'iw'\u001b[0m\u001b[0;34m]\u001b[0m\u001b[0;34m.\u001b[0m\u001b[0midxmax\u001b[0m\u001b[0;34m(\u001b[0m\u001b[0;34m)\u001b[0m\u001b[0;34m\u001b[0m\u001b[0;34m\u001b[0m\u001b[0m\n\u001b[0m\u001b[1;32m      2\u001b[0m \u001b[0mtime_max\u001b[0m \u001b[0;34m=\u001b[0m \u001b[0mdata\u001b[0m\u001b[0;34m.\u001b[0m\u001b[0mloc\u001b[0m\u001b[0;34m[\u001b[0m\u001b[0mindex_max\u001b[0m\u001b[0;34m,\u001b[0m\u001b[0;34m't'\u001b[0m\u001b[0;34m]\u001b[0m\u001b[0;34m\u001b[0m\u001b[0;34m\u001b[0m\u001b[0m\n\u001b[1;32m      3\u001b[0m \u001b[0mprint\u001b[0m\u001b[0;34m(\u001b[0m\u001b[0mtime_max\u001b[0m\u001b[0;34m)\u001b[0m\u001b[0;34m\u001b[0m\u001b[0;34m\u001b[0m\u001b[0m\n\u001b[1;32m      4\u001b[0m \u001b[0;34m\u001b[0m\u001b[0m\n\u001b[1;32m      5\u001b[0m \u001b[0mindex_min\u001b[0m \u001b[0;34m=\u001b[0m \u001b[0mdata\u001b[0m\u001b[0;34m[\u001b[0m\u001b[0;34m'iw'\u001b[0m\u001b[0;34m]\u001b[0m\u001b[0;34m.\u001b[0m\u001b[0midxmin\u001b[0m\u001b[0;34m(\u001b[0m\u001b[0;34m)\u001b[0m\u001b[0;34m\u001b[0m\u001b[0;34m\u001b[0m\u001b[0m\n",
      "\u001b[0;31mNameError\u001b[0m: name 'data' is not defined"
     ]
    }
   ],
   "source": [
    "index_max = data['iw'].idxmax()\n",
    "time_max = data.loc[index_max,'t']\n",
    "print(time_max)\n",
    "\n",
    "index_min = data['iw'].idxmin()\n",
    "time_min = data.loc[index_min-1,'t']\n",
    "print(time_min)"
   ]
  },
  {
   "cell_type": "code",
   "execution_count": 218,
   "id": "6d05756f-e2c8-4a63-ae01-8daccc10130b",
   "metadata": {},
   "outputs": [
    {
     "name": "stdout",
     "output_type": "stream",
     "text": [
      "0.0034274\n"
     ]
    }
   ],
   "source": [
    "# In E4, near optimal values of Rm and Cm were:\n",
    "Rm = 10000 #10 kOhm\n",
    "Cm = 100e-9 #100 nF\n",
    "pstat_time_constant = Rm*Cm\n",
    "\n",
    "# From Fe(acac)3 data in wet MeCN, Ru and Cdl were approximately:\n",
    "Ru = 530\n",
    "Cdl = 4.58e-6\n",
    "cell_time_constant = Ru*Cdl\n",
    "\n",
    "#Value of the combined time constant tau\n",
    "\n",
    "print(cell_time_constant + pstat_time_constant)"
   ]
  },
  {
   "cell_type": "code",
   "execution_count": 219,
   "id": "b1a9ebf1-c299-4412-abee-4faa60899b22",
   "metadata": {},
   "outputs": [],
   "source": [
    "pot_step_time = time_max # step time start in s\n",
    "pot_rest_time = time_min # rest time start in s\n",
    "\n",
    "# For both of these capacitors to charge, we should ignore data before at least 5τ of each:\n",
    "fit_start_time = pot_step_time + (5 * (cell_time_constant + pstat_time_constant))\n",
    "\n",
    "# Fit until 5 ms before the rest step\n",
    "fit_times = data[data['t'].between(fit_start_time, pot_rest_time - 0.005)]['t'].to_numpy()\n",
    "fit_currents = data[data['t'].between(fit_start_time, pot_rest_time - 0.005)]['iw'].to_numpy()\n",
    "\n",
    "fit_times_no_offset = fit_times - pot_step_time\n",
    "#print(fit_times_no_offset)"
   ]
  },
  {
   "cell_type": "code",
   "execution_count": 220,
   "id": "37768ce3-f6e8-4bb8-89d7-1c43a8c31164",
   "metadata": {},
   "outputs": [
    {
     "name": "stdout",
     "output_type": "stream",
     "text": [
      "a = 1.768E-05\n",
      "D = 1.710E-05 cm^2 s^-1\n"
     ]
    },
    {
     "data": {
      "text/plain": [
       "<matplotlib.legend.Legend at 0x7fc9d89719d0>"
      ]
     },
     "execution_count": 220,
     "metadata": {},
     "output_type": "execute_result"
    },
    {
     "data": {
      "image/png": "[encoded data removed]",
      "text/plain": [
       "<Figure size 1080x720 with 1 Axes>"
      ]
     },
     "metadata": {
      "needs_background": "light"
     },
     "output_type": "display_data"
    }
   ],
   "source": [
    "#Defines a function for curve_fit to fit to\n",
    "\n",
    "def Empirical_Cottrell(t, a):\n",
    "    return a / np.sqrt(t)\n",
    "\n",
    "#Implementing curve_fit to solve for the empirical Cottrell prefactor a\n",
    "\n",
    "guess_prefactor = 1e-10\n",
    "fit_prefactor, cov = curve_fit(Empirical_Cottrell, fit_times_no_offset, fit_currents, guess_prefactor)\n",
    "print('a = {0:.3E}'.format(fit_prefactor[0]))\n",
    "\n",
    "#Calculating the diffusion constant D based on the fitted prefactor a, and the Cottrell Equation\n",
    "\n",
    "a = fit_prefactor[0]\n",
    "n = 1\n",
    "F = 96485 #C/mol\n",
    "A = np.pi*2.5**2/1000**2 #m^2\n",
    "C_bulk = 0.4 #mol*m^-2\n",
    "D = (a**2 * np.pi) / (n*F*A*C_bulk)**2 * 100**2 #cm^2/s\n",
    "print('D = {0:.3E}'.format(D) + ' cm^2 s^-1')\n",
    "\n",
    "#Plotting the chronoamperometry curve with the Cottrell Equation fit\n",
    "\n",
    "fig, ax = plt.subplots(figsize = (15,10))\n",
    "ax.scatter(data['t'], data['iw'], label = 'Data', color = 'greenyellow')\n",
    "ax.set_ylabel('$i_w$ / A', fontsize = 15)\n",
    "ax.set_xlabel('t / s', fontsize = 15)\n",
    "#ax.set_xlim(.99, 2.01)\n",
    "ax.plot(fit_times, Empirical_Cottrell(fit_times_no_offset,a), color='red', label = 'Cottrell Equation Fit - Forward Step', linewidth=3)\n",
    "ax.legend(fontsize = 15)"
   ]
  },
  {
   "cell_type": "code",
   "execution_count": 222,
   "id": "57acccec-46a8-4754-ac83-74406757a1c7",
   "metadata": {},
   "outputs": [
    {
     "name": "stdout",
     "output_type": "stream",
     "text": [
      "b = -1.176E-05\n",
      "D = 7.569E-06 cm^2 s^-1\n"
     ]
    },
    {
     "data": {
      "text/plain": [
       "<matplotlib.legend.Legend at 0x7fc9a33de790>"
      ]
     },
     "execution_count": 222,
     "metadata": {},
     "output_type": "execute_result"
    },
    {
     "data": {
      "image/png": "[encoded data removed]",
      "text/plain": [
       "<Figure size 1080x720 with 1 Axes>"
      ]
     },
     "metadata": {
      "needs_background": "light"
     },
     "output_type": "display_data"
    }
   ],
   "source": [
    "#Now Fitting the Return step.\n",
    "\n",
    "pot_step_time_2 = time_min # step time start in s\n",
    "pot_rest_time_2 = data.iloc[-1,-1] # rest time start in s\n",
    "\n",
    "# For both of these capacitors to charge, we should ignore data before at least 5τ of each:\n",
    "fit_start_time_2 = pot_step_time_2 + (5 * (cell_time_constant + pstat_time_constant))\n",
    "\n",
    "# Fit until 5 ms before the rest step\n",
    "fit_times_2 = data[data['t'].between(fit_start_time_2, pot_rest_time_2 - 0.005)]['t'].to_numpy()\n",
    "fit_currents_2 = data[data['t'].between(fit_start_time_2, pot_rest_time_2 - 0.005)]['iw'].to_numpy()\n",
    "\n",
    "fit_times_no_offset_2 = fit_times_2 - pot_step_time_2\n",
    "fit_times_no_offset_2\n",
    "\n",
    "#Implementing curve_fit to solve for the empirical Cottrell prefactor b\n",
    "\n",
    "guess_prefactor_2 = 1e-10\n",
    "fit_prefactor_2, cov_2 = curve_fit(Empirical_Cottrell, fit_times_no_offset_2, fit_currents_2, guess_prefactor_2)\n",
    "print('b = {0:.3E}'.format(fit_prefactor_2[0]))\n",
    "\n",
    "#Calculating the diffusion constant D based on the fitted prefactor b, and the Cottrell Equation\n",
    "\n",
    "b = fit_prefactor_2[0]\n",
    "n = 1\n",
    "F = 96485 #C/mol\n",
    "A = np.pi*2.5**2/1000**2 #m^2\n",
    "C_bulk = 0.4 #mol*m^-2\n",
    "D = (b**2 * np.pi) / (n*F*A*C_bulk)**2 * 100**2 #cm^2/s\n",
    "print('D = {0:.3E}'.format(D) + ' cm^2 s^-1')\n",
    "\n",
    "#Plotting the chronoamperometry curve with the Cottrell Equation fit\n",
    "\n",
    "fig, ax = plt.subplots(figsize = (15,10))\n",
    "ax.scatter(data['t'], data['iw'], label = 'Data', color = 'greenyellow')\n",
    "ax.set_ylabel('$i_w$ / A', fontsize = 15)\n",
    "ax.set_xlabel('t / s', fontsize = 15)\n",
    "#ax.set_xlim(.99, 2.01)\n",
    "ax.plot(fit_times, Empirical_Cottrell(fit_times_no_offset,a), color='red', label = 'Cottrell Equation Fit - Forward Step', linewidth=3)\n",
    "ax.plot(fit_times_2, Empirical_Cottrell(fit_times_no_offset_2,b), color='purple', label = 'Cottrell Equation Fit - Return Step', linewidth=3)\n",
    "ax.legend(fontsize = 15)"
   ]
  },
  {
   "cell_type": "code",
   "execution_count": null,
   "id": "2f10b3de",
   "metadata": {},
   "outputs": [],
   "source": []
  }
 ],
 "metadata": {
  "kernelspec": {
   "display_name": "Python 3",
   "language": "python",
   "name": "python3"
  },
  "language_info": {
   "codemirror_mode": {
    "name": "ipython",
    "version": 3
   },
   "file_extension": ".py",
   "mimetype": "text/x-python",
   "name": "python",
   "nbconvert_exporter": "python",
   "pygments_lexer": "ipython3",
   "version": "3.8.8"
  }
 },
 "nbformat": 4,
 "nbformat_minor": 5
}
